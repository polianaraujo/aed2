{
 "cells": [
  {
   "cell_type": "markdown",
   "metadata": {},
   "source": [
    "# Problemas de Pesquisa de Árvore Binária (BST)"
   ]
  },
  {
   "cell_type": "markdown",
   "metadata": {},
   "source": [
    "## 1.0 Introdução"
   ]
  },
  {
   "cell_type": "markdown",
   "metadata": {},
   "source": [
    "Agora, vamos nos concentrar em problemas relacionados a Árvores de Busca Binária (BST).  \n",
    "\n",
    "Estou animado para apresentar a você um conjunto de questões de entrevista de programação organizadas em três níveis de dificuldade: 🔥 Difícil, ⚠️ Médio e 😃 Fácil. Cada questão vem com uma descrição, a estrutura de dados relacionada, dicas e um código inicial com seu respectivo teste unitário.  \n",
    "\n",
    "Embora essas questões possam parecer desafiadoras, encorajo você a abordá-las com uma atitude positiva e mente aberta. Lembre-se de que o processo de resolver essas questões é tão importante quanto encontrar a resposta. Por meio desse processo, você desenvolverá suas habilidades de resolução de problemas, fortalecerá sua compreensão sobre estruturas de dados e aprimorará suas habilidades de programação.  \n",
    "\n",
    "Enquanto trabalha nessas questões, recomendo que você co-crie as soluções com a ajuda do ChatGPT. O ChatGPT é uma ferramenta poderosa que pode oferecer orientações, feedback e recursos adicionais para apoiar sua jornada de aprendizado. Não hesite em pedir ajuda ao ChatGPT caso fique travado ou precise de esclarecimentos adicionais.  \n",
    "\n",
    "Além disso, sugiro colaborar com seus colegas de classe para resolver essas questões. Trabalhar em grupo pode proporcionar um ambiente de aprendizado colaborativo, onde você pode trocar ideias, aprender diferentes perspectivas e desenvolver suas habilidades de comunicação."
   ]
  },
  {
   "cell_type": "code",
   "execution_count": null,
   "metadata": {},
   "outputs": [],
   "source": [
    "# install dependencies\n",
    "%pip install pytest pytest-sugar"
   ]
  },
  {
   "cell_type": "markdown",
   "metadata": {},
   "source": [
    "**2.0 Árvore de Busca Binária (Binary Search Tree)**  \n",
    "**Validar Três Nós**  \n",
    "**Dificuldade:** ⚠️ Médio a Difícil  \n",
    "\n",
    "Você tem três nós que estão contidos na mesma Árvore de Busca Binária: `nodeOne`, `nodeTwo` e `nodeThree`.  \n",
    "\n",
    "> Escreva uma função que retorne um valor booleano indicando se um dos nós (`nodeOne` ou `nodeThree`) é um **ancestral** de `nodeTwo`, enquanto o outro nó é um **descendente** de `nodeTwo`.  \n",
    "\n",
    "- Por exemplo, se sua função determinar que `nodeOne` é um ancestral de `nodeTwo`, ela deve verificar se `nodeThree` é um descendente de `nodeTwo`.  \n",
    "- Se sua função determinar que `nodeThree` é um ancestral, ela deve verificar se `nodeOne` é um descendente.  \n",
    "\n",
    "Um **descendente** de um nó \\( N \\) é definido como um nó contido na árvore cuja raiz é \\( N \\). Um nó \\( N \\) é um **ancestral** de outro nó \\( M \\) se \\( M \\) for um descendente de \\( N \\).  \n",
    "\n",
    "### Detalhes Garantidos  \n",
    "- Não é garantido que `nodeOne` ou `nodeThree` sejam ancestrais ou descendentes de `nodeTwo`.  \n",
    "- É garantido que os três nós serão únicos e nunca serão `None` ou nulos. Em outras palavras, você sempre receberá nós válidos como entrada.  \n",
    "- Cada nó de uma Árvore de Busca Binária (BST) possui:  \n",
    "  - Um valor inteiro (`value`),  \n",
    "  - Um nó filho à esquerda (`left`),  \n",
    "  - Um nó filho à direita (`right`).  \n",
    "- Um nó é considerado válido em uma BST se e somente se satisfizer as seguintes propriedades:  \n",
    "  - Seu valor é estritamente maior que os valores de todos os nós à sua esquerda;  \n",
    "  - Seu valor é menor ou igual aos valores de todos os nós à sua direita;  \n",
    "  - Seus nós filhos também são válidos ou `None`.  "
   ]
  },
  {
   "cell_type": "code",
   "execution_count": null,
   "metadata": {},
   "outputs": [],
   "source": []
  }
 ],
 "metadata": {
  "language_info": {
   "name": "python"
  }
 },
 "nbformat": 4,
 "nbformat_minor": 2
}
