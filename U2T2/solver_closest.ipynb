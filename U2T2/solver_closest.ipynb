{
 "cells": [
  {
   "cell_type": "markdown",
   "metadata": {},
   "source": [
    "# Encontre o Valor Mais Próximo na BST"
   ]
  },
  {
   "cell_type": "markdown",
   "metadata": {},
   "source": [
    "Escreva uma função que recebe uma Árvore de Busca Binária (BST) e um valor inteiro alvo e retorna o valor mais próximo a esse valor alvo contido na BST.\n",
    "\n",
    "Você pode assumir que haverá apenas um valor mais próximo.\n",
    "\n",
    "Cada nó da BST tem um valor inteiro, um nó filho esquerdo e um nó filho direito. Um nó é considerado um nó válido da BST se e somente se satisfizer a propriedade da BST:\n",
    "\n",
    "- Seu valor é estritamente maior que os valores de todos os nós à sua esquerda;\n",
    "- Seu valor é menor ou igual aos valores de todos os nós à sua direita;\n",
    "- Seus nós filhos são ou nós válidos da BST ou None/nulo."
   ]
  },
  {
   "cell_type": "markdown",
   "metadata": {},
   "source": [
    "## Exemplo de entrada"
   ]
  },
  {
   "cell_type": "code",
   "execution_count": 96,
   "metadata": {},
   "outputs": [],
   "source": [
    "'''\n",
    "tree =   10\n",
    "       /     \\\n",
    "      5       15\n",
    "    /   \\   /   \\\n",
    "   2    5  13    22\n",
    "  /          \\\n",
    " 1           14\n",
    "'''\n",
    "target = 12"
   ]
  },
  {
   "cell_type": "markdown",
   "metadata": {},
   "source": [
    "## Exemplo de saída"
   ]
  },
  {
   "cell_type": "code",
   "execution_count": 2,
   "metadata": {},
   "outputs": [
    {
     "data": {
      "text/plain": [
       "13"
      ]
     },
     "execution_count": 2,
     "metadata": {},
     "output_type": "execute_result"
    }
   ],
   "source": [
    "13"
   ]
  },
  {
   "cell_type": "markdown",
   "metadata": {},
   "source": [
    "**Dica 1**\n",
    "\n",
    "Tente percorrer a árvore BST nó por nó, mantendo o controle do nó com o valor mais próximo ao valor alvo. Calcular o valor absoluto da diferença entre o valor de um nó e o valor alvo deve permitir que você verifique se aquele nó está mais próximo do que o nó mais próximo atual.\n",
    "\n",
    "**Dica 2**\n",
    "\n",
    "Faça uso da propriedade da BST para determinar de qual lado de qualquer nó dado estão os valores próximos ao valor alvo e, portanto, que vale a pena explorar.\n",
    "\n",
    "**Dica 3**\n",
    "\n",
    "Quais são as vantagens e desvantagens de resolver este problema de forma iterativa em vez de recursiva?\n",
    "\n",
    "**Complexidade Ótima de Tempo e Espaço**\n",
    "\n",
    "- Média: O(log(N)) tempo | O(1) espaço.\n",
    " > onde n é o número de nós na BST.\n",
    "- Pior caso: O(n) tempo | O(1) espaço\n",
    " > onde n é o número de nós na BST."
   ]
  },
  {
   "cell_type": "markdown",
   "metadata": {},
   "source": [
    "## Definição de classes"
   ]
  },
  {
   "cell_type": "code",
   "execution_count": 98,
   "metadata": {},
   "outputs": [
    {
     "name": "stdout",
     "output_type": "stream",
     "text": [
      "Requirement already satisfied: pytest in c:\\users\\polia\\appdata\\local\\programs\\python\\python310\\lib\\site-packages (8.3.4)\n",
      "Requirement already satisfied: pytest-sugar in c:\\users\\polia\\appdata\\local\\programs\\python\\python310\\lib\\site-packages (1.0.0)\n",
      "Requirement already satisfied: colorama in c:\\users\\polia\\appdata\\roaming\\python\\python310\\site-packages (from pytest) (0.4.6)\n",
      "Requirement already satisfied: exceptiongroup>=1.0.0rc8 in c:\\users\\polia\\appdata\\roaming\\python\\python310\\site-packages (from pytest) (1.2.2)\n",
      "Requirement already satisfied: iniconfig in c:\\users\\polia\\appdata\\local\\programs\\python\\python310\\lib\\site-packages (from pytest) (2.0.0)\n",
      "Requirement already satisfied: packaging in c:\\users\\polia\\appdata\\roaming\\python\\python310\\site-packages (from pytest) (24.1)\n",
      "Requirement already satisfied: pluggy<2,>=1.5 in c:\\users\\polia\\appdata\\local\\programs\\python\\python310\\lib\\site-packages (from pytest) (1.5.0)\n",
      "Requirement already satisfied: tomli>=1 in c:\\users\\polia\\appdata\\local\\programs\\python\\python310\\lib\\site-packages (from pytest) (2.2.1)\n",
      "Requirement already satisfied: termcolor>=2.1.0 in c:\\users\\polia\\appdata\\local\\programs\\python\\python310\\lib\\site-packages (from pytest-sugar) (2.5.0)\n"
     ]
    }
   ],
   "source": [
    "!pip install pytest pytest-sugar"
   ]
  },
  {
   "cell_type": "code",
   "execution_count": 99,
   "metadata": {},
   "outputs": [],
   "source": [
    "import pytest\n",
    "import time\n",
    "import matplotlib.pyplot as plt\n",
    "import numpy as np\n",
    "import plotly.graph_objects as go\n",
    "\n",
    "\n",
    "# Definindo a classe da árvore binária de busca (BST)\n",
    "class BST:\n",
    "    class Node:\n",
    "        def __init__(self, value):\n",
    "            self.value = value\n",
    "            self.left = None\n",
    "            self.right = None\n",
    "\n",
    "    def __init__(self):\n",
    "        self.root = None\n",
    "\n",
    "    def add(self, value):\n",
    "        if not self.root:\n",
    "            self.root = self.Node(value)\n",
    "        else:\n",
    "            self._add(self.root, value)\n",
    "\n",
    "    def _add(self, node, value):\n",
    "        if value < node.value:\n",
    "            if node.left is None:\n",
    "                node.left = self.Node(value)\n",
    "            else:\n",
    "                self._add(node.left, value)\n",
    "        else:\n",
    "            if node.right is None:\n",
    "                node.right = self.Node(value)\n",
    "            else:\n",
    "                self._add(node.right, value)\n",
    "\n",
    "    def in_order(self, node=None):\n",
    "        if node is None:\n",
    "            node = self.root\n",
    "        elements = []\n",
    "        if node.left:\n",
    "            elements.extend(self.in_order(node.left))\n",
    "        elements.append(node.value)\n",
    "        if node.right:\n",
    "            elements.extend(self.in_order(node.right))\n",
    "        return elements\n",
    "\n",
    "# Função para encontrar o valor mais próximo ao target na árvore binária de busca\n",
    "def find_closest_value(bst, target):\n",
    "    return _find_closest_value(bst.root, target, float('inf'), None)\n",
    "\n",
    "def _find_closest_value(node, target, closest_diff, closest_value):\n",
    "    if node is None:\n",
    "        return closest_value\n",
    "    \n",
    "    current_diff = abs(node.value - target)\n",
    "    \n",
    "    if current_diff < closest_diff:\n",
    "        closest_diff = current_diff\n",
    "        closest_value = node.value\n",
    "    \n",
    "    if target < node.value:\n",
    "        return _find_closest_value(node.left, target, closest_diff, closest_value)\n",
    "    elif target > node.value:\n",
    "        return _find_closest_value(node.right, target, closest_diff, closest_value)\n",
    "    else:\n",
    "        return closest_value\n",
    "\n",
    "\n",
    "# Testes da função find_closest_value\n",
    "def test_find_closest_value():\n",
    "    bst = BST()\n",
    "    for value in [15, 5, 20, 17, 22, 2, 5, 1, 3]:\n",
    "        bst.add(value)\n",
    "\n",
    "    # Testes de valores próximos\n",
    "    assert find_closest_value(bst, 18) == 17  # Mais próximo de 18\n",
    "    assert find_closest_value(bst, 10) == 5   # Mais próximo de 10\n",
    "    assert find_closest_value(bst, 1) == 1    # O valor exato (1)\n",
    "\n",
    "# Função para medir o tempo de execução\n",
    "def measure_execution_time(array_sizes, num_trials, target):\n",
    "    times = []\n",
    "    for size in array_sizes:\n",
    "        total_time = 0\n",
    "        trial_times = []\n",
    "        for _ in range(num_trials):\n",
    "            # Gerar dados aleatórios e adicionar ao BST\n",
    "            data = np.random.randint(1, 1000, size=size)\n",
    "            bst = BST()\n",
    "            for value in data:\n",
    "                bst.add(value)\n",
    "            \n",
    "            # Medição do tempo para encontrar o valor mais próximo de 'target'\n",
    "            start_time = time.time()\n",
    "            find_closest_value(bst, target)\n",
    "            end_time = time.time()\n",
    "            \n",
    "            trial_time = end_time - start_time\n",
    "            trial_times.append(trial_time)\n",
    "            total_time += trial_time\n",
    "\n",
    "        # Calcular o tempo médio e o intervalo de confiança\n",
    "        mean_time = total_time / num_trials\n",
    "        conf_interval = np.std(trial_times) / np.sqrt(num_trials)  # Intervalo de confiança\n",
    "        times.append((mean_time, conf_interval))\n",
    "\n",
    "    return times\n",
    "\n",
    "# Função para plotar os tempos de execução\n",
    "def plot_execution_times(array_sizes, times):\n",
    "    mean_times = [t[0] for t in times]\n",
    "    conf_intervals = [t[1] for t in times]\n",
    "\n",
    "    fig = go.Figure()\n",
    "    fig.add_trace(go.Scatter(\n",
    "        x=array_sizes,\n",
    "        y=mean_times,\n",
    "        mode='lines+markers',\n",
    "        name='Execution Time',\n",
    "        error_y=dict(type='data', array=conf_intervals, visible=True)\n",
    "    ))\n",
    "\n",
    "    fig.update_layout(\n",
    "        title=\"Execution Time vs Input Size\",\n",
    "        xaxis=dict(title=\"Input Size\"),\n",
    "        yaxis=dict(title=\"Execution Time (s)\"),\n",
    "        template=\"plotly_white\"\n",
    "    )\n",
    "    fig.show()\n"
   ]
  },
  {
   "cell_type": "code",
   "execution_count": 100,
   "metadata": {},
   "outputs": [],
   "source": [
    "%run -i binarysearchtree.py"
   ]
  },
  {
   "cell_type": "code",
   "execution_count": 101,
   "metadata": {},
   "outputs": [],
   "source": [
    "def test_find_kth_largest_value():\n",
    "    bst = BST()\n",
    "    for value in [15, 5, 20, 17, 22, 2, 5, 1, 3]:\n",
    "        bst.add(value)\n",
    "    assert find_closest_value(bst, 3) == 17\n",
    "    assert find_closest_value(bst, 1) == 22\n",
    "    assert find_closest_value(bst, 5) == 5\n",
    "\n",
    "\n",
    "@pytest.fixture(scope=\"session\")\n",
    "def test_performance():\n",
    "    array_sizes = [100, 200, 300, 400, 500, 600, 700, 800, 900, 1000]\n",
    "    times = measure_execution_time(array_sizes, num_trials=10, k=5)\n",
    "    plot_execution_times(array_sizes, times)"
   ]
  },
  {
   "cell_type": "code",
   "execution_count": 102,
   "metadata": {},
   "outputs": [],
   "source": [
    "import pytest\n",
    "from binarysearchtree import *  # Importando as classes Node e BST\n",
    "\n",
    "def findClosestValue(tree, target):\n",
    "    \"\"\"\n",
    "    Finds the value in a binary search tree that is closest to the given target value.\n",
    "    \n",
    "    This function begins the search for the closest value from the root of the binary search tree.\n",
    "    It works by recursively (or sequentially) exploring the tree, narrowing down the search based on the target value\n",
    "    and the current node's value. The closest value is constantly updated throughout the search process.\n",
    "\n",
    "    Parameters:\n",
    "    tree (BinarySearchTree): The binary search tree object in which to find the closest value.\n",
    "                             It is expected to have a 'root' attribute that points to the root node of the tree.\n",
    "    target (int or float): The target value for which the closest value in the binary search tree is sought.\n",
    "\n",
    "    Returns:\n",
    "    int or float: The value in the binary search tree that is closest to the target value.\n",
    "    \"\"\"\n",
    "    return findClosestValueInBstHelper(tree.root, target, tree.root.value)\n",
    "\n",
    "def findClosestValueInBstHelper(node, target, closest):\n",
    "    if node is None:\n",
    "        return closest\n",
    "    if abs(target - closest) > abs(target - node.value):\n",
    "        closest = node.value\n",
    "    if target < node.value:\n",
    "        return findClosestValueInBstHelper(node.left_child, target, closest)  # Corrigido: 'left_child' em vez de 'left'\n",
    "    elif target > node.value:\n",
    "        return findClosestValueInBstHelper(node.right_child, target, closest)  # Corrigido: 'right_child' em vez de 'right'\n",
    "    else:\n",
    "        return closest\n",
    "\n",
    "\n",
    "@pytest.fixture(scope=\"session\")\n",
    "def data():\n",
    "    array = [[10, 5, 15, 13, 22, 14, 2, 5, 1],\n",
    "             [100, 5, 502, 204, 55000, 1001, 4500, 203, 205, 207,\n",
    "              206, 208, 2, 15, 5, 22, 57, 60, 1, 3, -51, 1, 1, 1, 1, 1, -403]\n",
    "             ]\n",
    "    return array\n",
    "\n",
    "def test_1(data):\n",
    "    bst = BST()\n",
    "    for value in data[0]:\n",
    "      bst.add(value)\n",
    "    assert findClosestValue(bst, 12) == 13\n",
    "\n",
    "def test_2(data):\n",
    "    bst = BST()\n",
    "    for value in data[1]:\n",
    "      bst.add(value)\n",
    "    assert findClosestValue(bst, 100) == 100\n",
    "\n",
    "def test_3(data):\n",
    "    bst = BST()\n",
    "    for value in data[1]:\n",
    "      bst.add(value)\n",
    "    assert findClosestValue(bst, 208) == 208\n",
    "\n",
    "def test_4(data):\n",
    "    bst = BST()\n",
    "    for value in data[1]:\n",
    "      bst.add(value)\n",
    "    assert findClosestValue(bst, 4500) == 4500\n",
    "\n",
    "def test_5(data):\n",
    "    bst = BST()\n",
    "    for value in data[1]:\n",
    "      bst.add(value)\n",
    "    assert findClosestValue(bst, 4501) == 4500\n",
    "\n",
    "def test_6(data):\n",
    "    bst = BST()\n",
    "    for value in data[1]:\n",
    "      bst.add(value)\n",
    "    assert findClosestValue(bst, -70) == -51\n",
    "\n",
    "def test_7(data):\n",
    "    bst = BST()\n",
    "    for value in data[1]:\n",
    "      bst.add(value)\n",
    "    assert findClosestValue(bst, 2000) == 1001\n",
    "\n",
    "def test_8(data):\n",
    "    bst = BST()\n",
    "    for value in data[1]:\n",
    "      bst.add(value)\n",
    "    assert findClosestValue(bst, 6) == 5\n",
    "\n",
    "def test_9(data):\n",
    "    bst = BST()\n",
    "    for value in data[1]:\n",
    "      bst.add(value)\n",
    "    assert findClosestValue(bst, 30000) == 55000\n",
    "\n",
    "def test_10(data):\n",
    "    bst = BST()\n",
    "    for value in data[1]:\n",
    "      bst.add(value)\n",
    "    assert findClosestValue(bst, -1) == 1\n",
    "\n",
    "def test_11(data):\n",
    "    bst = BST()\n",
    "    for value in data[1]:\n",
    "      bst.add(value)\n",
    "    assert findClosestValue(bst, 29751) == 55000\n",
    "\n",
    "def test_12(data):\n",
    "    bst = BST()\n",
    "    for value in data[1]:\n",
    "      bst.add(value)\n",
    "    assert findClosestValue(bst, 29749) == 4500\n"
   ]
  },
  {
   "cell_type": "code",
   "execution_count": 103,
   "metadata": {},
   "outputs": [
    {
     "name": "stdout",
     "output_type": "stream",
     "text": [
      "\u001b[1m============================= test session starts =============================\u001b[0m\n",
      "platform win32 -- Python 3.10.11, pytest-8.3.4, pluggy-1.5.0 -- C:\\Users\\polia\\AppData\\Local\\Programs\\Python\\Python310\\python.exe\n",
      "cachedir: .pytest_cache\n",
      "rootdir: c:\\Users\\polia\\OneDrive\\Documentos\\repos\\aed2\\U2T2\n",
      "plugins: sugar-1.0.0\n",
      "\u001b[1mcollecting ... \u001b[0mcollected 11 items\n",
      "\n",
      "closestvalue.py::test_1 \u001b[32mPASSED\u001b[0m\u001b[32m                                           [  9%]\u001b[0m\n",
      "closestvalue.py::test_2 \u001b[32mPASSED\u001b[0m\u001b[32m                                           [ 18%]\u001b[0m\n",
      "closestvalue.py::test_3 \u001b[32mPASSED\u001b[0m\u001b[32m                                           [ 27%]\u001b[0m\n",
      "closestvalue.py::test_4 \u001b[32mPASSED\u001b[0m\u001b[32m                                           [ 36%]\u001b[0m\n",
      "closestvalue.py::test_5 \u001b[32mPASSED\u001b[0m\u001b[32m                                           [ 45%]\u001b[0m\n",
      "closestvalue.py::test_6 \u001b[32mPASSED\u001b[0m\u001b[32m                                           [ 54%]\u001b[0m\n",
      "closestvalue.py::test_7 \u001b[32mPASSED\u001b[0m\u001b[32m                                           [ 63%]\u001b[0m\n",
      "closestvalue.py::test_8 \u001b[32mPASSED\u001b[0m\u001b[32m                                           [ 72%]\u001b[0m\n",
      "closestvalue.py::test_9 \u001b[32mPASSED\u001b[0m\u001b[32m                                           [ 81%]\u001b[0m\n",
      "closestvalue.py::test_10 \u001b[32mPASSED\u001b[0m\u001b[32m                                          [ 90%]\u001b[0m\n",
      "closestvalue.py::test_11 \u001b[32mPASSED\u001b[0m\u001b[32m                                          [100%]\u001b[0m\n",
      "\n",
      "\u001b[32m============================= \u001b[32m\u001b[1m11 passed\u001b[0m\u001b[32m in 0.02s\u001b[0m\u001b[32m ==============================\u001b[0m\n"
     ]
    }
   ],
   "source": [
    "!pytest closestvalue.py -vv"
   ]
  },
  {
   "cell_type": "code",
   "execution_count": 104,
   "metadata": {},
   "outputs": [
    {
     "ename": "NameError",
     "evalue": "name 'size' is not defined",
     "output_type": "error",
     "traceback": [
      "\u001b[1;31m---------------------------------------------------------------------------\u001b[0m",
      "\u001b[1;31mNameError\u001b[0m                                 Traceback (most recent call last)",
      "Cell \u001b[1;32mIn[104], line 1\u001b[0m\n\u001b[1;32m----> 1\u001b[0m \u001b[38;5;28mprint\u001b[39m(\u001b[38;5;124mf\u001b[39m\u001b[38;5;124m\"\u001b[39m\u001b[38;5;124mArray size: \u001b[39m\u001b[38;5;132;01m{\u001b[39;00m\u001b[43msize\u001b[49m\u001b[38;5;132;01m}\u001b[39;00m\u001b[38;5;124m, Mean Time: \u001b[39m\u001b[38;5;132;01m{\u001b[39;00mmean_time\u001b[38;5;132;01m}\u001b[39;00m\u001b[38;5;124m, Confidence Interval: \u001b[39m\u001b[38;5;132;01m{\u001b[39;00mconf_interval\u001b[38;5;132;01m}\u001b[39;00m\u001b[38;5;124m\"\u001b[39m)\n",
      "\u001b[1;31mNameError\u001b[0m: name 'size' is not defined"
     ]
    }
   ],
   "source": [
    "print(f\"Array size: {size}, Mean Time: {mean_time}, Confidence Interval: {conf_interval}\")"
   ]
  },
  {
   "cell_type": "code",
   "execution_count": null,
   "metadata": {},
   "outputs": [
    {
     "ename": "AttributeError",
     "evalue": "'Node' object has no attribute 'left'",
     "output_type": "error",
     "traceback": [
      "\u001b[1;31m---------------------------------------------------------------------------\u001b[0m",
      "\u001b[1;31mAttributeError\u001b[0m                            Traceback (most recent call last)",
      "Cell \u001b[1;32mIn[94], line 2\u001b[0m\n\u001b[0;32m      1\u001b[0m array_sizes \u001b[38;5;241m=\u001b[39m [\u001b[38;5;241m100\u001b[39m, \u001b[38;5;241m200\u001b[39m, \u001b[38;5;241m300\u001b[39m, \u001b[38;5;241m400\u001b[39m, \u001b[38;5;241m500\u001b[39m, \u001b[38;5;241m600\u001b[39m, \u001b[38;5;241m700\u001b[39m, \u001b[38;5;241m800\u001b[39m, \u001b[38;5;241m900\u001b[39m, \u001b[38;5;241m1000\u001b[39m]\n\u001b[1;32m----> 2\u001b[0m times \u001b[38;5;241m=\u001b[39m \u001b[43mmeasure_execution_time\u001b[49m\u001b[43m(\u001b[49m\u001b[43marray_sizes\u001b[49m\u001b[43m,\u001b[49m\u001b[43m \u001b[49m\u001b[43mnum_trials\u001b[49m\u001b[38;5;241;43m=\u001b[39;49m\u001b[38;5;241;43m10\u001b[39;49m\u001b[43m,\u001b[49m\u001b[43m \u001b[49m\u001b[43mtarget\u001b[49m\u001b[38;5;241;43m=\u001b[39;49m\u001b[38;5;241;43m250\u001b[39;49m\u001b[43m)\u001b[49m\n\u001b[0;32m      3\u001b[0m plot_execution_times(array_sizes, times)\n",
      "Cell \u001b[1;32mIn[89], line 96\u001b[0m, in \u001b[0;36mmeasure_execution_time\u001b[1;34m(array_sizes, num_trials, target)\u001b[0m\n\u001b[0;32m     94\u001b[0m \u001b[38;5;66;03m# Medição do tempo para encontrar o valor mais próximo de 'target'\u001b[39;00m\n\u001b[0;32m     95\u001b[0m start_time \u001b[38;5;241m=\u001b[39m time\u001b[38;5;241m.\u001b[39mtime()\n\u001b[1;32m---> 96\u001b[0m \u001b[43mfind_closest_value\u001b[49m\u001b[43m(\u001b[49m\u001b[43mbst\u001b[49m\u001b[43m,\u001b[49m\u001b[43m \u001b[49m\u001b[43mtarget\u001b[49m\u001b[43m)\u001b[49m\n\u001b[0;32m     97\u001b[0m end_time \u001b[38;5;241m=\u001b[39m time\u001b[38;5;241m.\u001b[39mtime()\n\u001b[0;32m     99\u001b[0m trial_time \u001b[38;5;241m=\u001b[39m end_time \u001b[38;5;241m-\u001b[39m start_time\n",
      "Cell \u001b[1;32mIn[89], line 50\u001b[0m, in \u001b[0;36mfind_closest_value\u001b[1;34m(bst, target)\u001b[0m\n\u001b[0;32m     49\u001b[0m \u001b[38;5;28;01mdef\u001b[39;00m \u001b[38;5;21mfind_closest_value\u001b[39m(bst, target):\n\u001b[1;32m---> 50\u001b[0m     \u001b[38;5;28;01mreturn\u001b[39;00m \u001b[43m_find_closest_value\u001b[49m\u001b[43m(\u001b[49m\u001b[43mbst\u001b[49m\u001b[38;5;241;43m.\u001b[39;49m\u001b[43mroot\u001b[49m\u001b[43m,\u001b[49m\u001b[43m \u001b[49m\u001b[43mtarget\u001b[49m\u001b[43m,\u001b[49m\u001b[43m \u001b[49m\u001b[38;5;28;43mfloat\u001b[39;49m\u001b[43m(\u001b[49m\u001b[38;5;124;43m'\u001b[39;49m\u001b[38;5;124;43minf\u001b[39;49m\u001b[38;5;124;43m'\u001b[39;49m\u001b[43m)\u001b[49m\u001b[43m,\u001b[49m\u001b[43m \u001b[49m\u001b[38;5;28;43;01mNone\u001b[39;49;00m\u001b[43m)\u001b[49m\n",
      "Cell \u001b[1;32mIn[89], line 63\u001b[0m, in \u001b[0;36m_find_closest_value\u001b[1;34m(node, target, closest_diff, closest_value)\u001b[0m\n\u001b[0;32m     60\u001b[0m     closest_value \u001b[38;5;241m=\u001b[39m node\u001b[38;5;241m.\u001b[39mvalue\n\u001b[0;32m     62\u001b[0m \u001b[38;5;28;01mif\u001b[39;00m target \u001b[38;5;241m<\u001b[39m node\u001b[38;5;241m.\u001b[39mvalue:\n\u001b[1;32m---> 63\u001b[0m     \u001b[38;5;28;01mreturn\u001b[39;00m _find_closest_value(\u001b[43mnode\u001b[49m\u001b[38;5;241;43m.\u001b[39;49m\u001b[43mleft\u001b[49m, target, closest_diff, closest_value)\n\u001b[0;32m     64\u001b[0m \u001b[38;5;28;01melif\u001b[39;00m target \u001b[38;5;241m>\u001b[39m node\u001b[38;5;241m.\u001b[39mvalue:\n\u001b[0;32m     65\u001b[0m     \u001b[38;5;28;01mreturn\u001b[39;00m _find_closest_value(node\u001b[38;5;241m.\u001b[39mright, target, closest_diff, closest_value)\n",
      "\u001b[1;31mAttributeError\u001b[0m: 'Node' object has no attribute 'left'"
     ]
    }
   ],
   "source": [
    "array_sizes = [100, 200, 300, 400, 500, 600, 700, 800, 900, 1000]\n",
    "times = measure_execution_time(array_sizes, num_trials=10, target=250)\n",
    "plot_execution_times(array_sizes, times)"
   ]
  }
 ],
 "metadata": {
  "kernelspec": {
   "display_name": "Python 3",
   "language": "python",
   "name": "python3"
  },
  "language_info": {
   "codemirror_mode": {
    "name": "ipython",
    "version": 3
   },
   "file_extension": ".py",
   "mimetype": "text/x-python",
   "name": "python",
   "nbconvert_exporter": "python",
   "pygments_lexer": "ipython3",
   "version": "3.10.11"
  }
 },
 "nbformat": 4,
 "nbformat_minor": 2
}
