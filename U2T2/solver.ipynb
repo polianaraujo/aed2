{
 "cells": [
  {
   "cell_type": "markdown",
   "metadata": {},
   "source": [
    "# Problemas de Pesquisa de Árvore Binária (BST)"
   ]
  },
  {
   "cell_type": "markdown",
   "metadata": {},
   "source": [
    "## 1.0 Introdução"
   ]
  },
  {
   "cell_type": "markdown",
   "metadata": {},
   "source": [
    "Agora, vamos nos concentrar em problemas relacionados a Árvores de Busca Binária (BST).  \n",
    "\n",
    "Estou animado para apresentar a você um conjunto de questões de entrevista de programação organizadas em três níveis de dificuldade: 🔥 Difícil, ⚠️ Médio e 😃 Fácil. Cada questão vem com uma descrição, a estrutura de dados relacionada, dicas e um código inicial com seu respectivo teste unitário.  \n",
    "\n",
    "Embora essas questões possam parecer desafiadoras, encorajo você a abordá-las com uma atitude positiva e mente aberta. Lembre-se de que o processo de resolver essas questões é tão importante quanto encontrar a resposta. Por meio desse processo, você desenvolverá suas habilidades de resolução de problemas, fortalecerá sua compreensão sobre estruturas de dados e aprimorará suas habilidades de programação.  \n",
    "\n",
    "Enquanto trabalha nessas questões, recomendo que você co-crie as soluções com a ajuda do ChatGPT. O ChatGPT é uma ferramenta poderosa que pode oferecer orientações, feedback e recursos adicionais para apoiar sua jornada de aprendizado. Não hesite em pedir ajuda ao ChatGPT caso fique travado ou precise de esclarecimentos adicionais.  \n",
    "\n",
    "Além disso, sugiro colaborar com seus colegas de classe para resolver essas questões. Trabalhar em grupo pode proporcionar um ambiente de aprendizado colaborativo, onde você pode trocar ideias, aprender diferentes perspectivas e desenvolver suas habilidades de comunicação."
   ]
  },
  {
   "cell_type": "code",
   "execution_count": 9,
   "metadata": {},
   "outputs": [
    {
     "name": "stdout",
     "output_type": "stream",
     "text": [
      "Requirement already satisfied: pytest in c:\\users\\polia\\appdata\\local\\programs\\python\\python310\\lib\\site-packages (8.3.4)\n",
      "Requirement already satisfied: pytest-sugar in c:\\users\\polia\\appdata\\local\\programs\\python\\python310\\lib\\site-packages (1.0.0)\n",
      "Requirement already satisfied: colorama in c:\\users\\polia\\appdata\\roaming\\python\\python310\\site-packages (from pytest) (0.4.6)\n",
      "Requirement already satisfied: exceptiongroup>=1.0.0rc8 in c:\\users\\polia\\appdata\\roaming\\python\\python310\\site-packages (from pytest) (1.2.2)\n",
      "Requirement already satisfied: iniconfig in c:\\users\\polia\\appdata\\local\\programs\\python\\python310\\lib\\site-packages (from pytest) (2.0.0)\n",
      "Requirement already satisfied: packaging in c:\\users\\polia\\appdata\\roaming\\python\\python310\\site-packages (from pytest) (24.1)\n",
      "Requirement already satisfied: pluggy<2,>=1.5 in c:\\users\\polia\\appdata\\local\\programs\\python\\python310\\lib\\site-packages (from pytest) (1.5.0)\n",
      "Requirement already satisfied: tomli>=1 in c:\\users\\polia\\appdata\\local\\programs\\python\\python310\\lib\\site-packages (from pytest) (2.2.1)\n",
      "Requirement already satisfied: termcolor>=2.1.0 in c:\\users\\polia\\appdata\\local\\programs\\python\\python310\\lib\\site-packages (from pytest-sugar) (2.5.0)\n",
      "Note: you may need to restart the kernel to use updated packages.\n"
     ]
    }
   ],
   "source": [
    "# install dependencies\n",
    "%pip install pytest pytest-sugar\n",
    "\n",
    "## pytest\n",
    "# Framework de testes para Python que permite escrever e executar testes facilmente.\n",
    "# Realizar testes automatizados.\n",
    "\n",
    "## pytest-sugar\n",
    "# Plugin para 'pytest' que melhora a visualização dos resultados dos testes.\n",
    "# Interface mais amigável."
   ]
  },
  {
   "cell_type": "markdown",
   "metadata": {},
   "source": [
    "## 2.0 Árvore de Busca Binária (Binary Search Tree)"
   ]
  },
  {
   "cell_type": "markdown",
   "metadata": {},
   "source": [
    "### Validar Três Nós"
   ]
  },
  {
   "cell_type": "markdown",
   "metadata": {},
   "source": [
    "**Dificuldade:** ⚠️ Médio a Difícil  \n",
    "\n",
    "Você tem três nós que estão contidos na mesma Árvore de Busca Binária: `nodeOne`, `nodeTwo` e `nodeThree`.  \n",
    "\n",
    "> Escreva uma função que retorne um valor booleano indicando se um dos nós (`nodeOne` ou `nodeThree`) é um **ancestral** de `nodeTwo`, enquanto o outro nó é um **descendente** de `nodeTwo`.  \n",
    "\n",
    "- Por exemplo, se sua função determinar que `nodeOne` é um ancestral de `nodeTwo`, ela deve verificar se `nodeThree` é um descendente de `nodeTwo`.  \n",
    "- Se sua função determinar que `nodeThree` é um ancestral, ela deve verificar se `nodeOne` é um descendente.  \n",
    "\n",
    "Um **descendente** de um nó \\( N \\) é definido como um nó contido na árvore cuja raiz é \\( N \\). Um nó \\( N \\) é um **ancestral** de outro nó \\( M \\) se \\( M \\) for um descendente de \\( N \\).  \n",
    "\n",
    "Não é garantido que **nodeOne** ou **nodeThree** sejam ancestrais ou descendentes de **nodeTwo**, mas é garantido que todos os três nós serão únicos e nunca serão **None** ou **null**. Em outras palavras, você receberá nós de entrada válidos. Cada nó de uma Árvore de Busca Binária (Binary Search Tree - BST) tem um valor inteiro, um nó filho à esquerda e um nó filho à direita. Um nó é considerado um nó válido de BST se e somente se satisfizer a propriedade da BST:\n",
    "\n",
    "- seu valor é estritamente maior que os valores de todos os nós à sua esquerda;  \n",
    "- seu valor é menor ou igual aos valores de todos os nós à sua direita;  \n",
    "- e seus nós filhos são ou nós BST válidos ou **None/null**."
   ]
  },
  {
   "cell_type": "markdown",
   "metadata": {},
   "source": [
    "### Exemplo de entrada"
   ]
  },
  {
   "cell_type": "code",
   "execution_count": null,
   "metadata": {},
   "outputs": [],
   "source": [
    "'''\n",
    "tree =  5\n",
    "      /   \\\n",
    "     2     7\n",
    "    / \\   / \\\n",
    "   1   4 6   8\n",
    "  /   /\n",
    " 0   3\n",
    "'''"
   ]
  },
  {
   "cell_type": "code",
   "execution_count": 3,
   "metadata": {},
   "outputs": [],
   "source": [
    "# Esta árvore não será realmente passada como entrada; ela está aqui para ajudar você a visualizar o problema.  \n",
    "nodeOne = 5 # O nó real com valor 5\n",
    "nodeTwo = 2 # O nó real com valor 2\n",
    "nodeThree = 3 # O nó real com valor 3."
   ]
  },
  {
   "cell_type": "markdown",
   "metadata": {},
   "source": [
    "### Exemplo de Saída"
   ]
  },
  {
   "cell_type": "code",
   "execution_count": 5,
   "metadata": {},
   "outputs": [
    {
     "data": {
      "text/plain": [
       "True"
      ]
     },
     "execution_count": 5,
     "metadata": {},
     "output_type": "execute_result"
    }
   ],
   "source": [
    "True # nodeOne é um ancestral de nodeTwo, e nodeThree é um descendente de nodeTwo."
   ]
  },
  {
   "cell_type": "markdown",
   "metadata": {},
   "source": [
    "### Dica 1  \n",
    "Lembre-se de que os nós fornecidos a você estão contidos em uma Árvore de Busca Binária (Binary Search Tree - BST), e não apenas em uma Árvore Binária comum. Como isso pode ajudá-lo a percorrer a árvore mais rapidamente?  \n",
    "\n",
    "### Dica 2  \n",
    "Existem várias maneiras de resolver esse problema, mas a mais simples é verificar as possíveis relações entre os nós. Como você está procurando um descendente e um ancestral, basta verificar se **nodeOne** é um descendente de **nodeTwo** e, se for, verificar se **nodeThree** é um ancestral de **nodeTwo**. Se as verificações anteriores forem negativas, verifique se **nodeThree** é um descendente de **nodeTwo** e, se for, verifique se **nodeOne** é um ancestral de **nodeTwo**.  \n",
    "\n",
    "### Dica 3  \n",
    "Embora a abordagem mencionada na Dica #2 seja bastante eficiente (executa-se em tempo O(h), onde **h** é a altura da árvore), existe uma maneira mais rápida de resolver o problema. Ela envolve perceber que, ao procurar por **nodeTwo** a partir de **nodeOne** ou **nodeThree**, se você alcançar **nodeThree** a partir de **nodeOne** ou **nodeOne** a partir de **nodeThree** antes de alcançar **nodeTwo**, você pode interromper o algoritmo imediatamente, porque **nodeTwo** não pode estar entre esses nós."
   ]
  },
  {
   "cell_type": "markdown",
   "metadata": {},
   "source": [
    "### Complexidade Ótima de Espaço e Tempo"
   ]
  },
  {
   "cell_type": "markdown",
   "metadata": {},
   "source": [
    "**Tempo:** O(d) | **Espaço:** O(1) - onde **d** é a distância entre **nodeOne** e **nodeThree**."
   ]
  },
  {
   "cell_type": "markdown",
   "metadata": {},
   "source": [
    "## Definição das Classes"
   ]
  },
  {
   "cell_type": "code",
   "execution_count": 11,
   "metadata": {},
   "outputs": [
    {
     "name": "stdout",
     "output_type": "stream",
     "text": [
      "Overwriting binarysearchtree.py\n"
     ]
    }
   ],
   "source": [
    "%%file binarysearchtree.py\n",
    "import plotly\n",
    "import plotly.graph_objs as go\n",
    "\n",
    "class Node:\n",
    "    \"\"\"\n",
    "    A class representing a node in a binary search tree.\n",
    "\n",
    "    Attributes:\n",
    "    - value: the value of the node\n",
    "    - left_child: the left child of the node\n",
    "    - right_child: the right child of the node\n",
    "    \"\"\"\n",
    "\n",
    "    def __init__(self, value):\n",
    "        \"\"\"\n",
    "        Initializes a new instance of the Node class.\n",
    "\n",
    "        Args:\n",
    "        - value: the value of the node\n",
    "        \"\"\"\n",
    "        self.value = value\n",
    "        self.left_child = None\n",
    "        self.right_child = None\n",
    "\n",
    "\n",
    "class BST:\n",
    "    \"\"\"\n",
    "    A class representing a binary search tree.\n",
    "\n",
    "    Attributes:\n",
    "    - root: the root node of the tree\n",
    "    \"\"\"\n",
    "\n",
    "    def __init__(self):\n",
    "        \"\"\"\n",
    "        Initializes a new instance of the BST class.\n",
    "        \"\"\"\n",
    "        self.root = None\n",
    "\n",
    "    def add(self, value):\n",
    "        \"\"\"\n",
    "        Adds a new node with the given value to the tree.\n",
    "\n",
    "        Args:\n",
    "        - value: the value of the node to add\n",
    "        \"\"\"\n",
    "        if self.root is None:\n",
    "            # The root does exist yet, create it\n",
    "            self.root = Node(value)\n",
    "        else:\n",
    "            # Find the right place and insert new value\n",
    "            self._add_recursive(self.root, value)\n",
    "\n",
    "    def _add_recursive(self, current_node, value):\n",
    "        \"\"\"\n",
    "        A helper method to recursively traverse the tree and find the correct position to add the new node.\n",
    "\n",
    "        Args:\n",
    "        - current_node: the current node to traverse\n",
    "        - value: the value of the node to add\n",
    "        \"\"\"\n",
    "        if value <= current_node.value:\n",
    "            # Go to the left\n",
    "            if current_node.left_child is None:\n",
    "                current_node.left_child = Node(value)\n",
    "            else:\n",
    "                self._add_recursive(current_node.left_child, value)\n",
    "        else:\n",
    "            # Go to the right\n",
    "            if current_node.right_child is None:\n",
    "                current_node.right_child = Node(value)\n",
    "            else:\n",
    "                self._add_recursive(current_node.right_child, value)\n",
    "\n",
    "    def _contains(self, current_node, value):\n",
    "        \"\"\"\n",
    "        A helper method to recursively traverse the tree and find the node with the given value.\n",
    "\n",
    "        Args:\n",
    "        - current_node: the current node to traverse\n",
    "        - value: the value to search for\n",
    "\n",
    "        Returns:\n",
    "        - True if a node with the given value is found, False otherwise\n",
    "        \"\"\"\n",
    "        if current_node is None:\n",
    "            return False\n",
    "        if current_node.value == value:\n",
    "            return True\n",
    "        if value < current_node.value:\n",
    "            return self._contains(current_node.left_child, value)\n",
    "        return self._contains(current_node.right_child, value)\n",
    "\n",
    "    def contains(self, value):\n",
    "        \"\"\"\n",
    "        Checks whether a node with the given value is present in the tree.\n",
    "\n",
    "        Args:\n",
    "        - value: the value to search for\n",
    "\n",
    "        Returns:\n",
    "        - True if a node with the given value is found, False otherwise\n",
    "        \"\"\"\n",
    "        return self._contains(self.root, value)\n",
    "\n",
    "    def plot(self):\n",
    "        \"\"\"\n",
    "        Plots the binary search tree using Plotly.\n",
    "        \"\"\"\n",
    "        if self.root is None:\n",
    "            print(\"The tree is empty!\")\n",
    "            return\n",
    "\n",
    "        # Initialize lists for coordinates and connections\n",
    "        node_coords = []\n",
    "        lines = []\n",
    "\n",
    "        # Helper function to traverse the tree and fill the coordinate and connection lists\n",
    "        def _plot_recursive(node, x, y, offset):\n",
    "            if node is not None:\n",
    "                node_coords.append((x, y, node.value))\n",
    "                if node.left_child is not None:\n",
    "                    new_x = x - offset\n",
    "                    new_y = y - 1\n",
    "                    lines.append((x, y, new_x, new_y))\n",
    "                    _plot_recursive(node.left_child, new_x, new_y, offset / 2)\n",
    "                if node.right_child is not None:\n",
    "                    new_x = x + offset\n",
    "                    new_y = y - 1\n",
    "                    lines.append((x, y, new_x, new_y))\n",
    "                    _plot_recursive(node.right_child, new_x, new_y, offset / 2)\n",
    "\n",
    "        # Traverse the tree starting from the root node\n",
    "        _plot_recursive(self.root, x=0, y=0, offset=0.5)\n",
    "\n",
    "        # Create a scatter plot for the nodes\n",
    "        node_trace = go.Scatter(x=[x for x, y, _ in node_coords],\n",
    "                                y=[y for _, y, _ in node_coords],\n",
    "                                text=[str(val) for _, _, val in node_coords],\n",
    "                                mode='markers+text',\n",
    "                                textposition='top center',\n",
    "                                marker=dict(symbol='circle',\n",
    "                                            size=20,\n",
    "                                            color='darkblue'))\n",
    "\n",
    "        # Create a scatter plot for the connections between nodes\n",
    "        line_trace = go.Scatter(x=sum([[x1, x2, None] for x1, y1, x2, y2 in lines], []),\n",
    "                                y=sum([[y1, y2, None] for x1, y1, x2, y2 in lines], []),\n",
    "                                mode='lines',\n",
    "                                line=dict(color='black'))\n",
    "\n",
    "        # Combine the two scatter plots\n",
    "        layout = go.Layout(title='',\n",
    "                           xaxis=dict(title='', showgrid=False, zeroline=False, showticklabels=False),\n",
    "                           yaxis=dict(title='', showgrid=False, zeroline=False, showticklabels=False),\n",
    "                           showlegend=False)\n",
    "\n",
    "        fig = go.Figure(data=[node_trace, line_trace], layout=layout)\n",
    "        fig.show()"
   ]
  },
  {
   "cell_type": "code",
   "execution_count": 12,
   "metadata": {},
   "outputs": [],
   "source": [
    "%run -i binarysearchtree.py"
   ]
  },
  {
   "cell_type": "code",
   "execution_count": 13,
   "metadata": {},
   "outputs": [
    {
     "data": {
      "application/vnd.plotly.v1+json": {
       "config": {
        "plotlyServerURL": "https://plot.ly"
       },
       "data": [
        {
         "marker": {
          "color": "darkblue",
          "size": 20,
          "symbol": "circle"
         },
         "mode": "markers+text",
         "text": [
          "5",
          "2",
          "1",
          "0",
          "4",
          "3",
          "7",
          "6",
          "8"
         ],
         "textposition": "top center",
         "type": "scatter",
         "x": [
          0,
          -0.5,
          -0.75,
          -0.875,
          -0.25,
          -0.375,
          0.5,
          0.25,
          0.75
         ],
         "y": [
          0,
          -1,
          -2,
          -3,
          -2,
          -3,
          -1,
          -2,
          -2
         ]
        },
        {
         "line": {
          "color": "black"
         },
         "mode": "lines",
         "type": "scatter",
         "x": [
          0,
          -0.5,
          null,
          -0.5,
          -0.75,
          null,
          -0.75,
          -0.875,
          null,
          -0.5,
          -0.25,
          null,
          -0.25,
          -0.375,
          null,
          0,
          0.5,
          null,
          0.5,
          0.25,
          null,
          0.5,
          0.75,
          null
         ],
         "y": [
          0,
          -1,
          null,
          -1,
          -2,
          null,
          -2,
          -3,
          null,
          -1,
          -2,
          null,
          -2,
          -3,
          null,
          0,
          -1,
          null,
          -1,
          -2,
          null,
          -1,
          -2,
          null
         ]
        }
       ],
       "layout": {
        "showlegend": false,
        "template": {
         "data": {
          "bar": [
           {
            "error_x": {
             "color": "#2a3f5f"
            },
            "error_y": {
             "color": "#2a3f5f"
            },
            "marker": {
             "line": {
              "color": "#E5ECF6",
              "width": 0.5
             },
             "pattern": {
              "fillmode": "overlay",
              "size": 10,
              "solidity": 0.2
             }
            },
            "type": "bar"
           }
          ],
          "barpolar": [
           {
            "marker": {
             "line": {
              "color": "#E5ECF6",
              "width": 0.5
             },
             "pattern": {
              "fillmode": "overlay",
              "size": 10,
              "solidity": 0.2
             }
            },
            "type": "barpolar"
           }
          ],
          "carpet": [
           {
            "aaxis": {
             "endlinecolor": "#2a3f5f",
             "gridcolor": "white",
             "linecolor": "white",
             "minorgridcolor": "white",
             "startlinecolor": "#2a3f5f"
            },
            "baxis": {
             "endlinecolor": "#2a3f5f",
             "gridcolor": "white",
             "linecolor": "white",
             "minorgridcolor": "white",
             "startlinecolor": "#2a3f5f"
            },
            "type": "carpet"
           }
          ],
          "choropleth": [
           {
            "colorbar": {
             "outlinewidth": 0,
             "ticks": ""
            },
            "type": "choropleth"
           }
          ],
          "contour": [
           {
            "colorbar": {
             "outlinewidth": 0,
             "ticks": ""
            },
            "colorscale": [
             [
              0,
              "#0d0887"
             ],
             [
              0.1111111111111111,
              "#46039f"
             ],
             [
              0.2222222222222222,
              "#7201a8"
             ],
             [
              0.3333333333333333,
              "#9c179e"
             ],
             [
              0.4444444444444444,
              "#bd3786"
             ],
             [
              0.5555555555555556,
              "#d8576b"
             ],
             [
              0.6666666666666666,
              "#ed7953"
             ],
             [
              0.7777777777777778,
              "#fb9f3a"
             ],
             [
              0.8888888888888888,
              "#fdca26"
             ],
             [
              1,
              "#f0f921"
             ]
            ],
            "type": "contour"
           }
          ],
          "contourcarpet": [
           {
            "colorbar": {
             "outlinewidth": 0,
             "ticks": ""
            },
            "type": "contourcarpet"
           }
          ],
          "heatmap": [
           {
            "colorbar": {
             "outlinewidth": 0,
             "ticks": ""
            },
            "colorscale": [
             [
              0,
              "#0d0887"
             ],
             [
              0.1111111111111111,
              "#46039f"
             ],
             [
              0.2222222222222222,
              "#7201a8"
             ],
             [
              0.3333333333333333,
              "#9c179e"
             ],
             [
              0.4444444444444444,
              "#bd3786"
             ],
             [
              0.5555555555555556,
              "#d8576b"
             ],
             [
              0.6666666666666666,
              "#ed7953"
             ],
             [
              0.7777777777777778,
              "#fb9f3a"
             ],
             [
              0.8888888888888888,
              "#fdca26"
             ],
             [
              1,
              "#f0f921"
             ]
            ],
            "type": "heatmap"
           }
          ],
          "heatmapgl": [
           {
            "colorbar": {
             "outlinewidth": 0,
             "ticks": ""
            },
            "colorscale": [
             [
              0,
              "#0d0887"
             ],
             [
              0.1111111111111111,
              "#46039f"
             ],
             [
              0.2222222222222222,
              "#7201a8"
             ],
             [
              0.3333333333333333,
              "#9c179e"
             ],
             [
              0.4444444444444444,
              "#bd3786"
             ],
             [
              0.5555555555555556,
              "#d8576b"
             ],
             [
              0.6666666666666666,
              "#ed7953"
             ],
             [
              0.7777777777777778,
              "#fb9f3a"
             ],
             [
              0.8888888888888888,
              "#fdca26"
             ],
             [
              1,
              "#f0f921"
             ]
            ],
            "type": "heatmapgl"
           }
          ],
          "histogram": [
           {
            "marker": {
             "pattern": {
              "fillmode": "overlay",
              "size": 10,
              "solidity": 0.2
             }
            },
            "type": "histogram"
           }
          ],
          "histogram2d": [
           {
            "colorbar": {
             "outlinewidth": 0,
             "ticks": ""
            },
            "colorscale": [
             [
              0,
              "#0d0887"
             ],
             [
              0.1111111111111111,
              "#46039f"
             ],
             [
              0.2222222222222222,
              "#7201a8"
             ],
             [
              0.3333333333333333,
              "#9c179e"
             ],
             [
              0.4444444444444444,
              "#bd3786"
             ],
             [
              0.5555555555555556,
              "#d8576b"
             ],
             [
              0.6666666666666666,
              "#ed7953"
             ],
             [
              0.7777777777777778,
              "#fb9f3a"
             ],
             [
              0.8888888888888888,
              "#fdca26"
             ],
             [
              1,
              "#f0f921"
             ]
            ],
            "type": "histogram2d"
           }
          ],
          "histogram2dcontour": [
           {
            "colorbar": {
             "outlinewidth": 0,
             "ticks": ""
            },
            "colorscale": [
             [
              0,
              "#0d0887"
             ],
             [
              0.1111111111111111,
              "#46039f"
             ],
             [
              0.2222222222222222,
              "#7201a8"
             ],
             [
              0.3333333333333333,
              "#9c179e"
             ],
             [
              0.4444444444444444,
              "#bd3786"
             ],
             [
              0.5555555555555556,
              "#d8576b"
             ],
             [
              0.6666666666666666,
              "#ed7953"
             ],
             [
              0.7777777777777778,
              "#fb9f3a"
             ],
             [
              0.8888888888888888,
              "#fdca26"
             ],
             [
              1,
              "#f0f921"
             ]
            ],
            "type": "histogram2dcontour"
           }
          ],
          "mesh3d": [
           {
            "colorbar": {
             "outlinewidth": 0,
             "ticks": ""
            },
            "type": "mesh3d"
           }
          ],
          "parcoords": [
           {
            "line": {
             "colorbar": {
              "outlinewidth": 0,
              "ticks": ""
             }
            },
            "type": "parcoords"
           }
          ],
          "pie": [
           {
            "automargin": true,
            "type": "pie"
           }
          ],
          "scatter": [
           {
            "fillpattern": {
             "fillmode": "overlay",
             "size": 10,
             "solidity": 0.2
            },
            "type": "scatter"
           }
          ],
          "scatter3d": [
           {
            "line": {
             "colorbar": {
              "outlinewidth": 0,
              "ticks": ""
             }
            },
            "marker": {
             "colorbar": {
              "outlinewidth": 0,
              "ticks": ""
             }
            },
            "type": "scatter3d"
           }
          ],
          "scattercarpet": [
           {
            "marker": {
             "colorbar": {
              "outlinewidth": 0,
              "ticks": ""
             }
            },
            "type": "scattercarpet"
           }
          ],
          "scattergeo": [
           {
            "marker": {
             "colorbar": {
              "outlinewidth": 0,
              "ticks": ""
             }
            },
            "type": "scattergeo"
           }
          ],
          "scattergl": [
           {
            "marker": {
             "colorbar": {
              "outlinewidth": 0,
              "ticks": ""
             }
            },
            "type": "scattergl"
           }
          ],
          "scattermapbox": [
           {
            "marker": {
             "colorbar": {
              "outlinewidth": 0,
              "ticks": ""
             }
            },
            "type": "scattermapbox"
           }
          ],
          "scatterpolar": [
           {
            "marker": {
             "colorbar": {
              "outlinewidth": 0,
              "ticks": ""
             }
            },
            "type": "scatterpolar"
           }
          ],
          "scatterpolargl": [
           {
            "marker": {
             "colorbar": {
              "outlinewidth": 0,
              "ticks": ""
             }
            },
            "type": "scatterpolargl"
           }
          ],
          "scatterternary": [
           {
            "marker": {
             "colorbar": {
              "outlinewidth": 0,
              "ticks": ""
             }
            },
            "type": "scatterternary"
           }
          ],
          "surface": [
           {
            "colorbar": {
             "outlinewidth": 0,
             "ticks": ""
            },
            "colorscale": [
             [
              0,
              "#0d0887"
             ],
             [
              0.1111111111111111,
              "#46039f"
             ],
             [
              0.2222222222222222,
              "#7201a8"
             ],
             [
              0.3333333333333333,
              "#9c179e"
             ],
             [
              0.4444444444444444,
              "#bd3786"
             ],
             [
              0.5555555555555556,
              "#d8576b"
             ],
             [
              0.6666666666666666,
              "#ed7953"
             ],
             [
              0.7777777777777778,
              "#fb9f3a"
             ],
             [
              0.8888888888888888,
              "#fdca26"
             ],
             [
              1,
              "#f0f921"
             ]
            ],
            "type": "surface"
           }
          ],
          "table": [
           {
            "cells": {
             "fill": {
              "color": "#EBF0F8"
             },
             "line": {
              "color": "white"
             }
            },
            "header": {
             "fill": {
              "color": "#C8D4E3"
             },
             "line": {
              "color": "white"
             }
            },
            "type": "table"
           }
          ]
         },
         "layout": {
          "annotationdefaults": {
           "arrowcolor": "#2a3f5f",
           "arrowhead": 0,
           "arrowwidth": 1
          },
          "autotypenumbers": "strict",
          "coloraxis": {
           "colorbar": {
            "outlinewidth": 0,
            "ticks": ""
           }
          },
          "colorscale": {
           "diverging": [
            [
             0,
             "#8e0152"
            ],
            [
             0.1,
             "#c51b7d"
            ],
            [
             0.2,
             "#de77ae"
            ],
            [
             0.3,
             "#f1b6da"
            ],
            [
             0.4,
             "#fde0ef"
            ],
            [
             0.5,
             "#f7f7f7"
            ],
            [
             0.6,
             "#e6f5d0"
            ],
            [
             0.7,
             "#b8e186"
            ],
            [
             0.8,
             "#7fbc41"
            ],
            [
             0.9,
             "#4d9221"
            ],
            [
             1,
             "#276419"
            ]
           ],
           "sequential": [
            [
             0,
             "#0d0887"
            ],
            [
             0.1111111111111111,
             "#46039f"
            ],
            [
             0.2222222222222222,
             "#7201a8"
            ],
            [
             0.3333333333333333,
             "#9c179e"
            ],
            [
             0.4444444444444444,
             "#bd3786"
            ],
            [
             0.5555555555555556,
             "#d8576b"
            ],
            [
             0.6666666666666666,
             "#ed7953"
            ],
            [
             0.7777777777777778,
             "#fb9f3a"
            ],
            [
             0.8888888888888888,
             "#fdca26"
            ],
            [
             1,
             "#f0f921"
            ]
           ],
           "sequentialminus": [
            [
             0,
             "#0d0887"
            ],
            [
             0.1111111111111111,
             "#46039f"
            ],
            [
             0.2222222222222222,
             "#7201a8"
            ],
            [
             0.3333333333333333,
             "#9c179e"
            ],
            [
             0.4444444444444444,
             "#bd3786"
            ],
            [
             0.5555555555555556,
             "#d8576b"
            ],
            [
             0.6666666666666666,
             "#ed7953"
            ],
            [
             0.7777777777777778,
             "#fb9f3a"
            ],
            [
             0.8888888888888888,
             "#fdca26"
            ],
            [
             1,
             "#f0f921"
            ]
           ]
          },
          "colorway": [
           "#636efa",
           "#EF553B",
           "#00cc96",
           "#ab63fa",
           "#FFA15A",
           "#19d3f3",
           "#FF6692",
           "#B6E880",
           "#FF97FF",
           "#FECB52"
          ],
          "font": {
           "color": "#2a3f5f"
          },
          "geo": {
           "bgcolor": "white",
           "lakecolor": "white",
           "landcolor": "#E5ECF6",
           "showlakes": true,
           "showland": true,
           "subunitcolor": "white"
          },
          "hoverlabel": {
           "align": "left"
          },
          "hovermode": "closest",
          "mapbox": {
           "style": "light"
          },
          "paper_bgcolor": "white",
          "plot_bgcolor": "#E5ECF6",
          "polar": {
           "angularaxis": {
            "gridcolor": "white",
            "linecolor": "white",
            "ticks": ""
           },
           "bgcolor": "#E5ECF6",
           "radialaxis": {
            "gridcolor": "white",
            "linecolor": "white",
            "ticks": ""
           }
          },
          "scene": {
           "xaxis": {
            "backgroundcolor": "#E5ECF6",
            "gridcolor": "white",
            "gridwidth": 2,
            "linecolor": "white",
            "showbackground": true,
            "ticks": "",
            "zerolinecolor": "white"
           },
           "yaxis": {
            "backgroundcolor": "#E5ECF6",
            "gridcolor": "white",
            "gridwidth": 2,
            "linecolor": "white",
            "showbackground": true,
            "ticks": "",
            "zerolinecolor": "white"
           },
           "zaxis": {
            "backgroundcolor": "#E5ECF6",
            "gridcolor": "white",
            "gridwidth": 2,
            "linecolor": "white",
            "showbackground": true,
            "ticks": "",
            "zerolinecolor": "white"
           }
          },
          "shapedefaults": {
           "line": {
            "color": "#2a3f5f"
           }
          },
          "ternary": {
           "aaxis": {
            "gridcolor": "white",
            "linecolor": "white",
            "ticks": ""
           },
           "baxis": {
            "gridcolor": "white",
            "linecolor": "white",
            "ticks": ""
           },
           "bgcolor": "#E5ECF6",
           "caxis": {
            "gridcolor": "white",
            "linecolor": "white",
            "ticks": ""
           }
          },
          "title": {
           "x": 0.05
          },
          "xaxis": {
           "automargin": true,
           "gridcolor": "white",
           "linecolor": "white",
           "ticks": "",
           "title": {
            "standoff": 15
           },
           "zerolinecolor": "white",
           "zerolinewidth": 2
          },
          "yaxis": {
           "automargin": true,
           "gridcolor": "white",
           "linecolor": "white",
           "ticks": "",
           "title": {
            "standoff": 15
           },
           "zerolinecolor": "white",
           "zerolinewidth": 2
          }
         }
        },
        "title": {
         "text": ""
        },
        "xaxis": {
         "showgrid": false,
         "showticklabels": false,
         "title": {
          "text": ""
         },
         "zeroline": false
        },
        "yaxis": {
         "showgrid": false,
         "showticklabels": false,
         "title": {
          "text": ""
         },
         "zeroline": false
        }
       }
      }
     },
     "metadata": {},
     "output_type": "display_data"
    }
   ],
   "source": [
    "from binarysearchtree import *\n",
    "# Example usage:\n",
    "bst = BST()\n",
    "# for value in [5, 3, 1, 0, 2, 4, 7, 6, 8]:\n",
    "for value in [5, 2, 1, 0, 4, 3, 7, 6, 8]:\n",
    "    bst.add(value)\n",
    "bst.plot()"
   ]
  },
  {
   "cell_type": "code",
   "execution_count": null,
   "metadata": {},
   "outputs": [
    {
     "name": "stdout",
     "output_type": "stream",
     "text": [
      "Overwriting validatethreenodes.py\n"
     ]
    }
   ],
   "source": [
    "%%file validatethreenodes.py\n",
    "import pytest\n",
    "from binarysearchtree import *\n",
    "\n",
    "def validateThreeNodes(bst, valueOne, valueTwo, valueThree):\n",
    "    \"\"\"\n",
    "    Verifica se os três nós dados possuem o relacionamento necessário na Árvore Binária de Busca.\n",
    "\n",
    "    Esta função valida se o nóTwo é um descendente de nóOne e nóThree é um descendente\n",
    "    de nóTwo, ou se nóOne é um descendente de nóTwo e nóThree é um descendente de nóOne.\n",
    "\n",
    "    Parâmetros:\n",
    "    bst (BST): A Árvore Binária de Busca que contém os nós.\n",
    "    valueOne (int): O valor do primeiro nó.\n",
    "    valueTwo (int): O valor do segundo nó.\n",
    "    valueThree (int): O valor do terceiro nó.\n",
    "\n",
    "    Retorna:\n",
    "    bool: True se os nós dados possuem o relacionamento necessário, False caso contrário.\n",
    "    \"\"\"\n",
    "    \n",
    "    # Encontrando os nós no BST com base nos valores fornecidos\n",
    "    nodeOne = find_node(bst.root, valueOne)\n",
    "    nodeTwo = find_node(bst.root, valueTwo)\n",
    "    nodeThree = find_node(bst.root, valueThree)\n",
    "\n",
    "    # Verificando as relações entre os nós\n",
    "    if is_descendant(nodeTwo, nodeOne) and is_descendant(nodeThree, nodeTwo):\n",
    "        return True\n",
    "    if is_descendant(nodeTwo, nodeThree) and is_descendant(nodeOne, nodeTwo):\n",
    "        return True\n",
    "    \n",
    "    return False\n",
    "\n",
    "def is_descendant(node, target):\n",
    "    # Função recursiva para verificar se o nó é descendente do alvo\n",
    "    if not node:\n",
    "        return False\n",
    "    if node == target:\n",
    "        return True\n",
    "    return is_descendant(node.left_child, target) or is_descendant(node.right_child, target)\n",
    "\n",
    "def validateThreeNodes(nodeOne, nodeTwo, nodeThree):\n",
    "    if is_descendant(nodeTwo, nodeOne) and is_descendant(nodeThree, nodeTwo):\n",
    "        return True\n",
    "    if is_descendant(nodeTwo, nodeThree) and is_descendant(nodeOne, nodeTwo):\n",
    "        return True\n",
    "    return False\n",
    "\n",
    "def find_node(root, value):\n",
    "    if root is None or root.value == value:\n",
    "        return root\n",
    "    if value < root.value:\n",
    "        return find_node(root.left_child, value)\n",
    "    return find_node(root.right_child, value)\n",
    "\n",
    "def validateThreeNodes(bst, valueOne, valueTwo, valueThree):\n",
    "    nodeOne = find_node(bst.root, valueOne)\n",
    "    nodeTwo = find_node(bst.root, valueTwo)\n",
    "    nodeThree = find_node(bst.root, valueThree)\n",
    "\n",
    "    if is_descendant(nodeTwo, nodeOne) and is_descendant(nodeThree, nodeTwo):\n",
    "        return True\n",
    "    if is_descendant(nodeTwo, nodeThree) and is_descendant(nodeOne, nodeTwo):\n",
    "        return True\n",
    "    return False\n",
    "\n",
    "\n",
    "@pytest.fixture(scope=\"session\")\n",
    "def data():\n",
    "\n",
    "    array = [[5, 2, 1, 0, 4, 3, 7, 6, 8],\n",
    "             [5, 3, 2, 1, 0, 4, 7, 6, 8],\n",
    "             [5, 3, 2, 1, 0, 4, 7, 6, 8],\n",
    "             [2, 1, 3, 4, 5, 6, 7, 8, 9],\n",
    "             [6, 4, 3, 1, 2, 8, 7, 9],\n",
    "             [2, 1, 3, 4],\n",
    "             [8, 4, 3, 2, 1, 10, 9, 14, 12, 11, 6, 7, 13],\n",
    "             [8, 7, 6, 5, 4, 3, 2, 1, 9],\n",
    "             [3, 2, 1],\n",
    "             [3, 2, 1],\n",
    "             [6, 4, 2, 1, 3, 5, 8, 7, 9],\n",
    "             [10, 6, 5, 3, 1, 2, 4, 8, 7, 9, 15, 14, 13, 11, 12, 18, 17, 16],\n",
    "             [10, 6, 5, 3, 1, 2, 4, 8, 7, 9, 15, 14, 13, 11, 12, 18, 17, 16],\n",
    "             [5, 3, 1, 0, 2, 4, 7, 6, 8],\n",
    "             [5, 3, 1, 0, 2, 4, 7, 6, 8]]\n",
    "    return array\n",
    "\n",
    "def test_1(data):\n",
    "    \"\"\"\n",
    "    Test evaluation for \"nodeOne\": \"5\",\"nodeThree\": \"3\",\"nodeTwo\": \"2\"\n",
    "    \"\"\"\n",
    "    bst = BST()\n",
    "    for value in data[0]:\n",
    "      bst.add(value)\n",
    "    assert validateThreeNodes(bst,5,2,3) == True\n",
    "\n",
    "def test_2(data):\n",
    "    \"\"\"\n",
    "    Test evaluation for \"nodeOne\": \"5\", \"nodeThree\": \"1\", \"nodeTwo\": \"8\",\n",
    "    \"\"\"\n",
    "    bst = BST()\n",
    "    for value in data[1]:\n",
    "      bst.add(value)\n",
    "    assert validateThreeNodes(bst,5,8,1) == False\n",
    "\n",
    "def test_3(data):\n",
    "    \"\"\"\n",
    "    Test evaluation for   \"nodeOne\": \"8\",\"nodeThree\": \"2\",\"nodeTwo\": \"5\",\n",
    "    \"\"\"\n",
    "    bst = BST()\n",
    "    for value in data[2]:\n",
    "      bst.add(value)\n",
    "    assert validateThreeNodes(bst,8,5,2) == False\n",
    "\n",
    "def test_4(data):\n",
    "    \"\"\"\n",
    "    Test evaluation for  \"nodeOne\": \"2\",\"nodeThree\": \"8\",\"nodeTwo\": \"5\"\n",
    "    \"\"\"\n",
    "    bst = BST()\n",
    "    for value in data[3]:\n",
    "      bst.add(value)\n",
    "    assert validateThreeNodes(bst,2,5,8) == True\n",
    "\n",
    "def test_5(data):\n",
    "    \"\"\"\n",
    "    Test evaluation for \"nodeOne\": \"4\", \"nodeThree\": \"2\", \"nodeTwo\": \"1\",\n",
    "    \"\"\"\n",
    "    bst = BST()\n",
    "    for value in data[4]:\n",
    "      bst.add(value)\n",
    "    assert validateThreeNodes(bst,4,1,2) == True\n",
    "\n",
    "def test_6(data):\n",
    "    \"\"\"\n",
    "    Test evaluation for \"nodeOne\": \"1\",\"nodeThree\": \"3\",\"nodeTwo\": \"2\",\n",
    "    \"\"\"\n",
    "    bst = BST()\n",
    "    for value in data[5]:\n",
    "      bst.add(value)\n",
    "    assert validateThreeNodes(bst,1,2,3) == False\n",
    "\n",
    "def test_7(data):\n",
    "    \"\"\"\n",
    "    Test evaluation for \"nodeOne\": \"2\",\"nodeThree\": \"13\",\"nodeTwo\": \"4\"\n",
    "    \"\"\"\n",
    "    bst = BST()\n",
    "    for value in data[6]:\n",
    "      bst.add(value)\n",
    "    assert validateThreeNodes(bst,2,4,13) == False\n",
    "\n",
    "def test_8(data):\n",
    "    \"\"\"\n",
    "    Test evaluation for \"nodeOne\": \"8\",\"nodeThree\": \"1\",\"nodeTwo\": \"7\"\n",
    "    \"\"\"\n",
    "    bst = BST()\n",
    "    for value in data[7]:\n",
    "      bst.add(value)\n",
    "    assert validateThreeNodes(bst,8,7,1) == True\n",
    "\n",
    "def test_9(data):\n",
    "    \"\"\"\n",
    "    Test evaluation for \"nodeOne\": \"2\",\"nodeThree\": \"3\",\"nodeTwo\": \"1\"\n",
    "    \"\"\"\n",
    "    bst = BST()\n",
    "    for value in data[8]:\n",
    "      bst.add(value)\n",
    "    assert validateThreeNodes(bst,2,1,3) == False\n",
    "\n",
    "def test_10(data):\n",
    "    \"\"\"\n",
    "    Test evaluation for \"nodeOne\": \"1\", \"nodeThree\": \"3\", \"nodeTwo\": \"2\"\n",
    "    \"\"\"\n",
    "    bst = BST()\n",
    "    for value in data[9]:\n",
    "      bst.add(value)\n",
    "    assert validateThreeNodes(bst,1,2,3) == True\n",
    "\n",
    "def test_11(data):\n",
    "    \"\"\"\n",
    "    Test evaluation for \"nodeOne\": \"9\",\"nodeThree\": \"6\",\"nodeTwo\": \"8\"\n",
    "    \"\"\"\n",
    "    bst = BST()\n",
    "    for value in data[10]:\n",
    "      bst.add(value)\n",
    "    assert validateThreeNodes(bst,9,8,6) == True\n",
    "\n",
    "def test_12(data):\n",
    "    \"\"\"\n",
    "    Test evaluation for \"nodeOne\": \"12\",\"nodeThree\": \"15\",\"nodeTwo\": \"13\"\n",
    "    \"\"\"\n",
    "    bst = BST()\n",
    "    for value in data[11]:\n",
    "      bst.add(value)\n",
    "    assert validateThreeNodes(bst,12,13,15) == True\n",
    "\n",
    "def test_13(data):\n",
    "    \"\"\"\n",
    "    Test evaluation for \"nodeOne\": \"5\",\"nodeThree\": \"15\",\"nodeTwo\": \"10\"\n",
    "    \"\"\"\n",
    "    bst = BST()\n",
    "    for value in data[12]:\n",
    "      bst.add(value)\n",
    "    assert validateThreeNodes(bst,5,10,15) == False\n",
    "\n",
    "def test_14(data):\n",
    "    \"\"\"\n",
    "    Test evaluation for \"nodeOne\": \"5\",\"nodeThree\": \"4\",\"nodeTwo\": \"3\"\n",
    "    \"\"\"\n",
    "    bst = BST()\n",
    "    for value in data[13]:\n",
    "      bst.add(value)\n",
    "    assert validateThreeNodes(bst,5,3,4) == True\n",
    "\n",
    "def test_15(data):\n",
    "    \"\"\"\n",
    "    Test evaluation for \"nodeOne\": \"5\",\"nodeThree\": \"1\",\"nodeTwo\": \"3\"\n",
    "    \"\"\"\n",
    "    bst = BST()\n",
    "    for value in data[14]:\n",
    "      bst.add(value)\n",
    "    assert validateThreeNodes(bst,5,3,1) == True"
   ]
  },
  {
   "cell_type": "code",
   "execution_count": 16,
   "metadata": {},
   "outputs": [
    {
     "name": "stdout",
     "output_type": "stream",
     "text": [
      "\u001b[1m============================= test session starts =============================\u001b[0m\n",
      "platform win32 -- Python 3.10.11, pytest-8.3.4, pluggy-1.5.0 -- C:\\Users\\polia\\AppData\\Local\\Programs\\Python\\Python310\\python.exe\n",
      "cachedir: .pytest_cache\n",
      "rootdir: c:\\Users\\polia\\OneDrive\\Documentos\\repos\\aed2\\U2T2\n",
      "plugins: sugar-1.0.0\n",
      "\u001b[1mcollecting ... \u001b[0mcollected 15 items\n",
      "\n",
      "validatethreenodes.py::test_1 \u001b[32mPASSED\u001b[0m\u001b[32m                                     [  6%]\u001b[0m\n",
      "validatethreenodes.py::test_2 \u001b[32mPASSED\u001b[0m\u001b[32m                                     [ 13%]\u001b[0m\n",
      "validatethreenodes.py::test_3 \u001b[32mPASSED\u001b[0m\u001b[32m                                     [ 20%]\u001b[0m\n",
      "validatethreenodes.py::test_4 \u001b[32mPASSED\u001b[0m\u001b[32m                                     [ 26%]\u001b[0m\n",
      "validatethreenodes.py::test_5 \u001b[32mPASSED\u001b[0m\u001b[32m                                     [ 33%]\u001b[0m\n",
      "validatethreenodes.py::test_6 \u001b[32mPASSED\u001b[0m\u001b[32m                                     [ 40%]\u001b[0m\n",
      "validatethreenodes.py::test_7 \u001b[32mPASSED\u001b[0m\u001b[32m                                     [ 46%]\u001b[0m\n",
      "validatethreenodes.py::test_8 \u001b[32mPASSED\u001b[0m\u001b[32m                                     [ 53%]\u001b[0m\n",
      "validatethreenodes.py::test_9 \u001b[32mPASSED\u001b[0m\u001b[32m                                     [ 60%]\u001b[0m\n",
      "validatethreenodes.py::test_10 \u001b[32mPASSED\u001b[0m\u001b[32m                                    [ 66%]\u001b[0m\n",
      "validatethreenodes.py::test_11 \u001b[32mPASSED\u001b[0m\u001b[32m                                    [ 73%]\u001b[0m\n",
      "validatethreenodes.py::test_12 \u001b[32mPASSED\u001b[0m\u001b[32m                                    [ 80%]\u001b[0m\n",
      "validatethreenodes.py::test_13 \u001b[32mPASSED\u001b[0m\u001b[32m                                    [ 86%]\u001b[0m\n",
      "validatethreenodes.py::test_14 \u001b[32mPASSED\u001b[0m\u001b[32m                                    [ 93%]\u001b[0m\n",
      "validatethreenodes.py::test_15 \u001b[32mPASSED\u001b[0m\u001b[32m                                    [100%]\u001b[0m\n",
      "\n",
      "\u001b[32m============================= \u001b[32m\u001b[1m15 passed\u001b[0m\u001b[32m in 0.05s\u001b[0m\u001b[32m ==============================\u001b[0m\n"
     ]
    }
   ],
   "source": [
    "!pytest validatethreenodes.py -vv"
   ]
  }
 ],
 "metadata": {
  "kernelspec": {
   "display_name": "Python 3",
   "language": "python",
   "name": "python3"
  },
  "language_info": {
   "codemirror_mode": {
    "name": "ipython",
    "version": 3
   },
   "file_extension": ".py",
   "mimetype": "text/x-python",
   "name": "python",
   "nbconvert_exporter": "python",
   "pygments_lexer": "ipython3",
   "version": "3.10.11"
  }
 },
 "nbformat": 4,
 "nbformat_minor": 2
}
