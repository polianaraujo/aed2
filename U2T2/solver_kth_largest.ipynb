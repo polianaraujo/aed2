{
  "cells": [
    {
      "cell_type": "markdown",
      "metadata": {
        "id": "tSxAN8oFsbeH"
      },
      "source": [
        "# Find Kth Largest Value in BST"
      ]
    },
    {
      "cell_type": "markdown",
      "metadata": {
        "id": "SmWY5ATosljj"
      },
      "source": [
        "Escreva uma função que receba uma **Árvore de Busca Binária (BST)** e um número inteiro positivo **k** e retorne o k-ésimo maior inteiro contido na **BST**.\n",
        "\n",
        "Você pode assumir que haverá apenas valores inteiros na BST e que **k** será menor ou igual ao número de nós na árvore.\n",
        "\n",
        "Além disso, para os fins desta questão, números inteiros duplicados serão tratados como valores distintos. Em outras palavras, o segundo maior valor em uma BST contendo os valores `{5, 7, 7}` será `7`, não `5`.\n",
        "\n",
        "Cada nó de uma **BST** possui um **valor** inteiro, um nó filho **esquerdo** e um nó filho **direito**. Um nó é considerado válido em uma **BST** se e somente se satisfizer a propriedade da **BST**:\n",
        "\n",
        "- seu **valor** é estritamente maior que os valores de todos os nós à sua esquerda;\n",
        "- seu **valor** é menor ou igual aos valores de todos os nós à sua direita;\n",
        "- seus nós filhos são, eles próprios, nós válidos de uma **BST** ou são **None**/**null**."
      ]
    },
    {
      "cell_type": "markdown",
      "metadata": {
        "id": "LGHsyUECs0WU"
      },
      "source": [
        "Sample Input\n",
        "\n",
        "```python\n",
        " tree =   10\n",
        "       /     \\\n",
        "      5       20\n",
        "    /   \\   /   \\\n",
        "   2    5  17    22\n",
        "  / \\       \n",
        " 1   3        \n",
        "\n",
        "k = 3\n",
        "```\n",
        "\n",
        "Sample output\n",
        "\n",
        "```python\n",
        "17\n",
        "```"
      ]
    },
    {
      "cell_type": "markdown",
      "metadata": {
        "id": "WWJpRzTWuOg8"
      },
      "source": [
        "**Hint 1**\n",
        "\n",
        "Make sure to consider the fact that the given tree is a Binary Search Tree - not just a regular Binary Tree. How does this fact help you the problem in a more optimal time complexity?"
      ]
    },
    {
      "cell_type": "markdown",
      "metadata": {
        "id": "BhY862MpuhNE"
      },
      "source": [
        "**Hint 2**\n",
        "\n",
        "The brute-force approach to this problem is to simply perform an in-order traversal of this **BST** and to store all of its node's values in the order in which they're visited. Since an in-order traversal of a **BST** visits the nodes in ascending order, the ``k``th value from the end of the traversal order will be the `k`th largest value."
      ]
    },
    {
      "cell_type": "markdown",
      "metadata": {
        "id": "tixRmplAuse9"
      },
      "source": [
        "**Hint 3**\n",
        "\n",
        "You can actually solve this problem in `O(h + k)` time, where `h` is the height of the tree. Rather than looking at the nodes in ascending order, you shold look at them in descending order."
      ]
    },
    {
      "cell_type": "markdown",
      "metadata": {
        "id": "iwzP_tr8BOsz"
      },
      "source": [
        "**Hint 4**\n",
        "\n",
        "To solve this problem in `O(h + k)`time as mentioned in Hint 3, you need to perform a **reverse** in-order traversal. Since you'll be looking at nodes in descending order, you can simply return the `k`th visited in the reverse in-order traversal."
      ]
    },
    {
      "cell_type": "markdown",
      "metadata": {
        "id": "Wxm-qDhFu-kR"
      },
      "source": [
        "**Optimal Space & Time Complexity**\n",
        "\n",
        "- O(h+k) time | O(h) space - where `h`is the height of the tree and `k`is the input parameter."
      ]
    },
    {
      "cell_type": "markdown",
      "metadata": {
        "id": "Jur089c2eInl"
      },
      "source": [
        "# Classes definitions"
      ]
    },
    {
      "cell_type": "code",
      "execution_count": 11,
      "metadata": {},
      "outputs": [],
      "source": [
        "k = 3"
      ]
    },
    {
      "cell_type": "code",
      "execution_count": 12,
      "metadata": {
        "id": "VNqrfc83AJPT"
      },
      "outputs": [
        {
          "name": "stdout",
          "output_type": "stream",
          "text": [
            "Requirement already satisfied: pytest in c:\\users\\polia\\appdata\\local\\programs\\python\\python310\\lib\\site-packages (8.3.4)\n",
            "Requirement already satisfied: pytest-sugar in c:\\users\\polia\\appdata\\local\\programs\\python\\python310\\lib\\site-packages (1.0.0)\n",
            "Requirement already satisfied: colorama in c:\\users\\polia\\appdata\\roaming\\python\\python310\\site-packages (from pytest) (0.4.6)\n",
            "Requirement already satisfied: exceptiongroup>=1.0.0rc8 in c:\\users\\polia\\appdata\\roaming\\python\\python310\\site-packages (from pytest) (1.2.2)\n",
            "Requirement already satisfied: iniconfig in c:\\users\\polia\\appdata\\local\\programs\\python\\python310\\lib\\site-packages (from pytest) (2.0.0)\n",
            "Requirement already satisfied: packaging in c:\\users\\polia\\appdata\\roaming\\python\\python310\\site-packages (from pytest) (24.1)\n",
            "Requirement already satisfied: pluggy<2,>=1.5 in c:\\users\\polia\\appdata\\local\\programs\\python\\python310\\lib\\site-packages (from pytest) (1.5.0)\n",
            "Requirement already satisfied: tomli>=1 in c:\\users\\polia\\appdata\\local\\programs\\python\\python310\\lib\\site-packages (from pytest) (2.2.1)\n",
            "Requirement already satisfied: termcolor>=2.1.0 in c:\\users\\polia\\appdata\\local\\programs\\python\\python310\\lib\\site-packages (from pytest-sugar) (2.5.0)\n"
          ]
        }
      ],
      "source": [
        "!pip install pytest pytest-sugar"
      ]
    },
    {
      "cell_type": "code",
      "execution_count": 5,
      "metadata": {
        "id": "3-Uk4i-Mfmxn"
      },
      "outputs": [
        {
          "name": "stdout",
          "output_type": "stream",
          "text": [
            "Overwriting binarysearchtree.py\n"
          ]
        }
      ],
      "source": [
        "%%file binarysearchtree.py\n",
        "import plotly.graph_objs as go\n",
        "\n",
        "# Classe do Nó\n",
        "class Node:\n",
        "    \"\"\"\n",
        "    A class representing a node in a binary search tree.\n",
        "\n",
        "    Attributes:\n",
        "    - value: the value of the node\n",
        "    - left_child: the left child of the node\n",
        "    - right_child: the right child of the node\n",
        "    \"\"\"\n",
        "\n",
        "    def __init__(self, value):\n",
        "        \"\"\"\n",
        "        Initializes a new instance of the Node class.\n",
        "\n",
        "        Args:\n",
        "        - value: the value of the node\n",
        "        \"\"\"\n",
        "        self.value = value\n",
        "        self.left_child = None\n",
        "        self.right_child = None\n",
        "\n",
        "# Classe da Árvore\n",
        "class BST:\n",
        "    \"\"\"\n",
        "    A class representing a binary search tree.\n",
        "\n",
        "    Attributes:\n",
        "    - root: the root node of the tree\n",
        "    \"\"\"\n",
        "\n",
        "    def __init__(self):\n",
        "        \"\"\"\n",
        "        Initializes a new instance of the BST class.\n",
        "        \"\"\"\n",
        "        self.root = None\n",
        "\n",
        "    def add(self, value):\n",
        "        \"\"\"\n",
        "        Adiciona um novo nó com o valor dado à árvore.\n",
        "\n",
        "        Args:\n",
        "        - value: o valor do nó que será adicionado.\n",
        "        \"\"\"\n",
        "        if self.root is None:\n",
        "            # Se a raiz ainda não existe, crie-a\n",
        "            self.root = Node(value)\n",
        "        else:\n",
        "            # Encontre o lugar certo e insira um novo valor\n",
        "            self._add_recursive(self.root, value)\n",
        "\n",
        "    def _add_recursive(self, current_node, value):\n",
        "        \"\"\"\n",
        "        A helper method to recursively traverse the tree and find the correct position to add the new node.\n",
        "\n",
        "        Args:\n",
        "        - current_node: the current node to traverse\n",
        "        - value: the value of the node to add\n",
        "        \"\"\"\n",
        "        if value <= current_node.value:\n",
        "            # Go to the left\n",
        "            if current_node.left_child is None:\n",
        "                current_node.left_child = Node(value)\n",
        "            else:\n",
        "                self._add_recursive(current_node.left_child, value)\n",
        "        else:\n",
        "            # Go to the right\n",
        "            if current_node.right_child is None:\n",
        "                current_node.right_child = Node(value)\n",
        "            else:\n",
        "                self._add_recursive(current_node.right_child, value)\n",
        "\n",
        "    def _contains(self, current_node, value):\n",
        "        \"\"\"\n",
        "        Um método auxiliar para percorrer recursivamente a árvore e encontrar o nó com o valor fornecido.\n",
        "\n",
        "        Args:\n",
        "        - current_node: o nó atual a ser percorrido\n",
        "        - value: o valor a ser procurado\n",
        "\n",
        "        Returns:\n",
        "        - Verdadeiro se um nó com o valor fornecido for encontrado, Falso caso contrário\n",
        "        \"\"\"\n",
        "        if current_node is None:\n",
        "            return False\n",
        "        if current_node.value == value:\n",
        "            return True\n",
        "        if value < current_node.value:\n",
        "            return self._contains(current_node.left_child, value)\n",
        "        return self._contains(current_node.right_child, value)\n",
        "\n",
        "    def contains(self, value):\n",
        "        \"\"\"\n",
        "        Verifica se um nó com o valor fornecido está presente na árvore.\n",
        "\n",
        "        Args:\n",
        "        - value: o valor procurado.\n",
        "\n",
        "        Returns:\n",
        "        - Verdadeiro se um nó com o valor fornecido for encontrado, Falso caso contrário\n",
        "        \"\"\"\n",
        "        return self._contains(self.root, value)\n",
        "\n",
        "    def plot(self):\n",
        "        \"\"\"\n",
        "        Plota a árvore de busca binária usando Plotly.\n",
        "        \"\"\"\n",
        "        if self.root is None:\n",
        "            print(\"The tree is empty!\")\n",
        "            return\n",
        "\n",
        "        # Initialize lists for coordinates and connections\n",
        "        node_coords = []\n",
        "        lines = []\n",
        "\n",
        "        # Função auxiliar para percorrer a árvore e preencher as listas de coordenadas e conexões\n",
        "        def _plot_recursive(node, x, y, offset):\n",
        "            if node is not None:\n",
        "                node_coords.append((x, y, node.value))\n",
        "                if node.left_child is not None:\n",
        "                    new_x = x - offset\n",
        "                    new_y = y - 1\n",
        "                    lines.append((x, y, new_x, new_y))\n",
        "                    _plot_recursive(node.left_child, new_x, new_y, offset / 2)\n",
        "                if node.right_child is not None:\n",
        "                    new_x = x + offset\n",
        "                    new_y = y - 1\n",
        "                    lines.append((x, y, new_x, new_y))\n",
        "                    _plot_recursive(node.right_child, new_x, new_y, offset / 2)\n",
        "\n",
        "        # Percorrer a árvore começando pelo nó raiz\n",
        "        _plot_recursive(self.root, x=0, y=0, offset=0.5)\n",
        "\n",
        "        # Crie um gráfico de dispersão para os nós\n",
        "        node_trace = go.Scatter(x=[x for x, y, _ in node_coords],\n",
        "                                y=[y for _, y, _ in node_coords],\n",
        "                                text=[str(val) for _, _, val in node_coords],\n",
        "                                mode='markers+text',\n",
        "                                textposition='top center',\n",
        "                                marker=dict(symbol='circle',\n",
        "                                            size=20,\n",
        "                                            color='darkblue'))\n",
        "\n",
        "        # Crie um gráfico de dispersão para as conexões entre os nós\n",
        "        line_trace = go.Scatter(x=sum([[x1, x2, None] for x1, y1, x2, y2 in lines], []),\n",
        "                                y=sum([[y1, y2, None] for x1, y1, x2, y2 in lines], []),\n",
        "                                mode='lines',\n",
        "                                line=dict(color='black'))\n",
        "\n",
        "        # Combine os dois gráficos de dispersão\n",
        "        layout = go.Layout(title='',\n",
        "                           xaxis=dict(title='', showgrid=False, zeroline=False, showticklabels=False),\n",
        "                           yaxis=dict(title='', showgrid=False, zeroline=False, showticklabels=False),\n",
        "                           showlegend=False)\n",
        "\n",
        "        fig = go.Figure(data=[node_trace, line_trace], layout=layout)\n",
        "        fig.show()"
      ]
    },
    {
      "cell_type": "code",
      "execution_count": 6,
      "metadata": {
        "id": "PIu4Cq4YZzwo"
      },
      "outputs": [],
      "source": [
        "%run -i binarysearchtree.py"
      ]
    },
    {
      "cell_type": "code",
      "execution_count": 14,
      "metadata": {
        "id": "Hh933QK5fsCQ"
      },
      "outputs": [
        {
          "data": {
            "application/vnd.plotly.v1+json": {
              "config": {
                "plotlyServerURL": "https://plot.ly"
              },
              "data": [
                {
                  "marker": {
                    "color": "darkblue",
                    "size": 20,
                    "symbol": "circle"
                  },
                  "mode": "markers+text",
                  "text": [
                    "5",
                    "3",
                    "1",
                    "0",
                    "2",
                    "4",
                    "7",
                    "6",
                    "8"
                  ],
                  "textposition": "top center",
                  "type": "scatter",
                  "x": [
                    0,
                    -0.5,
                    -0.75,
                    -0.875,
                    -0.625,
                    -0.25,
                    0.5,
                    0.25,
                    0.75
                  ],
                  "y": [
                    0,
                    -1,
                    -2,
                    -3,
                    -3,
                    -2,
                    -1,
                    -2,
                    -2
                  ]
                },
                {
                  "line": {
                    "color": "black"
                  },
                  "mode": "lines",
                  "type": "scatter",
                  "x": [
                    0,
                    -0.5,
                    null,
                    -0.5,
                    -0.75,
                    null,
                    -0.75,
                    -0.875,
                    null,
                    -0.75,
                    -0.625,
                    null,
                    -0.5,
                    -0.25,
                    null,
                    0,
                    0.5,
                    null,
                    0.5,
                    0.25,
                    null,
                    0.5,
                    0.75,
                    null
                  ],
                  "y": [
                    0,
                    -1,
                    null,
                    -1,
                    -2,
                    null,
                    -2,
                    -3,
                    null,
                    -2,
                    -3,
                    null,
                    -1,
                    -2,
                    null,
                    0,
                    -1,
                    null,
                    -1,
                    -2,
                    null,
                    -1,
                    -2,
                    null
                  ]
                }
              ],
              "layout": {
                "showlegend": false,
                "template": {
                  "data": {
                    "bar": [
                      {
                        "error_x": {
                          "color": "#2a3f5f"
                        },
                        "error_y": {
                          "color": "#2a3f5f"
                        },
                        "marker": {
                          "line": {
                            "color": "#E5ECF6",
                            "width": 0.5
                          },
                          "pattern": {
                            "fillmode": "overlay",
                            "size": 10,
                            "solidity": 0.2
                          }
                        },
                        "type": "bar"
                      }
                    ],
                    "barpolar": [
                      {
                        "marker": {
                          "line": {
                            "color": "#E5ECF6",
                            "width": 0.5
                          },
                          "pattern": {
                            "fillmode": "overlay",
                            "size": 10,
                            "solidity": 0.2
                          }
                        },
                        "type": "barpolar"
                      }
                    ],
                    "carpet": [
                      {
                        "aaxis": {
                          "endlinecolor": "#2a3f5f",
                          "gridcolor": "white",
                          "linecolor": "white",
                          "minorgridcolor": "white",
                          "startlinecolor": "#2a3f5f"
                        },
                        "baxis": {
                          "endlinecolor": "#2a3f5f",
                          "gridcolor": "white",
                          "linecolor": "white",
                          "minorgridcolor": "white",
                          "startlinecolor": "#2a3f5f"
                        },
                        "type": "carpet"
                      }
                    ],
                    "choropleth": [
                      {
                        "colorbar": {
                          "outlinewidth": 0,
                          "ticks": ""
                        },
                        "type": "choropleth"
                      }
                    ],
                    "contour": [
                      {
                        "colorbar": {
                          "outlinewidth": 0,
                          "ticks": ""
                        },
                        "colorscale": [
                          [
                            0,
                            "#0d0887"
                          ],
                          [
                            0.1111111111111111,
                            "#46039f"
                          ],
                          [
                            0.2222222222222222,
                            "#7201a8"
                          ],
                          [
                            0.3333333333333333,
                            "#9c179e"
                          ],
                          [
                            0.4444444444444444,
                            "#bd3786"
                          ],
                          [
                            0.5555555555555556,
                            "#d8576b"
                          ],
                          [
                            0.6666666666666666,
                            "#ed7953"
                          ],
                          [
                            0.7777777777777778,
                            "#fb9f3a"
                          ],
                          [
                            0.8888888888888888,
                            "#fdca26"
                          ],
                          [
                            1,
                            "#f0f921"
                          ]
                        ],
                        "type": "contour"
                      }
                    ],
                    "contourcarpet": [
                      {
                        "colorbar": {
                          "outlinewidth": 0,
                          "ticks": ""
                        },
                        "type": "contourcarpet"
                      }
                    ],
                    "heatmap": [
                      {
                        "colorbar": {
                          "outlinewidth": 0,
                          "ticks": ""
                        },
                        "colorscale": [
                          [
                            0,
                            "#0d0887"
                          ],
                          [
                            0.1111111111111111,
                            "#46039f"
                          ],
                          [
                            0.2222222222222222,
                            "#7201a8"
                          ],
                          [
                            0.3333333333333333,
                            "#9c179e"
                          ],
                          [
                            0.4444444444444444,
                            "#bd3786"
                          ],
                          [
                            0.5555555555555556,
                            "#d8576b"
                          ],
                          [
                            0.6666666666666666,
                            "#ed7953"
                          ],
                          [
                            0.7777777777777778,
                            "#fb9f3a"
                          ],
                          [
                            0.8888888888888888,
                            "#fdca26"
                          ],
                          [
                            1,
                            "#f0f921"
                          ]
                        ],
                        "type": "heatmap"
                      }
                    ],
                    "heatmapgl": [
                      {
                        "colorbar": {
                          "outlinewidth": 0,
                          "ticks": ""
                        },
                        "colorscale": [
                          [
                            0,
                            "#0d0887"
                          ],
                          [
                            0.1111111111111111,
                            "#46039f"
                          ],
                          [
                            0.2222222222222222,
                            "#7201a8"
                          ],
                          [
                            0.3333333333333333,
                            "#9c179e"
                          ],
                          [
                            0.4444444444444444,
                            "#bd3786"
                          ],
                          [
                            0.5555555555555556,
                            "#d8576b"
                          ],
                          [
                            0.6666666666666666,
                            "#ed7953"
                          ],
                          [
                            0.7777777777777778,
                            "#fb9f3a"
                          ],
                          [
                            0.8888888888888888,
                            "#fdca26"
                          ],
                          [
                            1,
                            "#f0f921"
                          ]
                        ],
                        "type": "heatmapgl"
                      }
                    ],
                    "histogram": [
                      {
                        "marker": {
                          "pattern": {
                            "fillmode": "overlay",
                            "size": 10,
                            "solidity": 0.2
                          }
                        },
                        "type": "histogram"
                      }
                    ],
                    "histogram2d": [
                      {
                        "colorbar": {
                          "outlinewidth": 0,
                          "ticks": ""
                        },
                        "colorscale": [
                          [
                            0,
                            "#0d0887"
                          ],
                          [
                            0.1111111111111111,
                            "#46039f"
                          ],
                          [
                            0.2222222222222222,
                            "#7201a8"
                          ],
                          [
                            0.3333333333333333,
                            "#9c179e"
                          ],
                          [
                            0.4444444444444444,
                            "#bd3786"
                          ],
                          [
                            0.5555555555555556,
                            "#d8576b"
                          ],
                          [
                            0.6666666666666666,
                            "#ed7953"
                          ],
                          [
                            0.7777777777777778,
                            "#fb9f3a"
                          ],
                          [
                            0.8888888888888888,
                            "#fdca26"
                          ],
                          [
                            1,
                            "#f0f921"
                          ]
                        ],
                        "type": "histogram2d"
                      }
                    ],
                    "histogram2dcontour": [
                      {
                        "colorbar": {
                          "outlinewidth": 0,
                          "ticks": ""
                        },
                        "colorscale": [
                          [
                            0,
                            "#0d0887"
                          ],
                          [
                            0.1111111111111111,
                            "#46039f"
                          ],
                          [
                            0.2222222222222222,
                            "#7201a8"
                          ],
                          [
                            0.3333333333333333,
                            "#9c179e"
                          ],
                          [
                            0.4444444444444444,
                            "#bd3786"
                          ],
                          [
                            0.5555555555555556,
                            "#d8576b"
                          ],
                          [
                            0.6666666666666666,
                            "#ed7953"
                          ],
                          [
                            0.7777777777777778,
                            "#fb9f3a"
                          ],
                          [
                            0.8888888888888888,
                            "#fdca26"
                          ],
                          [
                            1,
                            "#f0f921"
                          ]
                        ],
                        "type": "histogram2dcontour"
                      }
                    ],
                    "mesh3d": [
                      {
                        "colorbar": {
                          "outlinewidth": 0,
                          "ticks": ""
                        },
                        "type": "mesh3d"
                      }
                    ],
                    "parcoords": [
                      {
                        "line": {
                          "colorbar": {
                            "outlinewidth": 0,
                            "ticks": ""
                          }
                        },
                        "type": "parcoords"
                      }
                    ],
                    "pie": [
                      {
                        "automargin": true,
                        "type": "pie"
                      }
                    ],
                    "scatter": [
                      {
                        "fillpattern": {
                          "fillmode": "overlay",
                          "size": 10,
                          "solidity": 0.2
                        },
                        "type": "scatter"
                      }
                    ],
                    "scatter3d": [
                      {
                        "line": {
                          "colorbar": {
                            "outlinewidth": 0,
                            "ticks": ""
                          }
                        },
                        "marker": {
                          "colorbar": {
                            "outlinewidth": 0,
                            "ticks": ""
                          }
                        },
                        "type": "scatter3d"
                      }
                    ],
                    "scattercarpet": [
                      {
                        "marker": {
                          "colorbar": {
                            "outlinewidth": 0,
                            "ticks": ""
                          }
                        },
                        "type": "scattercarpet"
                      }
                    ],
                    "scattergeo": [
                      {
                        "marker": {
                          "colorbar": {
                            "outlinewidth": 0,
                            "ticks": ""
                          }
                        },
                        "type": "scattergeo"
                      }
                    ],
                    "scattergl": [
                      {
                        "marker": {
                          "colorbar": {
                            "outlinewidth": 0,
                            "ticks": ""
                          }
                        },
                        "type": "scattergl"
                      }
                    ],
                    "scattermapbox": [
                      {
                        "marker": {
                          "colorbar": {
                            "outlinewidth": 0,
                            "ticks": ""
                          }
                        },
                        "type": "scattermapbox"
                      }
                    ],
                    "scatterpolar": [
                      {
                        "marker": {
                          "colorbar": {
                            "outlinewidth": 0,
                            "ticks": ""
                          }
                        },
                        "type": "scatterpolar"
                      }
                    ],
                    "scatterpolargl": [
                      {
                        "marker": {
                          "colorbar": {
                            "outlinewidth": 0,
                            "ticks": ""
                          }
                        },
                        "type": "scatterpolargl"
                      }
                    ],
                    "scatterternary": [
                      {
                        "marker": {
                          "colorbar": {
                            "outlinewidth": 0,
                            "ticks": ""
                          }
                        },
                        "type": "scatterternary"
                      }
                    ],
                    "surface": [
                      {
                        "colorbar": {
                          "outlinewidth": 0,
                          "ticks": ""
                        },
                        "colorscale": [
                          [
                            0,
                            "#0d0887"
                          ],
                          [
                            0.1111111111111111,
                            "#46039f"
                          ],
                          [
                            0.2222222222222222,
                            "#7201a8"
                          ],
                          [
                            0.3333333333333333,
                            "#9c179e"
                          ],
                          [
                            0.4444444444444444,
                            "#bd3786"
                          ],
                          [
                            0.5555555555555556,
                            "#d8576b"
                          ],
                          [
                            0.6666666666666666,
                            "#ed7953"
                          ],
                          [
                            0.7777777777777778,
                            "#fb9f3a"
                          ],
                          [
                            0.8888888888888888,
                            "#fdca26"
                          ],
                          [
                            1,
                            "#f0f921"
                          ]
                        ],
                        "type": "surface"
                      }
                    ],
                    "table": [
                      {
                        "cells": {
                          "fill": {
                            "color": "#EBF0F8"
                          },
                          "line": {
                            "color": "white"
                          }
                        },
                        "header": {
                          "fill": {
                            "color": "#C8D4E3"
                          },
                          "line": {
                            "color": "white"
                          }
                        },
                        "type": "table"
                      }
                    ]
                  },
                  "layout": {
                    "annotationdefaults": {
                      "arrowcolor": "#2a3f5f",
                      "arrowhead": 0,
                      "arrowwidth": 1
                    },
                    "autotypenumbers": "strict",
                    "coloraxis": {
                      "colorbar": {
                        "outlinewidth": 0,
                        "ticks": ""
                      }
                    },
                    "colorscale": {
                      "diverging": [
                        [
                          0,
                          "#8e0152"
                        ],
                        [
                          0.1,
                          "#c51b7d"
                        ],
                        [
                          0.2,
                          "#de77ae"
                        ],
                        [
                          0.3,
                          "#f1b6da"
                        ],
                        [
                          0.4,
                          "#fde0ef"
                        ],
                        [
                          0.5,
                          "#f7f7f7"
                        ],
                        [
                          0.6,
                          "#e6f5d0"
                        ],
                        [
                          0.7,
                          "#b8e186"
                        ],
                        [
                          0.8,
                          "#7fbc41"
                        ],
                        [
                          0.9,
                          "#4d9221"
                        ],
                        [
                          1,
                          "#276419"
                        ]
                      ],
                      "sequential": [
                        [
                          0,
                          "#0d0887"
                        ],
                        [
                          0.1111111111111111,
                          "#46039f"
                        ],
                        [
                          0.2222222222222222,
                          "#7201a8"
                        ],
                        [
                          0.3333333333333333,
                          "#9c179e"
                        ],
                        [
                          0.4444444444444444,
                          "#bd3786"
                        ],
                        [
                          0.5555555555555556,
                          "#d8576b"
                        ],
                        [
                          0.6666666666666666,
                          "#ed7953"
                        ],
                        [
                          0.7777777777777778,
                          "#fb9f3a"
                        ],
                        [
                          0.8888888888888888,
                          "#fdca26"
                        ],
                        [
                          1,
                          "#f0f921"
                        ]
                      ],
                      "sequentialminus": [
                        [
                          0,
                          "#0d0887"
                        ],
                        [
                          0.1111111111111111,
                          "#46039f"
                        ],
                        [
                          0.2222222222222222,
                          "#7201a8"
                        ],
                        [
                          0.3333333333333333,
                          "#9c179e"
                        ],
                        [
                          0.4444444444444444,
                          "#bd3786"
                        ],
                        [
                          0.5555555555555556,
                          "#d8576b"
                        ],
                        [
                          0.6666666666666666,
                          "#ed7953"
                        ],
                        [
                          0.7777777777777778,
                          "#fb9f3a"
                        ],
                        [
                          0.8888888888888888,
                          "#fdca26"
                        ],
                        [
                          1,
                          "#f0f921"
                        ]
                      ]
                    },
                    "colorway": [
                      "#636efa",
                      "#EF553B",
                      "#00cc96",
                      "#ab63fa",
                      "#FFA15A",
                      "#19d3f3",
                      "#FF6692",
                      "#B6E880",
                      "#FF97FF",
                      "#FECB52"
                    ],
                    "font": {
                      "color": "#2a3f5f"
                    },
                    "geo": {
                      "bgcolor": "white",
                      "lakecolor": "white",
                      "landcolor": "#E5ECF6",
                      "showlakes": true,
                      "showland": true,
                      "subunitcolor": "white"
                    },
                    "hoverlabel": {
                      "align": "left"
                    },
                    "hovermode": "closest",
                    "mapbox": {
                      "style": "light"
                    },
                    "paper_bgcolor": "white",
                    "plot_bgcolor": "#E5ECF6",
                    "polar": {
                      "angularaxis": {
                        "gridcolor": "white",
                        "linecolor": "white",
                        "ticks": ""
                      },
                      "bgcolor": "#E5ECF6",
                      "radialaxis": {
                        "gridcolor": "white",
                        "linecolor": "white",
                        "ticks": ""
                      }
                    },
                    "scene": {
                      "xaxis": {
                        "backgroundcolor": "#E5ECF6",
                        "gridcolor": "white",
                        "gridwidth": 2,
                        "linecolor": "white",
                        "showbackground": true,
                        "ticks": "",
                        "zerolinecolor": "white"
                      },
                      "yaxis": {
                        "backgroundcolor": "#E5ECF6",
                        "gridcolor": "white",
                        "gridwidth": 2,
                        "linecolor": "white",
                        "showbackground": true,
                        "ticks": "",
                        "zerolinecolor": "white"
                      },
                      "zaxis": {
                        "backgroundcolor": "#E5ECF6",
                        "gridcolor": "white",
                        "gridwidth": 2,
                        "linecolor": "white",
                        "showbackground": true,
                        "ticks": "",
                        "zerolinecolor": "white"
                      }
                    },
                    "shapedefaults": {
                      "line": {
                        "color": "#2a3f5f"
                      }
                    },
                    "ternary": {
                      "aaxis": {
                        "gridcolor": "white",
                        "linecolor": "white",
                        "ticks": ""
                      },
                      "baxis": {
                        "gridcolor": "white",
                        "linecolor": "white",
                        "ticks": ""
                      },
                      "bgcolor": "#E5ECF6",
                      "caxis": {
                        "gridcolor": "white",
                        "linecolor": "white",
                        "ticks": ""
                      }
                    },
                    "title": {
                      "x": 0.05
                    },
                    "xaxis": {
                      "automargin": true,
                      "gridcolor": "white",
                      "linecolor": "white",
                      "ticks": "",
                      "title": {
                        "standoff": 15
                      },
                      "zerolinecolor": "white",
                      "zerolinewidth": 2
                    },
                    "yaxis": {
                      "automargin": true,
                      "gridcolor": "white",
                      "linecolor": "white",
                      "ticks": "",
                      "title": {
                        "standoff": 15
                      },
                      "zerolinecolor": "white",
                      "zerolinewidth": 2
                    }
                  }
                },
                "title": {
                  "text": ""
                },
                "xaxis": {
                  "showgrid": false,
                  "showticklabels": false,
                  "title": {
                    "text": ""
                  },
                  "zeroline": false
                },
                "yaxis": {
                  "showgrid": false,
                  "showticklabels": false,
                  "title": {
                    "text": ""
                  },
                  "zeroline": false
                }
              }
            }
          },
          "metadata": {},
          "output_type": "display_data"
        }
      ],
      "source": [
        "from binarysearchtree import *\n",
        "# Example usage:\n",
        "bst = BST()\n",
        "for value in [5, 3, 1, 0, 2, 4, 7, 6, 8]:\n",
        "    bst.add(value)\n",
        "bst.plot()"
      ]
    },
    {
      "cell_type": "code",
      "execution_count": 13,
      "metadata": {
        "id": "r27fL9BcKYqG"
      },
      "outputs": [
        {
          "name": "stdout",
          "output_type": "stream",
          "text": [
            "Overwriting closestvalue.py\n"
          ]
        }
      ],
      "source": [
        "%%file closestvalue.py\n",
        "import pytest\n",
        "from binarysearchtree import *\n",
        "\n",
        "def findKthLargestValue(tree, k):\n",
        "    \"\"\"\n",
        "    Finds the kth largest integer in a Binary Search Tree (BST).\n",
        "\n",
        "    The function traverses the BST in an in-order manner to collect the node values in a sorted list.\n",
        "    It then returns the kth largest value from this list. The BST is assumed to contain only integer values.\n",
        "    In case of duplicate integers, they are treated as distinct values.\n",
        "    The kth largest integer is determined in the context of these distinct values.\n",
        "\n",
        "    Parameters:\n",
        "    tree (BST): the Binary Search Tree (BST).\n",
        "    k (int): A positive integer representing the kth position.\n",
        "\n",
        "    Returns:\n",
        "    int: The kth largest integer present in the BST.\n",
        "    \"\"\"\n",
        "\n",
        "    sortedNodeValues = []\n",
        "    inOrderTraverse(tree.root,sortedNodeValues)\n",
        "    return sortedNodeValues[len(sortedNodeValues) - k]\n",
        "\n",
        "def inOrderTraverse(node, sortedNodeValues):\n",
        "    if node is None:\n",
        "        return\n",
        "\n",
        "    inOrderTraverse(node.left_child, sortedNodeValues)\n",
        "    sortedNodeValues.append(node.value)\n",
        "    inOrderTraverse(node.right_child, sortedNodeValues)\n",
        "\n",
        "\n",
        "@pytest.fixture(scope=\"session\")\n",
        "def data():\n",
        "\n",
        "    array = [[15,5,20,17,22,2,5,1,3],\n",
        "             [5,4,6,3,7],\n",
        "             [5],\n",
        "             [20,15,25,10,19,21,30,22],\n",
        "             [1,2,3,4,5],\n",
        "             [10,8,6,4,2],\n",
        "             [10,8,6,9,4,7,2,5,3],\n",
        "             [99727,99,727],\n",
        "             [15,5,20,17,22,24,23,25,2,5,1,3],\n",
        "             [15,5,20,17,22,2,5,1,3],\n",
        "             [15,5,20,17,22,2,5,1,3]\n",
        "             ]\n",
        "    return array\n",
        "\n",
        "def test_1(data):\n",
        "    bst = BST()\n",
        "    for value in data[0]:\n",
        "      bst.add(value)\n",
        "    assert findKthLargestValue(bst, 3) == 17\n",
        "\n",
        "def test_2(data):\n",
        "    bst = BST()\n",
        "    for value in data[1]:\n",
        "      bst.add(value)\n",
        "    assert findKthLargestValue(bst, 1) == 7\n",
        "\n",
        "def test_3(data):\n",
        "    bst = BST()\n",
        "    for value in data[2]:\n",
        "      bst.add(value)\n",
        "    assert findKthLargestValue(bst, 1) == 5\n",
        "\n",
        "def test_4(data):\n",
        "    bst = BST()\n",
        "    for value in data[3]:\n",
        "      bst.add(value)\n",
        "    assert findKthLargestValue(bst, 3) == 22\n",
        "\n",
        "def test_5(data):\n",
        "    bst = BST()\n",
        "    for value in data[4]:\n",
        "      bst.add(value)\n",
        "    assert findKthLargestValue(bst, 5) == 1\n",
        "\n",
        "def test_6(data):\n",
        "    bst = BST()\n",
        "    for value in data[5]:\n",
        "      bst.add(value)\n",
        "    assert findKthLargestValue(bst, 2) == 8\n",
        "\n",
        "def test_7(data):\n",
        "    bst = BST()\n",
        "    for value in data[6]:\n",
        "      bst.add(value)\n",
        "    assert findKthLargestValue(bst, 5) == 6\n",
        "\n",
        "def test_8(data):\n",
        "    bst = BST()\n",
        "    for value in data[7]:\n",
        "      bst.add(value)\n",
        "    assert findKthLargestValue(bst, 1) == 99727\n",
        "\n",
        "def test_9(data):\n",
        "    bst = BST()\n",
        "    for value in data[8]:\n",
        "      bst.add(value)\n",
        "    assert findKthLargestValue(bst, 7) == 15\n",
        "\n",
        "def test_10(data):\n",
        "    bst = BST()\n",
        "    for value in data[9]:\n",
        "      bst.add(value)\n",
        "    assert findKthLargestValue(bst, 5) == 5\n",
        "\n",
        "def test_11(data):\n",
        "    bst = BST()\n",
        "    for value in data[10]:\n",
        "      bst.add(value)\n",
        "    assert findKthLargestValue(bst, 6) == 5"
      ]
    },
    {
      "cell_type": "code",
      "execution_count": 9,
      "metadata": {
        "id": "iw65pBGTMYmg"
      },
      "outputs": [
        {
          "name": "stdout",
          "output_type": "stream",
          "text": [
            "\u001b[1m============================= test session starts =============================\u001b[0m\n",
            "platform win32 -- Python 3.10.11, pytest-8.3.4, pluggy-1.5.0 -- C:\\Users\\polia\\AppData\\Local\\Programs\\Python\\Python310\\python.exe\n",
            "cachedir: .pytest_cache\n",
            "rootdir: c:\\Users\\polia\\OneDrive\\Documentos\\repos\\aed2\\U2T2\n",
            "plugins: sugar-1.0.0\n",
            "\u001b[1mcollecting ... \u001b[0mcollected 11 items\n",
            "\n",
            "closestvalue.py::test_1 \u001b[32mPASSED\u001b[0m\u001b[32m                                           [  9%]\u001b[0m\n",
            "closestvalue.py::test_2 \u001b[32mPASSED\u001b[0m\u001b[32m                                           [ 18%]\u001b[0m\n",
            "closestvalue.py::test_3 \u001b[32mPASSED\u001b[0m\u001b[32m                                           [ 27%]\u001b[0m\n",
            "closestvalue.py::test_4 \u001b[32mPASSED\u001b[0m\u001b[32m                                           [ 36%]\u001b[0m\n",
            "closestvalue.py::test_5 \u001b[32mPASSED\u001b[0m\u001b[32m                                           [ 45%]\u001b[0m\n",
            "closestvalue.py::test_6 \u001b[32mPASSED\u001b[0m\u001b[32m                                           [ 54%]\u001b[0m\n",
            "closestvalue.py::test_7 \u001b[32mPASSED\u001b[0m\u001b[32m                                           [ 63%]\u001b[0m\n",
            "closestvalue.py::test_8 \u001b[32mPASSED\u001b[0m\u001b[32m                                           [ 72%]\u001b[0m\n",
            "closestvalue.py::test_9 \u001b[32mPASSED\u001b[0m\u001b[32m                                           [ 81%]\u001b[0m\n",
            "closestvalue.py::test_10 \u001b[32mPASSED\u001b[0m\u001b[32m                                          [ 90%]\u001b[0m\n",
            "closestvalue.py::test_11 \u001b[32mPASSED\u001b[0m\u001b[32m                                          [100%]\u001b[0m\n",
            "\n",
            "\u001b[32m============================= \u001b[32m\u001b[1m11 passed\u001b[0m\u001b[32m in 0.06s\u001b[0m\u001b[32m ==============================\u001b[0m\n"
          ]
        }
      ],
      "source": [
        "!pytest closestvalue.py -vv"
      ]
    },
    {
      "cell_type": "code",
      "execution_count": null,
      "metadata": {},
      "outputs": [],
      "source": []
    }
  ],
  "metadata": {
    "colab": {
      "provenance": []
    },
    "kernelspec": {
      "display_name": "Python 3",
      "name": "python3"
    },
    "language_info": {
      "codemirror_mode": {
        "name": "ipython",
        "version": 3
      },
      "file_extension": ".py",
      "mimetype": "text/x-python",
      "name": "python",
      "nbconvert_exporter": "python",
      "pygments_lexer": "ipython3",
      "version": "3.10.11"
    }
  },
  "nbformat": 4,
  "nbformat_minor": 0
}
