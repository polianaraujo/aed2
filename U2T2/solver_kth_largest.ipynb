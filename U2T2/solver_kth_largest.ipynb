{
 "cells": [
  {
   "cell_type": "markdown",
   "metadata": {},
   "source": [
    "# Encontrar o K-ésimo Maior Valor em uma Árvore de Busca Binária (BST)"
   ]
  },
  {
   "cell_type": "markdown",
   "metadata": {},
   "source": [
    "Encontrar o K-ésimo Maior Valor em uma Árvore de Busca Binária (BST)\n",
    "\n",
    "Escreva uma função que receba uma Árvore de Busca Binária (BST) e um número inteiro positivo `k`, e retorne o k-ésimo maior número contido na BST.\n",
    "\n",
    "Você pode assumir que a árvore conterá apenas valores inteiros e que `k` é menor ou igual ao número de nós na árvore.\n",
    "\n",
    "Além disso, para os fins desta questão, inteiros duplicados serão tratados como valores distintos. Em outras palavras, o segundo maior valor em uma BST contendo os valores {5, 7, 7} será 7 — e não 5.\n",
    "\n",
    "Cada nó da BST possui um valor inteiro, um nó filho à esquerda e um nó filho à direita. Um nó é considerado um nó válido de uma BST se e somente se satisfizer a propriedade da BST:\n",
    "\n",
    "- Seu valor é estritamente maior do que os valores de qualquer nó à sua esquerda;\n",
    "- Seu valor é menor ou igual aos valores de qualquer nó à sua direita;\n",
    "- Seus nós filhos são, ou nós válidos de uma BST ou None/nulo."
   ]
  },
  {
   "cell_type": "markdown",
   "metadata": {},
   "source": [
    "## Exemplo de entrada"
   ]
  },
  {
   "cell_type": "code",
   "execution_count": 88,
   "metadata": {},
   "outputs": [],
   "source": [
    "'''\n",
    "tree =   10\n",
    "       /     \\\n",
    "      5       20\n",
    "    /   \\   /   \\\n",
    "   2    5  17    22\n",
    "  / \\          \n",
    " 1   3 \n",
    "'''\n",
    "k = 3"
   ]
  },
  {
   "cell_type": "markdown",
   "metadata": {},
   "source": [
    "## Exemplo de saída"
   ]
  },
  {
   "cell_type": "code",
   "execution_count": 89,
   "metadata": {},
   "outputs": [
    {
     "data": {
      "text/plain": [
       "17"
      ]
     },
     "execution_count": 89,
     "metadata": {},
     "output_type": "execute_result"
    }
   ],
   "source": [
    "17"
   ]
  },
  {
   "cell_type": "markdown",
   "metadata": {},
   "source": [
    "**Dica 1**\n",
    "\n",
    "Certifique-se de considerar o fato de que a árvore fornecida é uma Árvore de Busca Binária (BST) — não apenas uma Árvore Binária comum. Como esse fato pode ajudá-lo a resolver o problema de forma mais otimizada em termos de complexidade de tempo?\n",
    "\n",
    "**Dica 2**\n",
    "\n",
    "A abordagem de força bruta para este problema é simplesmente realizar uma travessia em ordem desta BST e armazenar todos os valores de seus nós na ordem em que são visitados. Como uma travessia em ordem de uma BST visita os nós em ordem crescente, o k-ésimo valor a partir do final da ordem de travessia será o k-ésimo maior valor.\n",
    "\n",
    "**Dica 3**\n",
    "\n",
    "Na verdade, você pode resolver esse problema em O(h + k) de tempo, onde h é a altura da árvore. Em vez de olhar para os nós na ordem crescente, você deve olhá-los na ordem decrescente.\n",
    "\n",
    "**Dica 4**\n",
    "\n",
    "Para resolver esse problema em O(h + k) de tempo, como mencionado na Dica 3, você precisa realizar uma travessia em ordem reversa. Como você estará olhando para os nós na ordem decrescente, pode simplesmente retornar o k-ésimo nó visitado na travessia em ordem reversa.\n",
    "\n",
    "**Complexidade de Tempo e Espaço Ótima**\n",
    "\n",
    "O(h+k) tempo | O(h) espaço - onde h é a altura da árvore e k é o parâmetro de entrada."
   ]
  },
  {
   "cell_type": "markdown",
   "metadata": {},
   "source": [
    "## Definição de classes"
   ]
  },
  {
   "cell_type": "code",
   "execution_count": 90,
   "metadata": {},
   "outputs": [
    {
     "name": "stdout",
     "output_type": "stream",
     "text": [
      "Requirement already satisfied: pytest in c:\\users\\polia\\appdata\\local\\programs\\python\\python310\\lib\\site-packages (8.3.4)\n",
      "Requirement already satisfied: pytest-sugar in c:\\users\\polia\\appdata\\local\\programs\\python\\python310\\lib\\site-packages (1.0.0)\n",
      "Requirement already satisfied: colorama in c:\\users\\polia\\appdata\\roaming\\python\\python310\\site-packages (from pytest) (0.4.6)\n",
      "Requirement already satisfied: exceptiongroup>=1.0.0rc8 in c:\\users\\polia\\appdata\\roaming\\python\\python310\\site-packages (from pytest) (1.2.2)\n",
      "Requirement already satisfied: iniconfig in c:\\users\\polia\\appdata\\local\\programs\\python\\python310\\lib\\site-packages (from pytest) (2.0.0)\n",
      "Requirement already satisfied: packaging in c:\\users\\polia\\appdata\\roaming\\python\\python310\\site-packages (from pytest) (24.1)\n",
      "Requirement already satisfied: pluggy<2,>=1.5 in c:\\users\\polia\\appdata\\local\\programs\\python\\python310\\lib\\site-packages (from pytest) (1.5.0)\n",
      "Requirement already satisfied: tomli>=1 in c:\\users\\polia\\appdata\\local\\programs\\python\\python310\\lib\\site-packages (from pytest) (2.2.1)\n",
      "Requirement already satisfied: termcolor>=2.1.0 in c:\\users\\polia\\appdata\\local\\programs\\python\\python310\\lib\\site-packages (from pytest-sugar) (2.5.0)\n"
     ]
    }
   ],
   "source": [
    "!pip install pytest pytest-sugar"
   ]
  },
  {
   "cell_type": "code",
   "execution_count": 91,
   "metadata": {},
   "outputs": [],
   "source": [
    "import plotly.graph_objs as go\n",
    "import time\n",
    "import numpy as np\n",
    "import pytest\n",
    "\n",
    "\n",
    "class Node:\n",
    "    def __init__(self, value):\n",
    "        self.value = value\n",
    "        self.left_child = None\n",
    "        self.right_child = None\n",
    "\n",
    "\n",
    "class BST:\n",
    "    def __init__(self):\n",
    "        self.root = None\n",
    "\n",
    "    def add(self, value):\n",
    "        if self.root is None:\n",
    "            self.root = Node(value)\n",
    "        else:\n",
    "            self._add_recursive(self.root, value)\n",
    "\n",
    "    def _add_recursive(self, current_node, value):\n",
    "        if value <= current_node.value:\n",
    "            if current_node.left_child is None:\n",
    "                current_node.left_child = Node(value)\n",
    "            else:\n",
    "                self._add_recursive(current_node.left_child, value)\n",
    "        else:\n",
    "            if current_node.right_child is None:\n",
    "                current_node.right_child = Node(value)\n",
    "            else:\n",
    "                self._add_recursive(current_node.right_child, value)\n",
    "\n",
    "\n",
    "def find_kth_largest_value(tree, k):\n",
    "    sorted_values = []\n",
    "    in_order_traverse(tree.root, sorted_values)\n",
    "    return sorted_values[len(sorted_values) - k]\n",
    "\n",
    "\n",
    "def in_order_traverse(node, sorted_values):\n",
    "    if node is None:\n",
    "        return\n",
    "    in_order_traverse(node.left_child, sorted_values)\n",
    "    sorted_values.append(node.value)\n",
    "    in_order_traverse(node.right_child, sorted_values)\n",
    "\n",
    "\n",
    "def measure_execution_time(array_sizes, num_trials, k):\n",
    "    times = []\n",
    "    for size in array_sizes:\n",
    "        trial_times = []\n",
    "        for _ in range(num_trials):\n",
    "            values = np.random.randint(1, 100000, size)\n",
    "            bst = BST()\n",
    "            for value in values:\n",
    "                bst.add(value)\n",
    "            start_time = time.time()\n",
    "            find_kth_largest_value(bst, k)\n",
    "            trial_times.append(time.time() - start_time)\n",
    "        mean_time = np.mean(trial_times)\n",
    "        conf_interval = 1.96 * np.std(trial_times) / np.sqrt(num_trials)\n",
    "        times.append((mean_time, conf_interval))\n",
    "    return times\n",
    "\n",
    "\n",
    "def plot_execution_times(array_sizes, times):\n",
    "    mean_times = [t[0] for t in times]\n",
    "    conf_intervals = [t[1] for t in times]\n",
    "\n",
    "    fig = go.Figure()\n",
    "    fig.add_trace(go.Scatter(\n",
    "        x=array_sizes,\n",
    "        y=mean_times,\n",
    "        mode='lines+markers',\n",
    "        name='Execution Time',\n",
    "        error_y=dict(type='data', array=conf_intervals, visible=True)\n",
    "    ))\n",
    "\n",
    "    fig.update_layout(\n",
    "        title=\"Execution Time vs Input Size\",\n",
    "        xaxis=dict(title=\"Input Size\"),\n",
    "        yaxis=dict(title=\"Execution Time (s)\"),\n",
    "        template=\"plotly_white\"\n",
    "    )\n",
    "    fig.show()\n"
   ]
  },
  {
   "cell_type": "code",
   "execution_count": 92,
   "metadata": {},
   "outputs": [],
   "source": [
    "%run -i binarysearchtree.py"
   ]
  },
  {
   "cell_type": "code",
   "execution_count": 93,
   "metadata": {},
   "outputs": [],
   "source": [
    "def test_find_kth_largest_value():\n",
    "    bst = BST()\n",
    "    for value in [15, 5, 20, 17, 22, 2, 5, 1, 3]:\n",
    "        bst.add(value)\n",
    "    assert find_kth_largest_value(bst, 3) == 17\n",
    "    assert find_kth_largest_value(bst, 1) == 22\n",
    "    assert find_kth_largest_value(bst, 5) == 5\n",
    "\n",
    "\n",
    "@pytest.fixture(scope=\"session\")\n",
    "def test_performance():\n",
    "    array_sizes = [100, 200, 300, 400, 500, 600, 700, 800, 900, 1000]\n",
    "    times = measure_execution_time(array_sizes, num_trials=10, k=5)\n",
    "    plot_execution_times(array_sizes, times)\n"
   ]
  },
  {
   "cell_type": "code",
   "execution_count": 94,
   "metadata": {},
   "outputs": [
    {
     "name": "stdout",
     "output_type": "stream",
     "text": [
      "Overwriting closestvalue.py\n"
     ]
    }
   ],
   "source": [
    "%%file closestvalue.py\n",
    "import pytest\n",
    "from binarysearchtree import *\n",
    "\n",
    "def findKthLargestValue(tree, k):\n",
    "    \"\"\"\n",
    "    Finds the kth largest integer in a Binary Search Tree (BST).\n",
    "\n",
    "    The function traverses the BST in an in-order manner to collect the node values in a sorted list.\n",
    "    It then returns the kth largest value from this list. The BST is assumed to contain only integer values.\n",
    "    In case of duplicate integers, they are treated as distinct values.\n",
    "    The kth largest integer is determined in the context of these distinct values.\n",
    "\n",
    "    Parameters:\n",
    "    tree (BST): the Binary Search Tree (BST).\n",
    "    k (int): A positive integer representing the kth position.\n",
    "\n",
    "    Returns:\n",
    "    int: The kth largest integer present in the BST.\n",
    "    \"\"\"\n",
    "\n",
    "    sortedNodeValues = []\n",
    "    inOrderTraverse(tree.root,sortedNodeValues)\n",
    "    return sortedNodeValues[len(sortedNodeValues) - k]\n",
    "\n",
    "def inOrderTraverse(node, sortedNodeValues):\n",
    "    if node is None:\n",
    "        return\n",
    "\n",
    "    inOrderTraverse(node.left_child, sortedNodeValues)\n",
    "    sortedNodeValues.append(node.value)\n",
    "    inOrderTraverse(node.right_child, sortedNodeValues)\n",
    "\n",
    "\n",
    "@pytest.fixture(scope=\"session\")\n",
    "def data():\n",
    "\n",
    "    array = [[15,5,20,17,22,2,5,1,3],\n",
    "             [5,4,6,3,7],\n",
    "             [5],\n",
    "             [20,15,25,10,19,21,30,22],\n",
    "             [1,2,3,4,5],\n",
    "             [10,8,6,4,2],\n",
    "             [10,8,6,9,4,7,2,5,3],\n",
    "             [99727,99,727],\n",
    "             [15,5,20,17,22,24,23,25,2,5,1,3],\n",
    "             [15,5,20,17,22,2,5,1,3],\n",
    "             [15,5,20,17,22,2,5,1,3]\n",
    "             ]\n",
    "    return array\n",
    "\n",
    "def test_1(data):\n",
    "    bst = BST()\n",
    "    for value in data[0]:\n",
    "      bst.add(value)\n",
    "    assert findKthLargestValue(bst, 3) == 17\n",
    "\n",
    "def test_2(data):\n",
    "    bst = BST()\n",
    "    for value in data[1]:\n",
    "      bst.add(value)\n",
    "    assert findKthLargestValue(bst, 1) == 7\n",
    "\n",
    "def test_3(data):\n",
    "    bst = BST()\n",
    "    for value in data[2]:\n",
    "      bst.add(value)\n",
    "    assert findKthLargestValue(bst, 1) == 5\n",
    "\n",
    "def test_4(data):\n",
    "    bst = BST()\n",
    "    for value in data[3]:\n",
    "      bst.add(value)\n",
    "    assert findKthLargestValue(bst, 3) == 22\n",
    "\n",
    "def test_5(data):\n",
    "    bst = BST()\n",
    "    for value in data[4]:\n",
    "      bst.add(value)\n",
    "    assert findKthLargestValue(bst, 5) == 1\n",
    "\n",
    "def test_6(data):\n",
    "    bst = BST()\n",
    "    for value in data[5]:\n",
    "      bst.add(value)\n",
    "    assert findKthLargestValue(bst, 2) == 8\n",
    "\n",
    "def test_7(data):\n",
    "    bst = BST()\n",
    "    for value in data[6]:\n",
    "      bst.add(value)\n",
    "    assert findKthLargestValue(bst, 5) == 6\n",
    "\n",
    "def test_8(data):\n",
    "    bst = BST()\n",
    "    for value in data[7]:\n",
    "      bst.add(value)\n",
    "    assert findKthLargestValue(bst, 1) == 99727\n",
    "\n",
    "def test_9(data):\n",
    "    bst = BST()\n",
    "    for value in data[8]:\n",
    "      bst.add(value)\n",
    "    assert findKthLargestValue(bst, 7) == 15\n",
    "\n",
    "def test_10(data):\n",
    "    bst = BST()\n",
    "    for value in data[9]:\n",
    "      bst.add(value)\n",
    "    assert findKthLargestValue(bst, 5) == 5\n",
    "\n",
    "def test_11(data):\n",
    "    bst = BST()\n",
    "    for value in data[10]:\n",
    "      bst.add(value)\n",
    "    assert findKthLargestValue(bst, 6) == 5"
   ]
  },
  {
   "cell_type": "code",
   "execution_count": 95,
   "metadata": {},
   "outputs": [
    {
     "name": "stdout",
     "output_type": "stream",
     "text": [
      "\u001b[1m============================= test session starts =============================\u001b[0m\n",
      "platform win32 -- Python 3.10.11, pytest-8.3.4, pluggy-1.5.0 -- C:\\Users\\polia\\AppData\\Local\\Programs\\Python\\Python310\\python.exe\n",
      "cachedir: .pytest_cache\n",
      "rootdir: c:\\Users\\polia\\OneDrive\\Documentos\\repos\\aed2\\U2T2\n",
      "plugins: sugar-1.0.0\n",
      "\u001b[1mcollecting ... \u001b[0mcollected 11 items\n",
      "\n",
      "closestvalue.py::test_1 \u001b[32mPASSED\u001b[0m\u001b[32m                                           [  9%]\u001b[0m\n",
      "closestvalue.py::test_2 \u001b[32mPASSED\u001b[0m\u001b[32m                                           [ 18%]\u001b[0m\n",
      "closestvalue.py::test_3 \u001b[32mPASSED\u001b[0m\u001b[32m                                           [ 27%]\u001b[0m\n",
      "closestvalue.py::test_4 \u001b[32mPASSED\u001b[0m\u001b[32m                                           [ 36%]\u001b[0m\n",
      "closestvalue.py::test_5 \u001b[32mPASSED\u001b[0m\u001b[32m                                           [ 45%]\u001b[0m\n",
      "closestvalue.py::test_6 \u001b[32mPASSED\u001b[0m\u001b[32m                                           [ 54%]\u001b[0m\n",
      "closestvalue.py::test_7 \u001b[32mPASSED\u001b[0m\u001b[32m                                           [ 63%]\u001b[0m\n",
      "closestvalue.py::test_8 \u001b[32mPASSED\u001b[0m\u001b[32m                                           [ 72%]\u001b[0m\n",
      "closestvalue.py::test_9 \u001b[32mPASSED\u001b[0m\u001b[32m                                           [ 81%]\u001b[0m\n",
      "closestvalue.py::test_10 \u001b[32mPASSED\u001b[0m\u001b[32m                                          [ 90%]\u001b[0m\n",
      "closestvalue.py::test_11 \u001b[32mPASSED\u001b[0m\u001b[32m                                          [100%]\u001b[0m\n",
      "\n",
      "\u001b[32m============================= \u001b[32m\u001b[1m11 passed\u001b[0m\u001b[32m in 0.02s\u001b[0m\u001b[32m ==============================\u001b[0m\n"
     ]
    }
   ],
   "source": [
    "!pytest closestvalue.py -vv"
   ]
  },
  {
   "cell_type": "code",
   "execution_count": 96,
   "metadata": {},
   "outputs": [
    {
     "name": "stdout",
     "output_type": "stream",
     "text": [
      "\u001b[1m============================= test session starts =============================\u001b[0m\n",
      "platform win32 -- Python 3.10.11, pytest-8.3.4, pluggy-1.5.0\n",
      "rootdir: c:\\Users\\polia\\OneDrive\\Documentos\\repos\\aed2\\U2T2\n",
      "plugins: sugar-1.0.0\n",
      "collected 11 items\n",
      "\n",
      "closestvalue.py \u001b[32m.\u001b[0m\u001b[32m.\u001b[0m\u001b[32m.\u001b[0m\u001b[32m.\u001b[0m\u001b[32m.\u001b[0m\u001b[32m.\u001b[0m\u001b[32m.\u001b[0m\u001b[32m.\u001b[0m\u001b[32m.\u001b[0m\u001b[32m.\u001b[0m\u001b[32m.\u001b[0m\n",
      "\n",
      "\u001b[32m============================= \u001b[32m\u001b[1m11 passed\u001b[0m\u001b[32m in 0.02s\u001b[0m\u001b[32m ==============================\u001b[0m\n"
     ]
    }
   ],
   "source": [
    "!pytest closestvalue.py --capture=no\n"
   ]
  },
  {
   "cell_type": "code",
   "execution_count": 97,
   "metadata": {},
   "outputs": [
    {
     "data": {
      "application/vnd.plotly.v1+json": {
       "config": {
        "plotlyServerURL": "https://plot.ly"
       },
       "data": [
        {
         "error_y": {
          "array": [
           0,
           0,
           0.00018847967809111326,
           0.00011189399296731503,
           0.00018779039390235598,
           0,
           0,
           0.0002486170822923089,
           0,
           0.0002523418762416561
          ],
          "type": "data",
          "visible": true
         },
         "mode": "lines+markers",
         "name": "Execution Time",
         "type": "scatter",
         "x": [
          100,
          200,
          300,
          400,
          500,
          600,
          700,
          800,
          900,
          1000
         ],
         "y": [
          0,
          0,
          0.00013287067413330077,
          0.000060176849365234376,
          0.00010099411010742188,
          0,
          0,
          0.00020055770874023439,
          0,
          0.00026111602783203126
         ]
        }
       ],
       "layout": {
        "template": {
         "data": {
          "bar": [
           {
            "error_x": {
             "color": "#2a3f5f"
            },
            "error_y": {
             "color": "#2a3f5f"
            },
            "marker": {
             "line": {
              "color": "white",
              "width": 0.5
             },
             "pattern": {
              "fillmode": "overlay",
              "size": 10,
              "solidity": 0.2
             }
            },
            "type": "bar"
           }
          ],
          "barpolar": [
           {
            "marker": {
             "line": {
              "color": "white",
              "width": 0.5
             },
             "pattern": {
              "fillmode": "overlay",
              "size": 10,
              "solidity": 0.2
             }
            },
            "type": "barpolar"
           }
          ],
          "carpet": [
           {
            "aaxis": {
             "endlinecolor": "#2a3f5f",
             "gridcolor": "#C8D4E3",
             "linecolor": "#C8D4E3",
             "minorgridcolor": "#C8D4E3",
             "startlinecolor": "#2a3f5f"
            },
            "baxis": {
             "endlinecolor": "#2a3f5f",
             "gridcolor": "#C8D4E3",
             "linecolor": "#C8D4E3",
             "minorgridcolor": "#C8D4E3",
             "startlinecolor": "#2a3f5f"
            },
            "type": "carpet"
           }
          ],
          "choropleth": [
           {
            "colorbar": {
             "outlinewidth": 0,
             "ticks": ""
            },
            "type": "choropleth"
           }
          ],
          "contour": [
           {
            "colorbar": {
             "outlinewidth": 0,
             "ticks": ""
            },
            "colorscale": [
             [
              0,
              "#0d0887"
             ],
             [
              0.1111111111111111,
              "#46039f"
             ],
             [
              0.2222222222222222,
              "#7201a8"
             ],
             [
              0.3333333333333333,
              "#9c179e"
             ],
             [
              0.4444444444444444,
              "#bd3786"
             ],
             [
              0.5555555555555556,
              "#d8576b"
             ],
             [
              0.6666666666666666,
              "#ed7953"
             ],
             [
              0.7777777777777778,
              "#fb9f3a"
             ],
             [
              0.8888888888888888,
              "#fdca26"
             ],
             [
              1,
              "#f0f921"
             ]
            ],
            "type": "contour"
           }
          ],
          "contourcarpet": [
           {
            "colorbar": {
             "outlinewidth": 0,
             "ticks": ""
            },
            "type": "contourcarpet"
           }
          ],
          "heatmap": [
           {
            "colorbar": {
             "outlinewidth": 0,
             "ticks": ""
            },
            "colorscale": [
             [
              0,
              "#0d0887"
             ],
             [
              0.1111111111111111,
              "#46039f"
             ],
             [
              0.2222222222222222,
              "#7201a8"
             ],
             [
              0.3333333333333333,
              "#9c179e"
             ],
             [
              0.4444444444444444,
              "#bd3786"
             ],
             [
              0.5555555555555556,
              "#d8576b"
             ],
             [
              0.6666666666666666,
              "#ed7953"
             ],
             [
              0.7777777777777778,
              "#fb9f3a"
             ],
             [
              0.8888888888888888,
              "#fdca26"
             ],
             [
              1,
              "#f0f921"
             ]
            ],
            "type": "heatmap"
           }
          ],
          "heatmapgl": [
           {
            "colorbar": {
             "outlinewidth": 0,
             "ticks": ""
            },
            "colorscale": [
             [
              0,
              "#0d0887"
             ],
             [
              0.1111111111111111,
              "#46039f"
             ],
             [
              0.2222222222222222,
              "#7201a8"
             ],
             [
              0.3333333333333333,
              "#9c179e"
             ],
             [
              0.4444444444444444,
              "#bd3786"
             ],
             [
              0.5555555555555556,
              "#d8576b"
             ],
             [
              0.6666666666666666,
              "#ed7953"
             ],
             [
              0.7777777777777778,
              "#fb9f3a"
             ],
             [
              0.8888888888888888,
              "#fdca26"
             ],
             [
              1,
              "#f0f921"
             ]
            ],
            "type": "heatmapgl"
           }
          ],
          "histogram": [
           {
            "marker": {
             "pattern": {
              "fillmode": "overlay",
              "size": 10,
              "solidity": 0.2
             }
            },
            "type": "histogram"
           }
          ],
          "histogram2d": [
           {
            "colorbar": {
             "outlinewidth": 0,
             "ticks": ""
            },
            "colorscale": [
             [
              0,
              "#0d0887"
             ],
             [
              0.1111111111111111,
              "#46039f"
             ],
             [
              0.2222222222222222,
              "#7201a8"
             ],
             [
              0.3333333333333333,
              "#9c179e"
             ],
             [
              0.4444444444444444,
              "#bd3786"
             ],
             [
              0.5555555555555556,
              "#d8576b"
             ],
             [
              0.6666666666666666,
              "#ed7953"
             ],
             [
              0.7777777777777778,
              "#fb9f3a"
             ],
             [
              0.8888888888888888,
              "#fdca26"
             ],
             [
              1,
              "#f0f921"
             ]
            ],
            "type": "histogram2d"
           }
          ],
          "histogram2dcontour": [
           {
            "colorbar": {
             "outlinewidth": 0,
             "ticks": ""
            },
            "colorscale": [
             [
              0,
              "#0d0887"
             ],
             [
              0.1111111111111111,
              "#46039f"
             ],
             [
              0.2222222222222222,
              "#7201a8"
             ],
             [
              0.3333333333333333,
              "#9c179e"
             ],
             [
              0.4444444444444444,
              "#bd3786"
             ],
             [
              0.5555555555555556,
              "#d8576b"
             ],
             [
              0.6666666666666666,
              "#ed7953"
             ],
             [
              0.7777777777777778,
              "#fb9f3a"
             ],
             [
              0.8888888888888888,
              "#fdca26"
             ],
             [
              1,
              "#f0f921"
             ]
            ],
            "type": "histogram2dcontour"
           }
          ],
          "mesh3d": [
           {
            "colorbar": {
             "outlinewidth": 0,
             "ticks": ""
            },
            "type": "mesh3d"
           }
          ],
          "parcoords": [
           {
            "line": {
             "colorbar": {
              "outlinewidth": 0,
              "ticks": ""
             }
            },
            "type": "parcoords"
           }
          ],
          "pie": [
           {
            "automargin": true,
            "type": "pie"
           }
          ],
          "scatter": [
           {
            "fillpattern": {
             "fillmode": "overlay",
             "size": 10,
             "solidity": 0.2
            },
            "type": "scatter"
           }
          ],
          "scatter3d": [
           {
            "line": {
             "colorbar": {
              "outlinewidth": 0,
              "ticks": ""
             }
            },
            "marker": {
             "colorbar": {
              "outlinewidth": 0,
              "ticks": ""
             }
            },
            "type": "scatter3d"
           }
          ],
          "scattercarpet": [
           {
            "marker": {
             "colorbar": {
              "outlinewidth": 0,
              "ticks": ""
             }
            },
            "type": "scattercarpet"
           }
          ],
          "scattergeo": [
           {
            "marker": {
             "colorbar": {
              "outlinewidth": 0,
              "ticks": ""
             }
            },
            "type": "scattergeo"
           }
          ],
          "scattergl": [
           {
            "marker": {
             "colorbar": {
              "outlinewidth": 0,
              "ticks": ""
             }
            },
            "type": "scattergl"
           }
          ],
          "scattermapbox": [
           {
            "marker": {
             "colorbar": {
              "outlinewidth": 0,
              "ticks": ""
             }
            },
            "type": "scattermapbox"
           }
          ],
          "scatterpolar": [
           {
            "marker": {
             "colorbar": {
              "outlinewidth": 0,
              "ticks": ""
             }
            },
            "type": "scatterpolar"
           }
          ],
          "scatterpolargl": [
           {
            "marker": {
             "colorbar": {
              "outlinewidth": 0,
              "ticks": ""
             }
            },
            "type": "scatterpolargl"
           }
          ],
          "scatterternary": [
           {
            "marker": {
             "colorbar": {
              "outlinewidth": 0,
              "ticks": ""
             }
            },
            "type": "scatterternary"
           }
          ],
          "surface": [
           {
            "colorbar": {
             "outlinewidth": 0,
             "ticks": ""
            },
            "colorscale": [
             [
              0,
              "#0d0887"
             ],
             [
              0.1111111111111111,
              "#46039f"
             ],
             [
              0.2222222222222222,
              "#7201a8"
             ],
             [
              0.3333333333333333,
              "#9c179e"
             ],
             [
              0.4444444444444444,
              "#bd3786"
             ],
             [
              0.5555555555555556,
              "#d8576b"
             ],
             [
              0.6666666666666666,
              "#ed7953"
             ],
             [
              0.7777777777777778,
              "#fb9f3a"
             ],
             [
              0.8888888888888888,
              "#fdca26"
             ],
             [
              1,
              "#f0f921"
             ]
            ],
            "type": "surface"
           }
          ],
          "table": [
           {
            "cells": {
             "fill": {
              "color": "#EBF0F8"
             },
             "line": {
              "color": "white"
             }
            },
            "header": {
             "fill": {
              "color": "#C8D4E3"
             },
             "line": {
              "color": "white"
             }
            },
            "type": "table"
           }
          ]
         },
         "layout": {
          "annotationdefaults": {
           "arrowcolor": "#2a3f5f",
           "arrowhead": 0,
           "arrowwidth": 1
          },
          "autotypenumbers": "strict",
          "coloraxis": {
           "colorbar": {
            "outlinewidth": 0,
            "ticks": ""
           }
          },
          "colorscale": {
           "diverging": [
            [
             0,
             "#8e0152"
            ],
            [
             0.1,
             "#c51b7d"
            ],
            [
             0.2,
             "#de77ae"
            ],
            [
             0.3,
             "#f1b6da"
            ],
            [
             0.4,
             "#fde0ef"
            ],
            [
             0.5,
             "#f7f7f7"
            ],
            [
             0.6,
             "#e6f5d0"
            ],
            [
             0.7,
             "#b8e186"
            ],
            [
             0.8,
             "#7fbc41"
            ],
            [
             0.9,
             "#4d9221"
            ],
            [
             1,
             "#276419"
            ]
           ],
           "sequential": [
            [
             0,
             "#0d0887"
            ],
            [
             0.1111111111111111,
             "#46039f"
            ],
            [
             0.2222222222222222,
             "#7201a8"
            ],
            [
             0.3333333333333333,
             "#9c179e"
            ],
            [
             0.4444444444444444,
             "#bd3786"
            ],
            [
             0.5555555555555556,
             "#d8576b"
            ],
            [
             0.6666666666666666,
             "#ed7953"
            ],
            [
             0.7777777777777778,
             "#fb9f3a"
            ],
            [
             0.8888888888888888,
             "#fdca26"
            ],
            [
             1,
             "#f0f921"
            ]
           ],
           "sequentialminus": [
            [
             0,
             "#0d0887"
            ],
            [
             0.1111111111111111,
             "#46039f"
            ],
            [
             0.2222222222222222,
             "#7201a8"
            ],
            [
             0.3333333333333333,
             "#9c179e"
            ],
            [
             0.4444444444444444,
             "#bd3786"
            ],
            [
             0.5555555555555556,
             "#d8576b"
            ],
            [
             0.6666666666666666,
             "#ed7953"
            ],
            [
             0.7777777777777778,
             "#fb9f3a"
            ],
            [
             0.8888888888888888,
             "#fdca26"
            ],
            [
             1,
             "#f0f921"
            ]
           ]
          },
          "colorway": [
           "#636efa",
           "#EF553B",
           "#00cc96",
           "#ab63fa",
           "#FFA15A",
           "#19d3f3",
           "#FF6692",
           "#B6E880",
           "#FF97FF",
           "#FECB52"
          ],
          "font": {
           "color": "#2a3f5f"
          },
          "geo": {
           "bgcolor": "white",
           "lakecolor": "white",
           "landcolor": "white",
           "showlakes": true,
           "showland": true,
           "subunitcolor": "#C8D4E3"
          },
          "hoverlabel": {
           "align": "left"
          },
          "hovermode": "closest",
          "mapbox": {
           "style": "light"
          },
          "paper_bgcolor": "white",
          "plot_bgcolor": "white",
          "polar": {
           "angularaxis": {
            "gridcolor": "#EBF0F8",
            "linecolor": "#EBF0F8",
            "ticks": ""
           },
           "bgcolor": "white",
           "radialaxis": {
            "gridcolor": "#EBF0F8",
            "linecolor": "#EBF0F8",
            "ticks": ""
           }
          },
          "scene": {
           "xaxis": {
            "backgroundcolor": "white",
            "gridcolor": "#DFE8F3",
            "gridwidth": 2,
            "linecolor": "#EBF0F8",
            "showbackground": true,
            "ticks": "",
            "zerolinecolor": "#EBF0F8"
           },
           "yaxis": {
            "backgroundcolor": "white",
            "gridcolor": "#DFE8F3",
            "gridwidth": 2,
            "linecolor": "#EBF0F8",
            "showbackground": true,
            "ticks": "",
            "zerolinecolor": "#EBF0F8"
           },
           "zaxis": {
            "backgroundcolor": "white",
            "gridcolor": "#DFE8F3",
            "gridwidth": 2,
            "linecolor": "#EBF0F8",
            "showbackground": true,
            "ticks": "",
            "zerolinecolor": "#EBF0F8"
           }
          },
          "shapedefaults": {
           "line": {
            "color": "#2a3f5f"
           }
          },
          "ternary": {
           "aaxis": {
            "gridcolor": "#DFE8F3",
            "linecolor": "#A2B1C6",
            "ticks": ""
           },
           "baxis": {
            "gridcolor": "#DFE8F3",
            "linecolor": "#A2B1C6",
            "ticks": ""
           },
           "bgcolor": "white",
           "caxis": {
            "gridcolor": "#DFE8F3",
            "linecolor": "#A2B1C6",
            "ticks": ""
           }
          },
          "title": {
           "x": 0.05
          },
          "xaxis": {
           "automargin": true,
           "gridcolor": "#EBF0F8",
           "linecolor": "#EBF0F8",
           "ticks": "",
           "title": {
            "standoff": 15
           },
           "zerolinecolor": "#EBF0F8",
           "zerolinewidth": 2
          },
          "yaxis": {
           "automargin": true,
           "gridcolor": "#EBF0F8",
           "linecolor": "#EBF0F8",
           "ticks": "",
           "title": {
            "standoff": 15
           },
           "zerolinecolor": "#EBF0F8",
           "zerolinewidth": 2
          }
         }
        },
        "title": {
         "text": "Execution Time vs Input Size"
        },
        "xaxis": {
         "title": {
          "text": "Input Size"
         }
        },
        "yaxis": {
         "title": {
          "text": "Execution Time (s)"
         }
        }
       }
      }
     },
     "metadata": {},
     "output_type": "display_data"
    }
   ],
   "source": [
    "array_sizes = [100, 200, 300, 400, 500, 600, 700, 800, 900, 1000]\n",
    "times = measure_execution_time(array_sizes, num_trials=10, k=5)\n",
    "plot_execution_times(array_sizes, times)\n"
   ]
  },
  {
   "cell_type": "code",
   "execution_count": 98,
   "metadata": {},
   "outputs": [],
   "source": [
    "import plotly.graph_objs as go\n",
    "\n",
    "class Node:\n",
    "    def __init__(self, value):\n",
    "        self.value = value\n",
    "        self.left_child = None\n",
    "        self.right_child = None\n",
    "\n",
    "class BST:\n",
    "    def __init__(self):\n",
    "        self.root = None\n",
    "\n",
    "    def add(self, value):\n",
    "        if self.root is None:\n",
    "            self.root = Node(value)\n",
    "        else:\n",
    "            self._add_recursive(self.root, value)\n",
    "\n",
    "    def _add_recursive(self, current_node, value):\n",
    "        if value <= current_node.value:\n",
    "            if current_node.left_child is None:\n",
    "                current_node.left_child = Node(value)\n",
    "            else:\n",
    "                self._add_recursive(current_node.left_child, value)\n",
    "        else:\n",
    "            if current_node.right_child is None:\n",
    "                current_node.right_child = Node(value)\n",
    "            else:\n",
    "                self._add_recursive(current_node.right_child, value)\n",
    "\n",
    "    def plot(self):\n",
    "        \"\"\"Plota a árvore binária usando Plotly.\"\"\"\n",
    "        positions = {}\n",
    "        edges = []\n",
    "\n",
    "        # Define as posições dos nós e as conexões (arestas)\n",
    "        self._get_positions(self.root, 0, 0, 10, positions, edges)\n",
    "\n",
    "        # Prepara os dados para o Plotly\n",
    "        x_nodes = [positions[node][0] for node in positions]\n",
    "        y_nodes = [positions[node][1] for node in positions]\n",
    "        labels = [node.value for node in positions]\n",
    "        \n",
    "        # Arestas\n",
    "        x_edges = []\n",
    "        y_edges = []\n",
    "        for edge in edges:\n",
    "            x_edges.extend([positions[edge[0]][0], positions[edge[1]][0], None])\n",
    "            y_edges.extend([positions[edge[0]][1], positions[edge[1]][1], None])\n",
    "\n",
    "        # Cria as linhas das arestas\n",
    "        edge_trace = go.Scatter(\n",
    "            x=x_edges,\n",
    "            y=y_edges,\n",
    "            mode='lines',\n",
    "            line=dict(color='black', width=1),\n",
    "            hoverinfo='none'\n",
    "        )\n",
    "\n",
    "        # Cria os nós\n",
    "        node_trace = go.Scatter(\n",
    "            x=x_nodes,\n",
    "            y=y_nodes,\n",
    "            mode='markers+text',\n",
    "            marker=dict(size=20, color='lightblue', line=dict(color='black', width=1)),\n",
    "            text=[str(label) for label in labels],\n",
    "            textposition=\"top center\",\n",
    "            hoverinfo='text'\n",
    "        )\n",
    "\n",
    "        # Configura o layout\n",
    "        layout = go.Layout(\n",
    "            title='Árvore Binária',\n",
    "            showlegend=False,\n",
    "            xaxis=dict(showgrid=False, zeroline=False),\n",
    "            yaxis=dict(showgrid=False, zeroline=False),\n",
    "            template=\"plotly_white\"\n",
    "        )\n",
    "\n",
    "        # Plota a árvore\n",
    "        fig = go.Figure(data=[edge_trace, node_trace], layout=layout)\n",
    "        fig.show()\n",
    "\n",
    "    def _get_positions(self, node, x, y, offset, positions, edges):\n",
    "        \"\"\"Recursivamente determina as posições dos nós e as conexões.\"\"\"\n",
    "        if node is not None:\n",
    "            positions[node] = (x, y)\n",
    "            if node.left_child:\n",
    "                edges.append((node, node.left_child))\n",
    "                self._get_positions(node.left_child, x - offset, y - 10, offset / 2, positions, edges)\n",
    "            if node.right_child:\n",
    "                edges.append((node, node.right_child))\n",
    "                self._get_positions(node.right_child, x + offset, y - 10, offset / 2, positions, edges)\n"
   ]
  },
  {
   "cell_type": "code",
   "execution_count": 99,
   "metadata": {},
   "outputs": [
    {
     "data": {
      "application/vnd.plotly.v1+json": {
       "config": {
        "plotlyServerURL": "https://plot.ly"
       },
       "data": [
        {
         "hoverinfo": "none",
         "line": {
          "color": "black",
          "width": 1
         },
         "mode": "lines",
         "type": "scatter",
         "x": [
          0,
          -10,
          null,
          -10,
          -15,
          null,
          -15,
          -17.5,
          null,
          -15,
          -12.5,
          null,
          -12.5,
          -13.75,
          null,
          0,
          10,
          null,
          10,
          5,
          null,
          10,
          15,
          null
         ],
         "y": [
          0,
          -10,
          null,
          -10,
          -20,
          null,
          -20,
          -30,
          null,
          -20,
          -30,
          null,
          -30,
          -40,
          null,
          0,
          -10,
          null,
          -10,
          -20,
          null,
          -10,
          -20,
          null
         ]
        },
        {
         "hoverinfo": "text",
         "marker": {
          "color": "lightblue",
          "line": {
           "color": "black",
           "width": 1
          },
          "size": 20
         },
         "mode": "markers+text",
         "text": [
          "15",
          "5",
          "2",
          "1",
          "5",
          "3",
          "20",
          "17",
          "22"
         ],
         "textposition": "top center",
         "type": "scatter",
         "x": [
          0,
          -10,
          -15,
          -17.5,
          -12.5,
          -13.75,
          10,
          5,
          15
         ],
         "y": [
          0,
          -10,
          -20,
          -30,
          -30,
          -40,
          -10,
          -20,
          -20
         ]
        }
       ],
       "layout": {
        "showlegend": false,
        "template": {
         "data": {
          "bar": [
           {
            "error_x": {
             "color": "#2a3f5f"
            },
            "error_y": {
             "color": "#2a3f5f"
            },
            "marker": {
             "line": {
              "color": "white",
              "width": 0.5
             },
             "pattern": {
              "fillmode": "overlay",
              "size": 10,
              "solidity": 0.2
             }
            },
            "type": "bar"
           }
          ],
          "barpolar": [
           {
            "marker": {
             "line": {
              "color": "white",
              "width": 0.5
             },
             "pattern": {
              "fillmode": "overlay",
              "size": 10,
              "solidity": 0.2
             }
            },
            "type": "barpolar"
           }
          ],
          "carpet": [
           {
            "aaxis": {
             "endlinecolor": "#2a3f5f",
             "gridcolor": "#C8D4E3",
             "linecolor": "#C8D4E3",
             "minorgridcolor": "#C8D4E3",
             "startlinecolor": "#2a3f5f"
            },
            "baxis": {
             "endlinecolor": "#2a3f5f",
             "gridcolor": "#C8D4E3",
             "linecolor": "#C8D4E3",
             "minorgridcolor": "#C8D4E3",
             "startlinecolor": "#2a3f5f"
            },
            "type": "carpet"
           }
          ],
          "choropleth": [
           {
            "colorbar": {
             "outlinewidth": 0,
             "ticks": ""
            },
            "type": "choropleth"
           }
          ],
          "contour": [
           {
            "colorbar": {
             "outlinewidth": 0,
             "ticks": ""
            },
            "colorscale": [
             [
              0,
              "#0d0887"
             ],
             [
              0.1111111111111111,
              "#46039f"
             ],
             [
              0.2222222222222222,
              "#7201a8"
             ],
             [
              0.3333333333333333,
              "#9c179e"
             ],
             [
              0.4444444444444444,
              "#bd3786"
             ],
             [
              0.5555555555555556,
              "#d8576b"
             ],
             [
              0.6666666666666666,
              "#ed7953"
             ],
             [
              0.7777777777777778,
              "#fb9f3a"
             ],
             [
              0.8888888888888888,
              "#fdca26"
             ],
             [
              1,
              "#f0f921"
             ]
            ],
            "type": "contour"
           }
          ],
          "contourcarpet": [
           {
            "colorbar": {
             "outlinewidth": 0,
             "ticks": ""
            },
            "type": "contourcarpet"
           }
          ],
          "heatmap": [
           {
            "colorbar": {
             "outlinewidth": 0,
             "ticks": ""
            },
            "colorscale": [
             [
              0,
              "#0d0887"
             ],
             [
              0.1111111111111111,
              "#46039f"
             ],
             [
              0.2222222222222222,
              "#7201a8"
             ],
             [
              0.3333333333333333,
              "#9c179e"
             ],
             [
              0.4444444444444444,
              "#bd3786"
             ],
             [
              0.5555555555555556,
              "#d8576b"
             ],
             [
              0.6666666666666666,
              "#ed7953"
             ],
             [
              0.7777777777777778,
              "#fb9f3a"
             ],
             [
              0.8888888888888888,
              "#fdca26"
             ],
             [
              1,
              "#f0f921"
             ]
            ],
            "type": "heatmap"
           }
          ],
          "heatmapgl": [
           {
            "colorbar": {
             "outlinewidth": 0,
             "ticks": ""
            },
            "colorscale": [
             [
              0,
              "#0d0887"
             ],
             [
              0.1111111111111111,
              "#46039f"
             ],
             [
              0.2222222222222222,
              "#7201a8"
             ],
             [
              0.3333333333333333,
              "#9c179e"
             ],
             [
              0.4444444444444444,
              "#bd3786"
             ],
             [
              0.5555555555555556,
              "#d8576b"
             ],
             [
              0.6666666666666666,
              "#ed7953"
             ],
             [
              0.7777777777777778,
              "#fb9f3a"
             ],
             [
              0.8888888888888888,
              "#fdca26"
             ],
             [
              1,
              "#f0f921"
             ]
            ],
            "type": "heatmapgl"
           }
          ],
          "histogram": [
           {
            "marker": {
             "pattern": {
              "fillmode": "overlay",
              "size": 10,
              "solidity": 0.2
             }
            },
            "type": "histogram"
           }
          ],
          "histogram2d": [
           {
            "colorbar": {
             "outlinewidth": 0,
             "ticks": ""
            },
            "colorscale": [
             [
              0,
              "#0d0887"
             ],
             [
              0.1111111111111111,
              "#46039f"
             ],
             [
              0.2222222222222222,
              "#7201a8"
             ],
             [
              0.3333333333333333,
              "#9c179e"
             ],
             [
              0.4444444444444444,
              "#bd3786"
             ],
             [
              0.5555555555555556,
              "#d8576b"
             ],
             [
              0.6666666666666666,
              "#ed7953"
             ],
             [
              0.7777777777777778,
              "#fb9f3a"
             ],
             [
              0.8888888888888888,
              "#fdca26"
             ],
             [
              1,
              "#f0f921"
             ]
            ],
            "type": "histogram2d"
           }
          ],
          "histogram2dcontour": [
           {
            "colorbar": {
             "outlinewidth": 0,
             "ticks": ""
            },
            "colorscale": [
             [
              0,
              "#0d0887"
             ],
             [
              0.1111111111111111,
              "#46039f"
             ],
             [
              0.2222222222222222,
              "#7201a8"
             ],
             [
              0.3333333333333333,
              "#9c179e"
             ],
             [
              0.4444444444444444,
              "#bd3786"
             ],
             [
              0.5555555555555556,
              "#d8576b"
             ],
             [
              0.6666666666666666,
              "#ed7953"
             ],
             [
              0.7777777777777778,
              "#fb9f3a"
             ],
             [
              0.8888888888888888,
              "#fdca26"
             ],
             [
              1,
              "#f0f921"
             ]
            ],
            "type": "histogram2dcontour"
           }
          ],
          "mesh3d": [
           {
            "colorbar": {
             "outlinewidth": 0,
             "ticks": ""
            },
            "type": "mesh3d"
           }
          ],
          "parcoords": [
           {
            "line": {
             "colorbar": {
              "outlinewidth": 0,
              "ticks": ""
             }
            },
            "type": "parcoords"
           }
          ],
          "pie": [
           {
            "automargin": true,
            "type": "pie"
           }
          ],
          "scatter": [
           {
            "fillpattern": {
             "fillmode": "overlay",
             "size": 10,
             "solidity": 0.2
            },
            "type": "scatter"
           }
          ],
          "scatter3d": [
           {
            "line": {
             "colorbar": {
              "outlinewidth": 0,
              "ticks": ""
             }
            },
            "marker": {
             "colorbar": {
              "outlinewidth": 0,
              "ticks": ""
             }
            },
            "type": "scatter3d"
           }
          ],
          "scattercarpet": [
           {
            "marker": {
             "colorbar": {
              "outlinewidth": 0,
              "ticks": ""
             }
            },
            "type": "scattercarpet"
           }
          ],
          "scattergeo": [
           {
            "marker": {
             "colorbar": {
              "outlinewidth": 0,
              "ticks": ""
             }
            },
            "type": "scattergeo"
           }
          ],
          "scattergl": [
           {
            "marker": {
             "colorbar": {
              "outlinewidth": 0,
              "ticks": ""
             }
            },
            "type": "scattergl"
           }
          ],
          "scattermapbox": [
           {
            "marker": {
             "colorbar": {
              "outlinewidth": 0,
              "ticks": ""
             }
            },
            "type": "scattermapbox"
           }
          ],
          "scatterpolar": [
           {
            "marker": {
             "colorbar": {
              "outlinewidth": 0,
              "ticks": ""
             }
            },
            "type": "scatterpolar"
           }
          ],
          "scatterpolargl": [
           {
            "marker": {
             "colorbar": {
              "outlinewidth": 0,
              "ticks": ""
             }
            },
            "type": "scatterpolargl"
           }
          ],
          "scatterternary": [
           {
            "marker": {
             "colorbar": {
              "outlinewidth": 0,
              "ticks": ""
             }
            },
            "type": "scatterternary"
           }
          ],
          "surface": [
           {
            "colorbar": {
             "outlinewidth": 0,
             "ticks": ""
            },
            "colorscale": [
             [
              0,
              "#0d0887"
             ],
             [
              0.1111111111111111,
              "#46039f"
             ],
             [
              0.2222222222222222,
              "#7201a8"
             ],
             [
              0.3333333333333333,
              "#9c179e"
             ],
             [
              0.4444444444444444,
              "#bd3786"
             ],
             [
              0.5555555555555556,
              "#d8576b"
             ],
             [
              0.6666666666666666,
              "#ed7953"
             ],
             [
              0.7777777777777778,
              "#fb9f3a"
             ],
             [
              0.8888888888888888,
              "#fdca26"
             ],
             [
              1,
              "#f0f921"
             ]
            ],
            "type": "surface"
           }
          ],
          "table": [
           {
            "cells": {
             "fill": {
              "color": "#EBF0F8"
             },
             "line": {
              "color": "white"
             }
            },
            "header": {
             "fill": {
              "color": "#C8D4E3"
             },
             "line": {
              "color": "white"
             }
            },
            "type": "table"
           }
          ]
         },
         "layout": {
          "annotationdefaults": {
           "arrowcolor": "#2a3f5f",
           "arrowhead": 0,
           "arrowwidth": 1
          },
          "autotypenumbers": "strict",
          "coloraxis": {
           "colorbar": {
            "outlinewidth": 0,
            "ticks": ""
           }
          },
          "colorscale": {
           "diverging": [
            [
             0,
             "#8e0152"
            ],
            [
             0.1,
             "#c51b7d"
            ],
            [
             0.2,
             "#de77ae"
            ],
            [
             0.3,
             "#f1b6da"
            ],
            [
             0.4,
             "#fde0ef"
            ],
            [
             0.5,
             "#f7f7f7"
            ],
            [
             0.6,
             "#e6f5d0"
            ],
            [
             0.7,
             "#b8e186"
            ],
            [
             0.8,
             "#7fbc41"
            ],
            [
             0.9,
             "#4d9221"
            ],
            [
             1,
             "#276419"
            ]
           ],
           "sequential": [
            [
             0,
             "#0d0887"
            ],
            [
             0.1111111111111111,
             "#46039f"
            ],
            [
             0.2222222222222222,
             "#7201a8"
            ],
            [
             0.3333333333333333,
             "#9c179e"
            ],
            [
             0.4444444444444444,
             "#bd3786"
            ],
            [
             0.5555555555555556,
             "#d8576b"
            ],
            [
             0.6666666666666666,
             "#ed7953"
            ],
            [
             0.7777777777777778,
             "#fb9f3a"
            ],
            [
             0.8888888888888888,
             "#fdca26"
            ],
            [
             1,
             "#f0f921"
            ]
           ],
           "sequentialminus": [
            [
             0,
             "#0d0887"
            ],
            [
             0.1111111111111111,
             "#46039f"
            ],
            [
             0.2222222222222222,
             "#7201a8"
            ],
            [
             0.3333333333333333,
             "#9c179e"
            ],
            [
             0.4444444444444444,
             "#bd3786"
            ],
            [
             0.5555555555555556,
             "#d8576b"
            ],
            [
             0.6666666666666666,
             "#ed7953"
            ],
            [
             0.7777777777777778,
             "#fb9f3a"
            ],
            [
             0.8888888888888888,
             "#fdca26"
            ],
            [
             1,
             "#f0f921"
            ]
           ]
          },
          "colorway": [
           "#636efa",
           "#EF553B",
           "#00cc96",
           "#ab63fa",
           "#FFA15A",
           "#19d3f3",
           "#FF6692",
           "#B6E880",
           "#FF97FF",
           "#FECB52"
          ],
          "font": {
           "color": "#2a3f5f"
          },
          "geo": {
           "bgcolor": "white",
           "lakecolor": "white",
           "landcolor": "white",
           "showlakes": true,
           "showland": true,
           "subunitcolor": "#C8D4E3"
          },
          "hoverlabel": {
           "align": "left"
          },
          "hovermode": "closest",
          "mapbox": {
           "style": "light"
          },
          "paper_bgcolor": "white",
          "plot_bgcolor": "white",
          "polar": {
           "angularaxis": {
            "gridcolor": "#EBF0F8",
            "linecolor": "#EBF0F8",
            "ticks": ""
           },
           "bgcolor": "white",
           "radialaxis": {
            "gridcolor": "#EBF0F8",
            "linecolor": "#EBF0F8",
            "ticks": ""
           }
          },
          "scene": {
           "xaxis": {
            "backgroundcolor": "white",
            "gridcolor": "#DFE8F3",
            "gridwidth": 2,
            "linecolor": "#EBF0F8",
            "showbackground": true,
            "ticks": "",
            "zerolinecolor": "#EBF0F8"
           },
           "yaxis": {
            "backgroundcolor": "white",
            "gridcolor": "#DFE8F3",
            "gridwidth": 2,
            "linecolor": "#EBF0F8",
            "showbackground": true,
            "ticks": "",
            "zerolinecolor": "#EBF0F8"
           },
           "zaxis": {
            "backgroundcolor": "white",
            "gridcolor": "#DFE8F3",
            "gridwidth": 2,
            "linecolor": "#EBF0F8",
            "showbackground": true,
            "ticks": "",
            "zerolinecolor": "#EBF0F8"
           }
          },
          "shapedefaults": {
           "line": {
            "color": "#2a3f5f"
           }
          },
          "ternary": {
           "aaxis": {
            "gridcolor": "#DFE8F3",
            "linecolor": "#A2B1C6",
            "ticks": ""
           },
           "baxis": {
            "gridcolor": "#DFE8F3",
            "linecolor": "#A2B1C6",
            "ticks": ""
           },
           "bgcolor": "white",
           "caxis": {
            "gridcolor": "#DFE8F3",
            "linecolor": "#A2B1C6",
            "ticks": ""
           }
          },
          "title": {
           "x": 0.05
          },
          "xaxis": {
           "automargin": true,
           "gridcolor": "#EBF0F8",
           "linecolor": "#EBF0F8",
           "ticks": "",
           "title": {
            "standoff": 15
           },
           "zerolinecolor": "#EBF0F8",
           "zerolinewidth": 2
          },
          "yaxis": {
           "automargin": true,
           "gridcolor": "#EBF0F8",
           "linecolor": "#EBF0F8",
           "ticks": "",
           "title": {
            "standoff": 15
           },
           "zerolinecolor": "#EBF0F8",
           "zerolinewidth": 2
          }
         }
        },
        "title": {
         "text": "Árvore Binária"
        },
        "xaxis": {
         "showgrid": false,
         "zeroline": false
        },
        "yaxis": {
         "showgrid": false,
         "zeroline": false
        }
       }
      }
     },
     "metadata": {},
     "output_type": "display_data"
    }
   ],
   "source": [
    "# Construindo a árvore binária\n",
    "bst = BST()\n",
    "for value in [15, 5, 20, 17, 22, 2, 5, 1, 3]:\n",
    "    bst.add(value)\n",
    "\n",
    "# Plotando a árvore\n",
    "bst.plot()"
   ]
  }
 ],
 "metadata": {
  "kernelspec": {
   "display_name": "Python 3",
   "language": "python",
   "name": "python3"
  },
  "language_info": {
   "codemirror_mode": {
    "name": "ipython",
    "version": 3
   },
   "file_extension": ".py",
   "mimetype": "text/x-python",
   "name": "python",
   "nbconvert_exporter": "python",
   "pygments_lexer": "ipython3",
   "version": "3.10.11"
  }
 },
 "nbformat": 4,
 "nbformat_minor": 2
}
