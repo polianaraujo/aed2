{
 "cells": [
  {
   "cell_type": "markdown",
   "metadata": {},
   "source": [
    "# Unidade 2 Trabalho 1 - Rede de co-autoria com Gephi"
   ]
  },
  {
   "cell_type": "markdown",
   "metadata": {},
   "source": [
    "- Maria Clara Moura de Freitas (20230093652)\n",
    "- Poliana Ellen de Araújo (20240001289)"
   ]
  },
  {
   "cell_type": "markdown",
   "metadata": {
    "id": "mtvZom9wgztk"
   },
   "source": [
    "Utilizar o Gephi, aplicar os conhecimentos vistos no curso para analisar a rede de co-autoria dos professores permanentes do Programa de Pós-Graduação em Engenharia Elétrica e de Computação (PPgEEC)."
   ]
  },
  {
   "cell_type": "markdown",
   "metadata": {
    "id": "7KTOnYLohJrO"
   },
   "source": [
    "## Requisito 1\n",
    "\n",
    "- A partir da rede construída gerar figuras similares utilizando o Gephi.\n",
    "- O tamanho do vértice deverá ser proporcional a quantidade de vizinhos. Que outra métrica faria sentido ser o tamanho do vértice?\n",
    "- As cores devem ser relacionadas com o Closeness ou Betweenness ou Eigenvector Centrality\n",
    "- Adote um layout que seja razoável perceber a diferença entre as cores do vértices. As figuras devem ser acompanhadas de descrições/explicações"
   ]
  },
  {
   "cell_type": "code",
   "execution_count": null,
   "metadata": {
    "colab": {
     "base_uri": "https://localhost:8080/"
    },
    "collapsed": true,
    "id": "l878LRyIgqul",
    "outputId": "a95ca70f-783d-4d1a-8972-44710b0fd374"
   },
   "outputs": [],
   "source": [
    "%pip install osmnx networkx\n",
    "%pip install scipy seaborn"
   ]
  },
  {
   "cell_type": "code",
   "execution_count": 8,
   "metadata": {
    "id": "s-TqXV4jv_HK"
   },
   "outputs": [],
   "source": [
    "import osmnx as ox\n",
    "import numpy as np\n",
    "import pandas as pd\n",
    "import seaborn as sns\n",
    "import networkx as nx\n",
    "import matplotlib as mpl\n",
    "import matplotlib.pyplot as plt\n",
    "import matplotlib.patches as mpatches\n",
    "# import scipy"
   ]
  },
  {
   "cell_type": "markdown",
   "metadata": {},
   "source": [
    "## Requisito 2\n",
    "\n",
    "- A partir da rede construída gerar uma figura similar no gephi destacando o k-core e o k-shell da rede. O layout é de livre escolha. Os vértices devem ter um tamanho proporcional a propriedade degree. A figura deverá estar acompanhada de descrição/explicação."
   ]
  },
  {
   "cell_type": "code",
   "execution_count": 6,
   "metadata": {},
   "outputs": [],
   "source": [
    "# import networkx as nx\n",
    "# import matplotlib.pyplot as plt\n",
    "\n",
    "# # Carregar o grafo (substitua 'caminho_para_o_arquivo' pelo caminho do seu arquivo exportado do Gephi)\n",
    "# grafo = nx.read_graphml(\"gephi_closeness.graphml\")  # Ou use .gml para arquivos GML\n",
    "\n",
    "# # Visualizar os nós e arestas\n",
    "# print(f\"Nós: {grafo.nodes()}\")\n",
    "# print(f\"Arestas: {grafo.edges()}\")\n",
    "\n",
    "# # Identificar o k-core\n",
    "# k_core = nx.k_core(grafo)\n",
    "# print(f\"Nós no k-core: {k_core.nodes()}\")\n",
    "\n",
    "# # Identificar os k-shells\n",
    "# k_shells = nx.core_number(grafo)  # Retorna um dicionário com o k-shell de cada nó\n",
    "# print(f\"k-shells de cada nó: {k_shells}\")\n",
    "\n",
    "# # Destacar o k-core em um plot\n",
    "# pos = nx.spring_layout(grafo)  # Layout do grafo\n",
    "# nx.draw(grafo, pos, with_labels=True, node_color=\"lightblue\", edge_color=\"gray\")\n",
    "# nx.draw(k_core, pos, with_labels=True, node_color=\"orange\", edge_color=\"red\", node_size=500)\n",
    "# plt.show()"
   ]
  },
  {
   "cell_type": "code",
   "execution_count": null,
   "metadata": {},
   "outputs": [],
   "source": [
    "import networkx as nx\n",
    "\n",
    "# Carregar o grafo\n",
    "graph = nx.read_graphml(\"gephi_closeness.graphml\")  # Substitua pelo seu arquivo\n",
    "\n",
    "# Exibir informações básicas\n",
    "print(f\"Número de nós: {graph.number_of_nodes()}\")\n",
    "print(f\"Número de arestas: {graph.number_of_edges()}\")\n",
    "\n",
    "# Calcular e exibir os graus dos nós\n",
    "print(\"Graus dos nós:\")\n",
    "for node, degree in graph.degree():\n",
    "    print(f\"Nó: {node}, Grau: {degree}\")\n",
    "\n",
    "# Calcular k-core\n",
    "k_core = nx.core_number(graph)\n",
    "print(\"\\nk-core dos nós:\")\n",
    "for node, k in k_core.items():\n",
    "    print(f\"Nó: {node}, k-core: {k}\")\n"
   ]
  },
  {
   "cell_type": "markdown",
   "metadata": {},
   "source": [
    "## Requisito 3\n",
    "\n",
    "- A rede deverá estar em produção de forma análoga ao explicado na Semana 6. As cores deverão ser relacionadas ao critério de comunidade e o tamanho do vértice a uma métrica de livre escolha."
   ]
  }
 ],
 "metadata": {
  "colab": {
   "provenance": []
  },
  "kernelspec": {
   "display_name": "Python 3",
   "name": "python3"
  },
  "language_info": {
   "codemirror_mode": {
    "name": "ipython",
    "version": 3
   },
   "file_extension": ".py",
   "mimetype": "text/x-python",
   "name": "python",
   "nbconvert_exporter": "python",
   "pygments_lexer": "ipython3",
   "version": "3.10.11"
  }
 },
 "nbformat": 4,
 "nbformat_minor": 0
}
