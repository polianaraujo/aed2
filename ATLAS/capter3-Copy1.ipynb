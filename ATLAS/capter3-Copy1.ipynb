{
 "cells": [
  {
   "cell_type": "markdown",
   "id": "a8e21182-e823-4901-b713-9cb13f9b9071",
   "metadata": {},
   "source": [
    "# Exercises of capter 4"
   ]
  },
  {
   "cell_type": "markdown",
   "id": "ab29686f-57b5-4471-a74a-a2c2fefd5827",
   "metadata": {},
   "source": [
    "## 4.8 Exercises"
   ]
  },
  {
   "cell_type": "markdown",
   "id": "9e7628c9-0f20-4c90-8724-796cc61653a3",
   "metadata": {},
   "source": [
    "1. A rede no arquivo http://www.networkatlas.eu/exercises/4/1/data.txt é bipartida. Identifique os nós em cada um dos tipos e encontre os nós, em qualquer um dos tipos, que possuem mais vizinhos."
   ]
  },
  {
   "cell_type": "markdown",
   "id": "cbc925c3-7f79-45e3-8fd5-c2ee598716a6",
   "metadata": {},
   "source": []
  },
  {
   "cell_type": "markdown",
   "id": "9eaa0f48-53f4-4bd7-9ed9-9207b7ac5d52",
   "metadata": {},
   "source": [
    "2. A rede no arquivo http://www.networkatlas.eu/exercises/4/2/data.txt é multilayer (multicamadas). Os dados têm três colunas: nó fonte, nó alvo e tipo de aresta. O tipo de aresta é o ID numérico da camada ou \"C\" para um acoplamento intercamada. Dada essa rede multilayer unidimensional, determine se esta rede possui um acoplamento em estrela, em clique ou em cadeia."
   ]
  },
  {
   "attachments": {},
   "cell_type": "markdown",
   "id": "24efcc92-aa63-448b-a569-c83743690df7",
   "metadata": {},
   "source": []
  },
  {
   "cell_type": "markdown",
   "id": "9b534cb2-265b-4c92-a11f-a7a6fd220f7d",
   "metadata": {},
   "source": [
    "3. A rede no arquivo http://www.networkatlas.eu/exercises/4/3/data.txt é um hipergráfico, com uma hiperaresta por linha. Transforme-o em uma rede unipartida na qual cada hiperaresta é dividida em arestas conectando todos os nós na hiperaresta. Em seguida, transforme-o em uma rede bipartida na qual cada hiperaresta é um nó de um tipo e seus nós se conectam a ele."
   ]
  },
  {
   "attachments": {},
   "cell_type": "markdown",
   "id": "614c8452-f033-4df0-9c15-7067c26ee048",
   "metadata": {},
   "source": []
  },
  {
   "cell_type": "markdown",
   "id": "1d4eec1a-2117-4988-adcd-173820cec2d7",
   "metadata": {},
   "source": [
    "4. A rede no arquivo [http://www.networkatlas.eu/exercises/4/4/data.txt](http://www.networkatlas.eu/exercises/4/4/data.txt) é dinâmica; a terceira e a quarta colunas da lista de arestas informam o primeiro e o último momento em que a aresta esteve continuamente presente. Uma aresta pode reaparecer se estiver presente em dois períodos de tempo não contínuos. Agregue-a usando uma janela disjunta de tamanho 3."
   ]
  },
  {
   "cell_type": "markdown",
   "id": "e6dac3b7-0343-4f88-8199-2643d66b980a",
   "metadata": {},
   "source": []
  }
 ],
 "metadata": {
  "kernelspec": {
   "display_name": "Python 3 (ipykernel)",
   "language": "python",
   "name": "python3"
  },
  "language_info": {
   "codemirror_mode": {
    "name": "ipython",
    "version": 3
   },
   "file_extension": ".py",
   "mimetype": "text/x-python",
   "name": "python",
   "nbconvert_exporter": "python",
   "pygments_lexer": "ipython3",
   "version": "3.11.5"
  }
 },
 "nbformat": 4,
 "nbformat_minor": 5
}
