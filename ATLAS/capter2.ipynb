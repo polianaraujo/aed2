{
 "cells": [
  {
   "cell_type": "markdown",
   "id": "a8e21182-e823-4901-b713-9cb13f9b9071",
   "metadata": {},
   "source": [
    "# Exercises of capter 2"
   ]
  },
  {
   "cell_type": "markdown",
   "id": "ab29686f-57b5-4471-a74a-a2c2fefd5827",
   "metadata": {},
   "source": [
    "## 2.10 Exercises"
   ]
  },
  {
   "cell_type": "markdown",
   "id": "9e7628c9-0f20-4c90-8724-796cc61653a3",
   "metadata": {},
   "source": [
    "Suponha que você está lançando duas moedas ao mesmo tempo. Elas estão carregadas de maneiras diferentes, de acordo com a tabela abaixo. Calcule a probabilidade de obter todos os possíveis resultados:"
   ]
  },
  {
   "cell_type": "markdown",
   "id": "cbc925c3-7f79-45e3-8fd5-c2ee598716a6",
   "metadata": {},
   "source": [
    "Se a probabilidade da 1ª e 2ª moedas caírem, com cara para cima, forem respectivamente $p_1(H)$ e $p_2(H)$, então a probabilidade da 1ª e 2ª moedas caírem em coroa será respectivamente $p_1(T) = 1 - p_1(H)$ e $p_2(T) = 1 - p_2(H)$. Dessa forma foram encontradas as diferentes probabilidades das 5 jogadas para cada par de combinação cara/coroa."
   ]
  },
  {
   "cell_type": "markdown",
   "id": "a9f4d2fd-753d-478b-a42b-ce49ad9a80fa",
   "metadata": {},
   "source": [
    "|$p_1(H)$|$p_2(H)$|-|   $H-H$   |   $H-T$   |   $T-H$   |   $T-T$   |\n",
    "|--------|--------|-|-----------|-----------|-----------|-----------|\n",
    "|   0.5  |   0.5  |-| 0.5 x 0.5 | 0.5 x 0.5 | 0.5 x 0.5 | 0.5 x 0.5 |\n",
    "|   0.6  |   0.7  |-| 0.6 x 0.7 | 0.6 x 0.3 | 0.4 x 0.7 | 0.4 x 0.3 |\n",
    "|   0.4  |   0.8  |-| 0.4 x 0.8 | 0.4 x 0.2 | 0.6 x 0.8 | 0.6 x 0.2 |\n",
    "|   0.1  |   0.2  |-| 0.1 x 0.2 | 0.1 x 0.8 | 0.9 x 0.2 | 0.9 x 0.8 |\n",
    "|   0.3  |   0.4  |-| 0.3 x 0.4 | 0.3 x 0.6 | 0.7 x 0.4 | 0.7 x 0.6 |"
   ]
  },
  {
   "cell_type": "markdown",
   "id": "827e8808-1445-4122-8240-8d11e49a3df6",
   "metadata": {},
   "source": [
    "|$p_1(H)$|$p_2(H)$|-| $H-H$ | $H-T$ | $T-H$ | $T-T$ |\n",
    "|--------|--------|-|-------|-------|-------|-------|\n",
    "|   0.5  |   0.5  |-|  0.25 |  0.25 |  0.25 |  0.25 |\n",
    "|   0.6  |   0.7  |-|  0.42 |  0.18 |  0.28 |  0.12 |\n",
    "|   0.4  |   0.8  |-|  0.32 |  0.08 |  0.48 |  0.12 |\n",
    "|   0.1  |   0.2  |-|  0.02 |  0.08 |  0.18 |  0.72 |\n",
    "|   0.3  |   0.4  |-|  0.12 |  0.18 |  0.28 |  0.42 |"
   ]
  },
  {
   "cell_type": "markdown",
   "id": "9eaa0f48-53f4-4bd7-9ed9-9207b7ac5d52",
   "metadata": {},
   "source": [
    "2. 60% dos e-mails que chegam à minha caixa de entrada são spam. Você projetou um filtro de spam fenomenal que é capaz de me dizer, com 98% de precisão, se um e-mail é spam ou não: se um e-mail não for spam, o sistema tem 9% de probabilidade de dizer isso. O filtro sabe que 60% dos e-mails são spam, então ele sinaliza 60% dos meus e-mails. Suponha que, no final da semana, eu olhe na minha caixa de spam e veja 963 e-mails. Use o Teorema de Bayes para calcular quantos desses 963 e-mails na minha caixa de spam eu deveria suspeitar de serem não-spam."
   ]
  },
  {
   "cell_type": "markdown",
   "id": "24efcc92-aa63-448b-a569-c83743690df7",
   "metadata": {},
   "source": [
    "1. P(S)   = 0.6            (Probabilidade de um e-mail ser spam) (O mesmo que dizer que 60% dos e-mails são spam)\n",
    "2. P(N)   = 1 - P(S) = 0.4 (Probabilidade de um e-mail não ser spam)\n",
    "3. P(F|S) = 0.98           (Probabilidade do filtro marcar um e-mail como spam, dado que ele é spam)\n",
    "4. P(F|N) = 0.09           (Probabilidade do filtro marcar um e-mail como spam, dado que ele não é spam)"
   ]
  },
  {
   "cell_type": "markdown",
   "id": "69fd164b-2e25-4083-882c-da583e651c7b",
   "metadata": {},
   "source": [
    "O teorema de Bayes permite atualizar a probabilidade de um evento com base em novas evidências, e ele será utilizado para encontrar $P(N|F)$:\n",
    "$$ P(N|F) = \\frac{P(F|N)⋅P(N)}{P(F)} $$\n",
    "Sendo,\n",
    "$$ P(F) = P(F|S)⋅P(S) + P(F|N)⋅P(N)$$\n",
    "$$ P(F) = 0.98⋅0.6 + 0.09⋅0.4$$\n",
    "$$\\therefore P(F) = 0.624$$\n",
    "Dessa forma,\n",
    "$$ P(N|F) = \\frac{0.09⋅0.4}{0.624} $$\n",
    "$$\\therefore P(N|F) = 0.057692308$$\n",
    "\n",
    "Portanto, para encontrar o número de e-mails não-spam na caixa de spam basta multiplicar a probabilidade de um e-mail ser não-spam pela quantidade de e-mails que estão na caixa de spam, como a seguir:\n",
    "$$ NaoSpam = P(N|F)⋅963$$\n",
    "$$ NaoSpam = 0.057692308⋅963$$\n",
    "$$\\therefore NaoSpam = 55.557692604$$"
   ]
  },
  {
   "cell_type": "markdown",
   "id": "9b534cb2-265b-4c92-a11f-a7a6fd220f7d",
   "metadata": {},
   "source": [
    "3. Você recebe a string: \"OCZ XJMMZXO VINRZM\". Cada letra segue um processo estocástico de Markov com as regras expressas pela tabela no link http://www.networkatlas.eu/exercises/2/3/data.txt. Siga o processo por três etapas e reconstrua a resposta correta. (Nota: este é um cifra de César com deslocamento de 7 aplicada três vezes, porque a cifra de César é um processo de Markov)."
   ]
  },
  {
   "cell_type": "markdown",
   "id": "614c8452-f033-4df0-9c15-7067c26ee048",
   "metadata": {},
   "source": [
    "OCZ XJMMZXO VINRZM  \n",
    "HVS QCFFSQH OBGKSF"
   ]
  },
  {
   "cell_type": "markdown",
   "id": "1d4eec1a-2117-4988-adcd-173820cec2d7",
   "metadata": {},
   "source": [
    "4. Desenhe a função de massa de probabilidade e a distribuição acumulada das seguintes probabilidades de resultados:"
   ]
  },
  {
   "cell_type": "markdown",
   "id": "e6dac3b7-0343-4f88-8199-2643d66b980a",
   "metadata": {},
   "source": [
    "|Outcome|   p  |\n",
    "|-------|------|\n",
    "|   1   | 0.1  |\n",
    "|   2   | 0.15 |\n",
    "|   3   | 0.2  |\n",
    "|   4   | 0.21 |\n",
    "|   5   | 0.17 |\n",
    "|   6   | 0.09 |\n",
    "|   7   | 0.06 |\n",
    "|   8   | 0.02 |"
   ]
  },
  {
   "cell_type": "code",
   "execution_count": 6,
   "id": "16964c9f-8406-4585-94fe-f9449076f750",
   "metadata": {},
   "outputs": [
    {
     "data": {
      "image/png": "[encoded data removed]",
      "text/plain": [
       "<Figure size 1000x500 with 1 Axes>"
      ]
     },
     "metadata": {},
     "output_type": "display_data"
    }
   ],
   "source": [
    "import numpy as np\n",
    "import matplotlib.pyplot as plt\n",
    "\n",
    "outcome = np.array([1, 2, 3, 4, 5, 6, 7, 8])\n",
    "p = np.array([0.1, 0.15, 0.2, 0.21, 0.17, 0.09, 0.06, 0.02])\n",
    "fda = np.cumsum(p) # Soma cumulativa das probabilidades (Função de Distruibuição Acumulada)\n",
    "\n",
    "plt.figure(figsize=(10,5))\n",
    "plt.step(outcome, p, color='r', label=\"FMB\")\n",
    "plt.step(outcome, fda, color='b', label=\"FDA\")\n",
    "plt.xlabel(\"Outcome\")\n",
    "plt.ylabel(\"p\")\n",
    "plt.title(\"Função de Massa de Probabilidade e Distruibuição Acumulada\")\n",
    "plt.legend()\n",
    "plt.grid(True)\n",
    "\n",
    "plt.show()"
   ]
  },
  {
   "cell_type": "markdown",
   "id": "f785e06d-f372-482d-bcf2-89d402840fc0",
   "metadata": {},
   "source": [
    "5. Quantos bits precisamos para codificar independentemente $v_1$ e $v_2$ a partir dos dados em http://www.networkatlas.eu/exercises/2/5/data.txt? Quanto economizaríamos na codificação de $v_1$ se soubéssemos $v_2$?"
   ]
  },
  {
   "cell_type": "markdown",
   "id": "29e97c3b-39a2-4abd-aa21-3e2ee7dd26c5",
   "metadata": {},
   "source": [
    "Para isso é necessário calcular a entropia de $v_1$ e $v_2$, mas antes é preciso encontrar as distribuições de probabilidade para ambos.\n",
    "\n",
    "| $v_1$ |ocorrências|-| $v_2$ |ocorrências|\n",
    "|-------|-----------|-|-------|-----------|\n",
    "|   a   |     8     |-|   a   |     7     |\n",
    "|   b   |     6     |-|   d   |     5     |\n",
    "|   c   |     7     |-|   f   |     9     |\n",
    "|   d   |     8     |-|   g   |     7     |\n",
    "|   e   |     12    |-|   h   |     6     |\n",
    "|   f   |     5     |-|   j   |     4     |\n",
    "|   -   |     -     |-|   k   |     1     |\n",
    "|   -   |     -     |-|   s   |     7     |\n",
    "|   T   |     46    |-|   T   |     46    |\n",
    "\n",
    "A entropia (E) será calculada como a soma das multiplicações entre a probabilidade pela quantidade respectiva de bits encontrada.\n",
    "\n",
    "| $v_1$ |       p      |     bits $log_2()$    |-| Entropia = p x bits |\n",
    "|-------|--------------|-----------------------|-|---------------------|\n",
    "|  P(a) |  8/46 = 0.17 | $-log_2(0.17)$ = 2.52 |-|  0.17 x 2.52 = 0.44 |\n",
    "|  P(b) |  6/46 = 0.13 | $-log_2(0.13)$ = 2.94 |-|  0.13 x 2.94 = 0.38 |\n",
    "|  P(c) |  7/46 = 0.15 | $-log_2(0.15)$ = 2.72 |-|  0.15 x 2.72 = 0.41 |\n",
    "|  P(d) |  8/46 = 0.17 | $-log_2(0.17)$ = 2.52 |-|  0.17 x 2.52 = 0.44 |\n",
    "|  P(e) | 12/46 = 0.26 | $-log_2(0.26)$ = 1.94 |-|  0.26 x 1.94 = 0.50 |\n",
    "|  P(f) |  5/46 = 0.11 | $-log_2(0.11)$ = 3.20 |-|  0.11 x 3.20 = 0.35 |\n",
    "|   -   |       -      |           -           |-|          -          |\n",
    "|   -   |       -      |           -           |-|          -          |\n",
    "|   E   |       -      |           -           |-|         2,52        |\n",
    "\n",
    "| $v_2$ |    probab    |     bits $log_2()$    |-| Entropia = p x bits |\n",
    "|-------|--------------|-----------------------|-|---------------------|\n",
    "|  P(a) |  7/46 = 0.15 | $-log_2(0.15)$ = 2.72 |-|  0.15 x 2.72 = 0.41 |\n",
    "|  P(d) |  5/46 = 0.11 | $-log_2(0.11)$ = 3.20 |-|  0.11 x 3.20 = 0.35 |\n",
    "|  P(f) |  9/46 = 0.19 | $-log_2(0.19)$ = 2.35 |-|  0.19 x 2.35 = 0.46 |\n",
    "|  P(g) |  7/46 = 0.15 | $-log_2(0.15)$ = 2.72 |-|  0.15 x 2.72 = 0.41 |\n",
    "|  P(h) |  6/46 = 0.13 | $-log_2(0.13)$ = 2.94 |-|  0.13 x 2.94 = 0.38 |\n",
    "|  P(j) |  4/46 = 0.09 | $-log_2(0.09)$ = 3.52 |-|  0.09 x 3.52 = 0.30 |\n",
    "|  P(k) |  1/46 = 0.02 | $-log_2(0.02)$ = 5.52 |-|  0.02 x 5.52 = 0.12 |\n",
    "|  P(s) |  7/46 = 0.15 | $-log_2(0.15)$ = 2.72 |-|  0.15 x 2.72 = 0.41 |\n",
    "|   E   |       -      |           -           |-|         2,84        |"
   ]
  }
 ],
 "metadata": {
  "kernelspec": {
   "display_name": "Python 3 (ipykernel)",
   "language": "python",
   "name": "python3"
  },
  "language_info": {
   "codemirror_mode": {
    "name": "ipython",
    "version": 3
   },
   "file_extension": ".py",
   "mimetype": "text/x-python",
   "name": "python",
   "nbconvert_exporter": "python",
   "pygments_lexer": "ipython3",
   "version": "3.11.5"
  }
 },
 "nbformat": 4,
 "nbformat_minor": 5
}
