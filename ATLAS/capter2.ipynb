{
 "cells": [
  {
   "cell_type": "markdown",
   "id": "a8e21182-e823-4901-b713-9cb13f9b9071",
   "metadata": {},
   "source": [
    "# Exercises of capter 2"
   ]
  },
  {
   "cell_type": "markdown",
   "id": "ab29686f-57b5-4471-a74a-a2c2fefd5827",
   "metadata": {},
   "source": [
    "## 2.10 Exercises"
   ]
  },
  {
   "cell_type": "markdown",
   "id": "9e7628c9-0f20-4c90-8724-796cc61653a3",
   "metadata": {},
   "source": [
    "1. Suppose you're tossing two coins at the same time. They're loaded in different ways, according to the table below. Calculate the probability of getting all possible outcomes:"
   ]
  },
  {
   "cell_type": "markdown",
   "id": "827e8808-1445-4122-8240-8d11e49a3df6",
   "metadata": {},
   "source": [
    "|p_1(H)|p_1(H)|-|H-H|H-T|T-H|T-T|\n",
    "|------|------|-|---|---|---|---|\n",
    "|  0.5 |  0.5 |-|   |   |   |   |\n",
    "|  0.6 |  0.7 |-|   |   |   |   |\n",
    "|  0.4 |  0.8 |-|   |   |   |   |\n",
    "|  0.1 |  0.2 |-|   |   |   |   |\n",
    "|  0.3 |  0.4 |-|   |   |   |   |"
   ]
  },
  {
   "cell_type": "code",
   "execution_count": null,
   "id": "91cf1551-7430-42a0-8103-c07de1e5abd8",
   "metadata": {},
   "outputs": [],
   "source": []
  },
  {
   "cell_type": "markdown",
   "id": "9eaa0f48-53f4-4bd7-9ed9-9207b7ac5d52",
   "metadata": {},
   "source": [
    "2. 60% of the emails hitting my inbox is spam. You design a phenomenal spam filter which is able to tell me, with 98% accuracy, whether an email is spam or not: if an email is not spam, the system has a 9% probability of saying so. To filter jnows 60% of emails are spam and so it will flag 60% of my emails. Suppose that, at the end od the week, i look in my spam box and see 963 emails. Use Bayes' Theorem to calculate how many of those 963 emails in my spam box I should suspect to be non-spam."
   ]
  },
  {
   "cell_type": "code",
   "execution_count": null,
   "id": "94b7cdfb-2c4b-4008-af8a-5b715900e2c7",
   "metadata": {},
   "outputs": [],
   "source": []
  },
  {
   "cell_type": "markdown",
   "id": "9b534cb2-265b-4c92-a11f-a7a6fd220f7d",
   "metadata": {},
   "source": [
    "Ypu're given the string: \"OCZ XJMMZXO VINRZM\". Each letter follos a stochatic Markov process with the rules expressed by the table at http://www.networkatlas.eu/exercises/2/3/data.txt. Follow the process for three steps and reconstruct the correct answer. (Note, this is a Caesar cipher with shift 7 applied three times, because the Caesar cipher is a Markov process)."
   ]
  },
  {
   "cell_type": "code",
   "execution_count": null,
   "id": "33eef658-083e-4824-845a-20ea53e04945",
   "metadata": {},
   "outputs": [],
   "source": []
  },
  {
   "cell_type": "raw",
   "id": "ec378d7c-a5fa-4302-9844-4415fd67c3f1",
   "metadata": {},
   "source": [
    "Draw the probability mass function and the cumulative distribution of the following outcome probabilities:"
   ]
  },
  {
   "cell_type": "markdown",
   "id": "e6dac3b7-0343-4f88-8199-2643d66b980a",
   "metadata": {},
   "source": [
    "|Outcome|-|   p  |\n",
    "|-------|-|------|\n",
    "|   1   |-| 0.1  |\n",
    "|   2   |-| 0.15 |\n",
    "|   3   |-| 0.2  |\n",
    "|   4   |-| 0.21 |\n",
    "|   5   |-| 0.17 |\n",
    "|   6   |-| 0.09 |\n",
    "|   7   |-| 0.06 |\n",
    "|   8   |-| 0.02 |"
   ]
  },
  {
   "cell_type": "code",
   "execution_count": null,
   "id": "16964c9f-8406-4585-94fe-f9449076f750",
   "metadata": {},
   "outputs": [],
   "source": []
  },
  {
   "cell_type": "markdown",
   "id": "f785e06d-f372-482d-bcf2-89d402840fc0",
   "metadata": {},
   "source": [
    "5. How many bits do we need to independently encode v1 and v2 from http://www.networkatlas.eu/exercises/2/5/data.txt? How much would we save in encoding v1 if we knew v2?"
   ]
  },
  {
   "cell_type": "code",
   "execution_count": null,
   "id": "7cb03397-76b8-4322-8a18-e14bc7829901",
   "metadata": {},
   "outputs": [],
   "source": []
  }
 ],
 "metadata": {
  "kernelspec": {
   "display_name": "Python 3 (ipykernel)",
   "language": "python",
   "name": "python3"
  },
  "language_info": {
   "codemirror_mode": {
    "name": "ipython",
    "version": 3
   },
   "file_extension": ".py",
   "mimetype": "text/x-python",
   "name": "python",
   "nbconvert_exporter": "python",
   "pygments_lexer": "ipython3",
   "version": "3.11.5"
  }
 },
 "nbformat": 4,
 "nbformat_minor": 5
}
